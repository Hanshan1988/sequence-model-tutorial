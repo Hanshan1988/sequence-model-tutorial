{
 "cells": [
  {
   "cell_type": "markdown",
   "id": "d692cc8e-c80b-432e-b994-ca6917333210",
   "metadata": {},
   "source": [
    "# Basic Supervised Linear Models"
   ]
  },
  {
   "cell_type": "markdown",
   "id": "c30d3b11-c0bd-46fb-a9b2-c6749a7baa86",
   "metadata": {},
   "source": [
    "## Import Pacakges"
   ]
  },
  {
   "cell_type": "code",
   "execution_count": 10,
   "id": "f950c04a-2788-4f3c-b1db-20a3cf97dfce",
   "metadata": {},
   "outputs": [],
   "source": [
    "import tensorflow as tf\n",
    "import torch\n",
    "\n",
    "import numpy as np\n",
    "import sys\n",
    "\n",
    "from d2l import tensorflow as d2l_tf\n",
    "from d2l import torch as d2l_torch"
   ]
  },
  {
   "cell_type": "markdown",
   "id": "ecdee1e3-cba0-46bd-94d8-f1dbcbc96c7e",
   "metadata": {},
   "source": [
    "## Problem - Regression"
   ]
  },
  {
   "cell_type": "markdown",
   "id": "55b1c876-dbb8-4f59-b313-bd09a524752c",
   "metadata": {},
   "source": [
    "### Data Preparation"
   ]
  },
  {
   "cell_type": "code",
   "execution_count": 11,
   "id": "1a48c5ea-1b01-46a5-804d-ebcb14cb19a3",
   "metadata": {},
   "outputs": [],
   "source": [
    "true_w = tf.constant([2, -3.4])\n",
    "true_b = 4.2\n",
    "features, labels = d2l_tf.synthetic_data(true_w, true_b, 1000)"
   ]
  },
  {
   "cell_type": "code",
   "execution_count": 12,
   "id": "52dba917-8b76-40a1-a424-82b15ec24e92",
   "metadata": {},
   "outputs": [],
   "source": [
    "def load_array(data_arrays, batch_size, is_train=True):  #@save\n",
    "    \"\"\"Construct a TensorFlow data iterator.\"\"\"\n",
    "    dataset = tf.data.Dataset.from_tensor_slices(data_arrays)\n",
    "    if is_train:\n",
    "        dataset = dataset.shuffle(buffer_size=1000)\n",
    "    dataset = dataset.batch(batch_size)\n",
    "    return dataset"
   ]
  },
  {
   "cell_type": "code",
   "execution_count": 13,
   "id": "9fac7226-fdc2-4163-81c5-3a546ad36732",
   "metadata": {},
   "outputs": [],
   "source": [
    "batch_size = 10\n",
    "data_iter = load_array((features, labels), batch_size)"
   ]
  },
  {
   "cell_type": "code",
   "execution_count": 14,
   "id": "67ce96df-9b15-4152-976e-5f129b21d698",
   "metadata": {},
   "outputs": [
    {
     "data": {
      "text/plain": [
       "(<tf.Tensor: shape=(10, 2), dtype=float32, numpy=\n",
       " array([[ 0.38556144,  0.46798027],\n",
       "        [-1.0822797 , -1.5813764 ],\n",
       "        [ 1.8695663 ,  0.97798365],\n",
       "        [-0.536385  ,  2.6069794 ],\n",
       "        [ 1.3276417 ,  0.53860104],\n",
       "        [ 1.5891473 , -0.47093946],\n",
       "        [-2.4650126 , -0.65770197],\n",
       "        [-0.11323174, -0.7895348 ],\n",
       "        [ 1.1749082 , -0.7547458 ],\n",
       "        [ 0.51316386,  1.404241  ]], dtype=float32)>,\n",
       " <tf.Tensor: shape=(10, 1), dtype=float32, numpy=\n",
       " array([[ 3.3851452 ],\n",
       "        [ 7.4212036 ],\n",
       "        [ 4.609002  ],\n",
       "        [-5.7508397 ],\n",
       "        [ 5.0231094 ],\n",
       "        [ 8.974861  ],\n",
       "        [ 1.5128747 ],\n",
       "        [ 6.6552925 ],\n",
       "        [ 9.130929  ],\n",
       "        [ 0.46831405]], dtype=float32)>)"
      ]
     },
     "execution_count": 14,
     "metadata": {},
     "output_type": "execute_result"
    }
   ],
   "source": [
    "next(iter(data_iter))"
   ]
  },
  {
   "cell_type": "markdown",
   "id": "176b14e8-6479-4ff0-af0f-c5bf615c5bdf",
   "metadata": {},
   "source": [
    "---"
   ]
  },
  {
   "cell_type": "code",
   "execution_count": null,
   "id": "6904357f-9d6a-46fa-b7ad-1556e03dbfb9",
   "metadata": {},
   "outputs": [],
   "source": []
  },
  {
   "cell_type": "markdown",
   "id": "5d664979-c834-44ec-af58-95d99fff1e1c",
   "metadata": {},
   "source": [
    "### Model Training"
   ]
  },
  {
   "cell_type": "markdown",
   "id": "354b4def-cfae-4b7b-8b7b-80914ff81b39",
   "metadata": {},
   "source": [
    "#### TF Sequential API"
   ]
  },
  {
   "cell_type": "code",
   "execution_count": 15,
   "id": "9cc84dea-1156-4ba0-ad4e-1a615ca288db",
   "metadata": {},
   "outputs": [],
   "source": [
    "# `keras` is the high-level API for TensorFlow\n",
    "net = tf.keras.Sequential()\n",
    "net.add(tf.keras.layers.Dense(1))"
   ]
  },
  {
   "cell_type": "markdown",
   "id": "01c79b54-7062-4c1a-9b2c-eea7b41d540f",
   "metadata": {},
   "source": [
    "#### TF Functional API"
   ]
  },
  {
   "cell_type": "code",
   "execution_count": null,
   "id": "27c246aa-ebe1-434e-86ad-7afce58c26ff",
   "metadata": {},
   "outputs": [],
   "source": []
  }
 ],
 "metadata": {
  "kernelspec": {
   "display_name": "py38",
   "language": "python",
   "name": "py38"
  },
  "language_info": {
   "codemirror_mode": {
    "name": "ipython",
    "version": 3
   },
   "file_extension": ".py",
   "mimetype": "text/x-python",
   "name": "python",
   "nbconvert_exporter": "python",
   "pygments_lexer": "ipython3",
   "version": "3.8.12"
  }
 },
 "nbformat": 4,
 "nbformat_minor": 5
}
