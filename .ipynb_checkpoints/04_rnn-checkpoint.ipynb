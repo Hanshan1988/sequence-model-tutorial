{
 "cells": [
  {
   "cell_type": "markdown",
   "id": "d692cc8e-c80b-432e-b994-ca6917333210",
   "metadata": {},
   "source": [
    "# Recurrent Neural Networks"
   ]
  },
  {
   "cell_type": "markdown",
   "id": "c30d3b11-c0bd-46fb-a9b2-c6749a7baa86",
   "metadata": {},
   "source": [
    "## Import Pacakges"
   ]
  },
  {
   "cell_type": "code",
   "execution_count": 1,
   "id": "f950c04a-2788-4f3c-b1db-20a3cf97dfce",
   "metadata": {},
   "outputs": [],
   "source": [
    "import tensorflow as tf\n",
    "import torch\n",
    "from torch import nn\n",
    "from torch.utils import data\n",
    "from torch.autograd import Variable\n",
    "\n",
    "import random\n",
    "import sys\n",
    "import numpy as np\n",
    "import matplotlib.pyplot as plt\n",
    "from sklearn.preprocessing import OneHotEncoder\n",
    "\n",
    "plt.rcParams[\"figure.figsize\"] = (8, 8)"
   ]
  },
  {
   "cell_type": "code",
   "execution_count": 2,
   "id": "771b5455-3d51-4e34-90be-ef7ce412fe82",
   "metadata": {},
   "outputs": [
    {
     "name": "stdout",
     "output_type": "stream",
     "text": [
      "2.8.0\n"
     ]
    }
   ],
   "source": [
    "print(tf.__version__)"
   ]
  },
  {
   "cell_type": "code",
   "execution_count": 3,
   "id": "35f53b2d-2302-49a7-abf6-0a1c6b653b0a",
   "metadata": {},
   "outputs": [
    {
     "name": "stdout",
     "output_type": "stream",
     "text": [
      "1.8.0\n"
     ]
    }
   ],
   "source": [
    "print(torch.__version__)"
   ]
  },
  {
   "cell_type": "markdown",
   "id": "8809fabc-c506-447e-9db8-0c805992287c",
   "metadata": {},
   "source": [
    "* https://datascience-enthusiast.com/DL/Building_a_Recurrent_Neural_Network-Step_by_Step_v1.html\n",
    "* https://www.tensorflow.org/tutorials/structured_data/time_series\n",
    "* https://d2l.ai/chapter_recurrent-neural-networks/sequence.html\n",
    "* https://towardsdatascience.com/building-rnn-lstm-and-gru-for-time-series-using-pytorch-a46e5b094e7b\n",
    "* https://colah.github.io/posts/2015-08-Understanding-LSTMs/\n",
    "* http://karpathy.github.io/2015/05/21/rnn-effectiveness/\n",
    "* https://towardsdatascience.com/all-you-need-to-know-about-rnns-e514f0b00c7c"
   ]
  },
  {
   "cell_type": "markdown",
   "id": "cb2d3300-4d20-4855-b0d1-913e87349b84",
   "metadata": {},
   "source": [
    "## Global Variables"
   ]
  },
  {
   "cell_type": "code",
   "execution_count": 180,
   "id": "0a8c38a4-8a04-456f-9d7c-0f5cccff41eb",
   "metadata": {},
   "outputs": [],
   "source": [
    "LEARNING_RATE = 0.03\n",
    "NUM_EPOCHS = 70\n",
    "BATCH_SIZE = 64\n",
    "INIT_STDDEV = 0.01 # model weights - random initialisation from normal distribution\n",
    "NUM_EXAMPLES = 100\n",
    "BASE_COLORS = list(plt.cm.colors.BASE_COLORS.keys())\n",
    "HEAD_ROWS = 10"
   ]
  },
  {
   "cell_type": "markdown",
   "id": "ecdee1e3-cba0-46bd-94d8-f1dbcbc96c7e",
   "metadata": {},
   "source": [
    "## Step by Step Run Through"
   ]
  },
  {
   "cell_type": "code",
   "execution_count": 171,
   "id": "a76f554d-6f7f-4362-bf53-b811b4200f19",
   "metadata": {},
   "outputs": [],
   "source": [
    "def ohe_encode_str_seq(str_seq):\n",
    "    \"\"\"\n",
    "    one-hot-encode a string sequence\n",
    "    \"\"\"\n",
    "    seq_reshaped = np.array([char for char in str_seq]).reshape(-1, 1) \n",
    "    ohe_enc = OneHotEncoder()\n",
    "    ohe_enc.fit(sequence)\n",
    "    seq_ohe = ohe_enc.transform(seq_reshaped).toarray()\n",
    "    return seq_ohe, ohe_enc"
   ]
  },
  {
   "cell_type": "code",
   "execution_count": 172,
   "id": "4b5ff4f9-66ac-4ee1-b885-1a664f24fc38",
   "metadata": {},
   "outputs": [
    {
     "data": {
      "text/plain": [
       "'abbccabbccabbccabbccabbccabbccabbccabbccabbccabbccabbccabbccabbccabbccabbccabbccabbccabbccabbccabbcc'"
      ]
     },
     "execution_count": 172,
     "metadata": {},
     "output_type": "execute_result"
    }
   ],
   "source": [
    "# sequence = 'abcabcabcabcabc'\n",
    "str_seq = 'abbccabbcc' * 10\n",
    "str_seq"
   ]
  },
  {
   "cell_type": "code",
   "execution_count": 173,
   "id": "189a2255-f161-4b32-bdc3-b00280e51fe5",
   "metadata": {},
   "outputs": [],
   "source": [
    "str_seq_ohe, ohe_enc = ohe_encode_str_seq(str_seq)"
   ]
  },
  {
   "cell_type": "code",
   "execution_count": 176,
   "id": "20da6172-0a3e-4f4a-9637-e0b1d20bb523",
   "metadata": {},
   "outputs": [
    {
     "name": "stdout",
     "output_type": "stream",
     "text": [
      "(100, 3)\n"
     ]
    },
    {
     "data": {
      "text/plain": [
       "array([[1., 0., 0.],\n",
       "       [0., 1., 0.],\n",
       "       [0., 1., 0.],\n",
       "       [0., 0., 1.],\n",
       "       [0., 0., 1.],\n",
       "       [1., 0., 0.],\n",
       "       [0., 1., 0.],\n",
       "       [0., 1., 0.],\n",
       "       [0., 0., 1.],\n",
       "       [0., 0., 1.]])"
      ]
     },
     "execution_count": 176,
     "metadata": {},
     "output_type": "execute_result"
    }
   ],
   "source": [
    "print(str_seq_ohe.shape)\n",
    "str_seq_ohe[: HEAD_ROWS]"
   ]
  },
  {
   "cell_type": "code",
   "execution_count": 145,
   "id": "8cac8810-f6b0-4975-b9a3-b9e1b94c1861",
   "metadata": {},
   "outputs": [],
   "source": [
    "# numeric example\n",
    "t = np.arange(0, 20, 0.2)\n",
    "# x0 = np.array([1, 2, 3, 2, 1, 1, 2, 3, 2, 1] * 10)\n",
    "x0 = 10 * np.sin(t)\n",
    "x1 = np.arange(NUM_EXAMPLES)\n",
    "x2 = x0 + x1\n",
    "num_seq = np.swapaxes(np.array((x0, x1, x2)), 0, 1)"
   ]
  },
  {
   "cell_type": "code",
   "execution_count": 177,
   "id": "6cc7b8ec-6c33-4487-916e-114627cb9598",
   "metadata": {},
   "outputs": [
    {
     "data": {
      "text/plain": [
       "array([[ 0.        ,  0.        ,  0.        ],\n",
       "       [ 1.98669331,  1.        ,  2.98669331],\n",
       "       [ 3.89418342,  2.        ,  5.89418342],\n",
       "       [ 5.64642473,  3.        ,  8.64642473],\n",
       "       [ 7.17356091,  4.        , 11.17356091],\n",
       "       [ 8.41470985,  5.        , 13.41470985],\n",
       "       [ 9.32039086,  6.        , 15.32039086],\n",
       "       [ 9.8544973 ,  7.        , 16.8544973 ],\n",
       "       [ 9.99573603,  8.        , 17.99573603],\n",
       "       [ 9.73847631,  9.        , 18.73847631]])"
      ]
     },
     "execution_count": 177,
     "metadata": {},
     "output_type": "execute_result"
    }
   ],
   "source": [
    "num_seq[: HEAD_ROWS]"
   ]
  },
  {
   "cell_type": "code",
   "execution_count": 178,
   "id": "00056685-86f9-4091-9803-e9b0f574c18e",
   "metadata": {},
   "outputs": [
    {
     "data": {
      "text/plain": [
       "[<matplotlib.lines.Line2D at 0x292f91f40>]"
      ]
     },
     "execution_count": 178,
     "metadata": {},
     "output_type": "execute_result"
    },
    {
     "data": {
      "image/png": "[encoded data removed]",
      "text/plain": [
       "<Figure size 576x576 with 1 Axes>"
      ]
     },
     "metadata": {
      "needs_background": "light"
     },
     "output_type": "display_data"
    }
   ],
   "source": [
    "plt.plot(x2)"
   ]
  },
  {
   "cell_type": "code",
   "execution_count": 152,
   "id": "109b44cc-db8b-47a5-b0ad-9589c8524388",
   "metadata": {},
   "outputs": [],
   "source": [
    "def get_ts_X_y(seq, batch_size, seq_len, n_features, output_idx=None, lookahead=1):\n",
    "    \"\"\"\n",
    "    Split sequence into features X and label y so that it's ready to be trained\n",
    "    if output_idx is None then we're predicting all indices of the output y \n",
    "    \"\"\"\n",
    "    X = np.zeros((batch_size, seq_len, n_features))\n",
    "    y = np.zeros((batch_size, n_features))\n",
    "    for i in range(batch_size):\n",
    "        start_idx = np.random.choice(range(len(seq) - seq_len - lookahead))\n",
    "        x_obs = seq[start_idx : start_idx + seq_len]\n",
    "        y_obs = seq[start_idx + seq_len + lookahead]\n",
    "        X[i] = x_obs\n",
    "        y[i] = y_obs\n",
    "    if output_idx is not None:\n",
    "        y = y[:, output_idx]\n",
    "    print(X.shape, y.shape)\n",
    "    return X, y"
   ]
  },
  {
   "cell_type": "code",
   "execution_count": 179,
   "id": "ccc70d99-6752-4884-9fc2-e7944353bd25",
   "metadata": {},
   "outputs": [
    {
     "name": "stdout",
     "output_type": "stream",
     "text": [
      "(64, 15, 3) (64,)\n"
     ]
    }
   ],
   "source": [
    "n_features = len(num_seq[0])\n",
    "seq_len = 15\n",
    "X, y = get_ts_X_y(num_seq, BATCH_SIZE, seq_len, n_features, output_idx=2)"
   ]
  },
  {
   "cell_type": "code",
   "execution_count": 156,
   "id": "c85d3136-7df7-4503-a8a0-69f08cdb8d99",
   "metadata": {},
   "outputs": [],
   "source": [
    "# model = tf.keras.Sequential([\n",
    "#     tf.keras.layers.LSTM(50, activation='relu', input_shape=(n_steps, n_features)),\n",
    "#     tf.keras.layers.Dense(n_features, activation=tf.nn.softmax)\n",
    "# ])"
   ]
  },
  {
   "cell_type": "code",
   "execution_count": 157,
   "id": "95225e29-02eb-4f1e-92df-185ddfbc6433",
   "metadata": {},
   "outputs": [
    {
     "name": "stdout",
     "output_type": "stream",
     "text": [
      "WARNING:tensorflow:Layer lstm_7 will not use cuDNN kernels since it doesn't meet the criteria. It will use a generic GPU kernel as fallback when running on GPU.\n"
     ]
    }
   ],
   "source": [
    "model = tf.keras.Sequential([\n",
    "    tf.keras.layers.LSTM(50, activation='relu', input_shape=(seq_len, n_features)),\n",
    "    tf.keras.layers.Dense(1)\n",
    "])"
   ]
  },
  {
   "cell_type": "code",
   "execution_count": 158,
   "id": "08a2ef83-33e9-43b7-9cfa-971a6d553bae",
   "metadata": {},
   "outputs": [
    {
     "name": "stdout",
     "output_type": "stream",
     "text": [
      "Model: \"sequential_7\"\n",
      "_________________________________________________________________\n",
      " Layer (type)                Output Shape              Param #   \n",
      "=================================================================\n",
      " lstm_7 (LSTM)               (None, 50)                10800     \n",
      "                                                                 \n",
      " dense_7 (Dense)             (None, 1)                 51        \n",
      "                                                                 \n",
      "=================================================================\n",
      "Total params: 10,851\n",
      "Trainable params: 10,851\n",
      "Non-trainable params: 0\n",
      "_________________________________________________________________\n"
     ]
    }
   ],
   "source": [
    "model.summary()"
   ]
  },
  {
   "cell_type": "code",
   "execution_count": 159,
   "id": "ad9be75d-c894-4fd8-a208-82803807d1df",
   "metadata": {},
   "outputs": [],
   "source": [
    "# model.compile(loss='categorical_crossentropy',\n",
    "#               optimizer='adam',\n",
    "#               metrics=['accuracy'])"
   ]
  },
  {
   "cell_type": "code",
   "execution_count": 160,
   "id": "52bbb73c-8393-473f-95bc-8bd296dbe4e3",
   "metadata": {},
   "outputs": [],
   "source": [
    "model.compile(loss='mse',\n",
    "              optimizer='adam',\n",
    "              metrics=['accuracy'])"
   ]
  },
  {
   "cell_type": "markdown",
   "id": "7ca1673a-680d-4264-80a9-c1b349c73850",
   "metadata": {},
   "source": [
    "For tf.keras.layers.LSTM model we need inputs with shape `[batch_size, n_timesteps, n_features]`"
   ]
  },
  {
   "cell_type": "code",
   "execution_count": 161,
   "id": "3dcd8f7e-ea63-4e7d-b0b4-0cbad319df29",
   "metadata": {},
   "outputs": [
    {
     "name": "stdout",
     "output_type": "stream",
     "text": [
      "Epoch 1/100\n"
     ]
    },
    {
     "name": "stderr",
     "output_type": "stream",
     "text": [
      "2022-05-13 20:58:02.699262: I tensorflow/core/grappler/optimizers/custom_graph_optimizer_registry.cc:113] Plugin optimizer for device_type GPU is enabled.\n"
     ]
    },
    {
     "name": "stdout",
     "output_type": "stream",
     "text": [
      "2/2 [==============================] - 1s 165ms/step - loss: 3903.8635 - accuracy: 0.0000e+00\n",
      "Epoch 2/100\n",
      "2/2 [==============================] - 0s 168ms/step - loss: 3311.2126 - accuracy: 0.0000e+00\n",
      "Epoch 3/100\n",
      "2/2 [==============================] - 0s 174ms/step - loss: 2799.4602 - accuracy: 0.0000e+00\n",
      "Epoch 4/100\n",
      "2/2 [==============================] - 0s 172ms/step - loss: 2373.4917 - accuracy: 0.0000e+00\n",
      "Epoch 5/100\n",
      "2/2 [==============================] - 0s 167ms/step - loss: 1837.9104 - accuracy: 0.0000e+00\n",
      "Epoch 6/100\n",
      "2/2 [==============================] - 0s 156ms/step - loss: 1270.1189 - accuracy: 0.0000e+00\n",
      "Epoch 7/100\n",
      "2/2 [==============================] - 0s 169ms/step - loss: 424.5142 - accuracy: 0.0000e+00\n",
      "Epoch 8/100\n",
      "2/2 [==============================] - 0s 169ms/step - loss: 804.1145 - accuracy: 0.0000e+00\n",
      "Epoch 9/100\n",
      "2/2 [==============================] - 0s 170ms/step - loss: 155.3326 - accuracy: 0.0000e+00\n",
      "Epoch 10/100\n",
      "2/2 [==============================] - 0s 146ms/step - loss: 168.2041 - accuracy: 0.0000e+00\n",
      "Epoch 11/100\n",
      "2/2 [==============================] - 0s 144ms/step - loss: 172.9986 - accuracy: 0.0000e+00\n",
      "Epoch 12/100\n",
      "2/2 [==============================] - 0s 165ms/step - loss: 148.6892 - accuracy: 0.0000e+00\n",
      "Epoch 13/100\n",
      "2/2 [==============================] - 0s 169ms/step - loss: 92.2128 - accuracy: 0.0000e+00\n",
      "Epoch 14/100\n",
      "2/2 [==============================] - 0s 142ms/step - loss: 60.2029 - accuracy: 0.0000e+00\n",
      "Epoch 15/100\n",
      "2/2 [==============================] - 0s 167ms/step - loss: 55.3306 - accuracy: 0.0000e+00\n",
      "Epoch 16/100\n",
      "2/2 [==============================] - 0s 170ms/step - loss: 54.5119 - accuracy: 0.0000e+00\n",
      "Epoch 17/100\n",
      "2/2 [==============================] - 0s 169ms/step - loss: 25.9532 - accuracy: 0.0000e+00\n",
      "Epoch 18/100\n",
      "2/2 [==============================] - 0s 173ms/step - loss: 37.1244 - accuracy: 0.0000e+00\n",
      "Epoch 19/100\n",
      "2/2 [==============================] - 0s 142ms/step - loss: 21.2321 - accuracy: 0.0000e+00\n",
      "Epoch 20/100\n",
      "2/2 [==============================] - 0s 173ms/step - loss: 38.6250 - accuracy: 0.0000e+00\n",
      "Epoch 21/100\n",
      "2/2 [==============================] - 0s 162ms/step - loss: 29.3219 - accuracy: 0.0000e+00\n",
      "Epoch 22/100\n",
      "2/2 [==============================] - 0s 145ms/step - loss: 16.9469 - accuracy: 0.0000e+00\n",
      "Epoch 23/100\n",
      "2/2 [==============================] - 0s 168ms/step - loss: 30.9100 - accuracy: 0.0000e+00\n",
      "Epoch 24/100\n",
      "2/2 [==============================] - 0s 168ms/step - loss: 24.7888 - accuracy: 0.0000e+00\n",
      "Epoch 25/100\n",
      "2/2 [==============================] - 0s 160ms/step - loss: 7.5522 - accuracy: 0.0000e+00\n",
      "Epoch 26/100\n",
      "2/2 [==============================] - 0s 143ms/step - loss: 17.2317 - accuracy: 0.0000e+00\n",
      "Epoch 27/100\n",
      "2/2 [==============================] - 0s 166ms/step - loss: 6.6886 - accuracy: 0.0000e+00\n",
      "Epoch 28/100\n",
      "2/2 [==============================] - 0s 154ms/step - loss: 5.0968 - accuracy: 0.0000e+00\n",
      "Epoch 29/100\n",
      "2/2 [==============================] - 0s 163ms/step - loss: 8.3674 - accuracy: 0.0000e+00\n",
      "Epoch 30/100\n",
      "2/2 [==============================] - 0s 169ms/step - loss: 9.1117 - accuracy: 0.0000e+00\n",
      "Epoch 31/100\n",
      "2/2 [==============================] - 0s 143ms/step - loss: 7.9461 - accuracy: 0.0000e+00\n",
      "Epoch 32/100\n",
      "2/2 [==============================] - 0s 168ms/step - loss: 6.4086 - accuracy: 0.0000e+00\n",
      "Epoch 33/100\n",
      "2/2 [==============================] - 0s 166ms/step - loss: 4.4767 - accuracy: 0.0000e+00\n",
      "Epoch 34/100\n",
      "2/2 [==============================] - 0s 173ms/step - loss: 3.4203 - accuracy: 0.0000e+00\n",
      "Epoch 35/100\n",
      "2/2 [==============================] - 0s 146ms/step - loss: 3.0019 - accuracy: 0.0000e+00\n",
      "Epoch 36/100\n",
      "2/2 [==============================] - 0s 167ms/step - loss: 2.9364 - accuracy: 0.0000e+00\n",
      "Epoch 37/100\n",
      "2/2 [==============================] - 0s 183ms/step - loss: 3.0784 - accuracy: 0.0000e+00\n",
      "Epoch 38/100\n",
      "2/2 [==============================] - 0s 156ms/step - loss: 2.7463 - accuracy: 0.0000e+00\n",
      "Epoch 39/100\n",
      "2/2 [==============================] - 0s 163ms/step - loss: 2.4831 - accuracy: 0.0000e+00\n",
      "Epoch 40/100\n",
      "2/2 [==============================] - 0s 152ms/step - loss: 2.1723 - accuracy: 0.0000e+00\n",
      "Epoch 41/100\n",
      "2/2 [==============================] - 0s 198ms/step - loss: 1.9146 - accuracy: 0.0000e+00\n",
      "Epoch 42/100\n",
      "2/2 [==============================] - 0s 171ms/step - loss: 1.7763 - accuracy: 0.0000e+00\n",
      "Epoch 43/100\n",
      "2/2 [==============================] - 0s 170ms/step - loss: 1.6080 - accuracy: 0.0000e+00\n",
      "Epoch 44/100\n",
      "2/2 [==============================] - 0s 160ms/step - loss: 1.4427 - accuracy: 0.0000e+00\n",
      "Epoch 45/100\n",
      "2/2 [==============================] - 0s 148ms/step - loss: 1.4130 - accuracy: 0.0000e+00\n",
      "Epoch 46/100\n",
      "2/2 [==============================] - 0s 168ms/step - loss: 1.2412 - accuracy: 0.0000e+00\n",
      "Epoch 47/100\n",
      "2/2 [==============================] - 0s 171ms/step - loss: 1.2211 - accuracy: 0.0000e+00\n",
      "Epoch 48/100\n",
      "2/2 [==============================] - 0s 152ms/step - loss: 1.1827 - accuracy: 0.0000e+00\n",
      "Epoch 49/100\n",
      "2/2 [==============================] - 0s 170ms/step - loss: 1.0686 - accuracy: 0.0000e+00\n",
      "Epoch 50/100\n",
      "2/2 [==============================] - 0s 169ms/step - loss: 0.9356 - accuracy: 0.0000e+00\n",
      "Epoch 51/100\n",
      "2/2 [==============================] - 0s 160ms/step - loss: 0.8424 - accuracy: 0.0000e+00\n",
      "Epoch 52/100\n",
      "2/2 [==============================] - 0s 144ms/step - loss: 0.9075 - accuracy: 0.0000e+00\n",
      "Epoch 53/100\n",
      "2/2 [==============================] - 0s 170ms/step - loss: 0.8218 - accuracy: 0.0000e+00\n",
      "Epoch 54/100\n",
      "2/2 [==============================] - 0s 171ms/step - loss: 0.7595 - accuracy: 0.0000e+00\n",
      "Epoch 55/100\n",
      "2/2 [==============================] - 0s 154ms/step - loss: 0.7609 - accuracy: 0.0000e+00\n",
      "Epoch 56/100\n",
      "2/2 [==============================] - 0s 149ms/step - loss: 0.7474 - accuracy: 0.0000e+00\n",
      "Epoch 57/100\n",
      "2/2 [==============================] - 0s 169ms/step - loss: 0.6994 - accuracy: 0.0000e+00\n",
      "Epoch 58/100\n",
      "2/2 [==============================] - 0s 142ms/step - loss: 0.6687 - accuracy: 0.0000e+00\n",
      "Epoch 59/100\n",
      "2/2 [==============================] - 0s 143ms/step - loss: 0.6273 - accuracy: 0.0000e+00\n",
      "Epoch 60/100\n",
      "2/2 [==============================] - 0s 168ms/step - loss: 0.6188 - accuracy: 0.0000e+00\n",
      "Epoch 61/100\n",
      "2/2 [==============================] - 0s 172ms/step - loss: 0.5787 - accuracy: 0.0000e+00\n",
      "Epoch 62/100\n",
      "2/2 [==============================] - 0s 159ms/step - loss: 0.5661 - accuracy: 0.0000e+00\n",
      "Epoch 63/100\n",
      "2/2 [==============================] - 0s 145ms/step - loss: 0.5519 - accuracy: 0.0000e+00\n",
      "Epoch 64/100\n",
      "2/2 [==============================] - 0s 145ms/step - loss: 0.5296 - accuracy: 0.0000e+00\n",
      "Epoch 65/100\n",
      "2/2 [==============================] - 0s 172ms/step - loss: 0.5203 - accuracy: 0.0000e+00\n",
      "Epoch 66/100\n",
      "2/2 [==============================] - 0s 170ms/step - loss: 0.5062 - accuracy: 0.0000e+00\n",
      "Epoch 67/100\n",
      "2/2 [==============================] - 0s 145ms/step - loss: 0.4970 - accuracy: 0.0000e+00\n",
      "Epoch 68/100\n",
      "2/2 [==============================] - 0s 160ms/step - loss: 0.5163 - accuracy: 0.0000e+00\n",
      "Epoch 69/100\n",
      "2/2 [==============================] - 0s 155ms/step - loss: 0.4707 - accuracy: 0.0000e+00\n",
      "Epoch 70/100\n",
      "2/2 [==============================] - 0s 170ms/step - loss: 0.4797 - accuracy: 0.0000e+00\n",
      "Epoch 71/100\n",
      "2/2 [==============================] - 0s 166ms/step - loss: 0.4592 - accuracy: 0.0000e+00\n",
      "Epoch 72/100\n",
      "2/2 [==============================] - 0s 170ms/step - loss: 0.4543 - accuracy: 0.0000e+00\n",
      "Epoch 73/100\n",
      "2/2 [==============================] - 0s 146ms/step - loss: 0.4306 - accuracy: 0.0000e+00\n",
      "Epoch 74/100\n",
      "2/2 [==============================] - 0s 143ms/step - loss: 0.4234 - accuracy: 0.0000e+00\n",
      "Epoch 75/100\n",
      "2/2 [==============================] - 0s 169ms/step - loss: 0.4344 - accuracy: 0.0000e+00\n",
      "Epoch 76/100\n",
      "2/2 [==============================] - 0s 166ms/step - loss: 0.4029 - accuracy: 0.0000e+00\n",
      "Epoch 77/100\n",
      "2/2 [==============================] - 0s 170ms/step - loss: 0.4069 - accuracy: 0.0000e+00\n",
      "Epoch 78/100\n",
      "2/2 [==============================] - 0s 169ms/step - loss: 0.3894 - accuracy: 0.0000e+00\n",
      "Epoch 79/100\n",
      "2/2 [==============================] - 0s 165ms/step - loss: 0.3904 - accuracy: 0.0000e+00\n",
      "Epoch 80/100\n",
      "2/2 [==============================] - 0s 146ms/step - loss: 0.3972 - accuracy: 0.0000e+00\n",
      "Epoch 81/100\n",
      "2/2 [==============================] - 0s 187ms/step - loss: 0.3738 - accuracy: 0.0000e+00\n",
      "Epoch 82/100\n",
      "2/2 [==============================] - 0s 168ms/step - loss: 0.3899 - accuracy: 0.0000e+00\n",
      "Epoch 83/100\n",
      "2/2 [==============================] - 0s 144ms/step - loss: 0.3675 - accuracy: 0.0000e+00\n",
      "Epoch 84/100\n",
      "2/2 [==============================] - 0s 171ms/step - loss: 0.3780 - accuracy: 0.0000e+00\n",
      "Epoch 85/100\n",
      "2/2 [==============================] - 0s 168ms/step - loss: 0.3610 - accuracy: 0.0000e+00\n",
      "Epoch 86/100\n",
      "2/2 [==============================] - 0s 170ms/step - loss: 0.3668 - accuracy: 0.0000e+00\n",
      "Epoch 87/100\n",
      "2/2 [==============================] - 0s 149ms/step - loss: 0.3418 - accuracy: 0.0000e+00\n",
      "Epoch 88/100\n",
      "2/2 [==============================] - 0s 166ms/step - loss: 0.3278 - accuracy: 0.0000e+00\n",
      "Epoch 89/100\n",
      "2/2 [==============================] - 0s 145ms/step - loss: 0.3363 - accuracy: 0.0000e+00\n",
      "Epoch 90/100\n",
      "2/2 [==============================] - 0s 168ms/step - loss: 0.3245 - accuracy: 0.0000e+00\n",
      "Epoch 91/100\n",
      "2/2 [==============================] - 0s 170ms/step - loss: 0.3253 - accuracy: 0.0000e+00\n",
      "Epoch 92/100\n",
      "2/2 [==============================] - 0s 168ms/step - loss: 0.3220 - accuracy: 0.0000e+00\n",
      "Epoch 93/100\n",
      "2/2 [==============================] - 0s 161ms/step - loss: 0.3151 - accuracy: 0.0000e+00\n",
      "Epoch 94/100\n",
      "2/2 [==============================] - 0s 150ms/step - loss: 0.3120 - accuracy: 0.0000e+00\n",
      "Epoch 95/100\n",
      "2/2 [==============================] - 0s 170ms/step - loss: 0.3160 - accuracy: 0.0000e+00\n",
      "Epoch 96/100\n",
      "2/2 [==============================] - 0s 145ms/step - loss: 0.3008 - accuracy: 0.0000e+00\n",
      "Epoch 97/100\n",
      "2/2 [==============================] - 0s 144ms/step - loss: 0.3074 - accuracy: 0.0000e+00\n",
      "Epoch 98/100\n",
      "2/2 [==============================] - 0s 173ms/step - loss: 0.3302 - accuracy: 0.0000e+00\n",
      "Epoch 99/100\n",
      "2/2 [==============================] - 0s 168ms/step - loss: 0.2951 - accuracy: 0.0000e+00\n",
      "Epoch 100/100\n",
      "2/2 [==============================] - 0s 170ms/step - loss: 0.2971 - accuracy: 0.0000e+00\n"
     ]
    }
   ],
   "source": [
    "# callback = tf.keras.callbacks.EarlyStopping(monitor='loss', patience=3, restore_best_weights=True)\n",
    "history = model.fit(X, y, epochs=NUM_EPOCHS, verbose=1, callbacks=[])"
   ]
  },
  {
   "cell_type": "code",
   "execution_count": 166,
   "id": "fac21157-ab79-46c0-8125-a8b90aff66b6",
   "metadata": {},
   "outputs": [
    {
     "name": "stdout",
     "output_type": "stream",
     "text": [
      "2/2 [==============================] - 0s 28ms/step\n"
     ]
    },
    {
     "data": {
      "text/plain": [
       "array([[85.2],\n",
       "       [54.2],\n",
       "       [89.6],\n",
       "       [85.2],\n",
       "       [26.1],\n",
       "       [39.1],\n",
       "       [17.7],\n",
       "       [40.2],\n",
       "       [45.1],\n",
       "       [70.9],\n",
       "       [29.4],\n",
       "       [49.4],\n",
       "       [29.4],\n",
       "       [50.7],\n",
       "       [79.9],\n",
       "       [58. ],\n",
       "       [92.5],\n",
       "       [84.9],\n",
       "       [80.9],\n",
       "       [61.3]], dtype=float32)"
      ]
     },
     "execution_count": 166,
     "metadata": {},
     "output_type": "execute_result"
    }
   ],
   "source": [
    "test_data = X # X[0].reshape(-1, n_steps, n_features)\n",
    "y_pred = model.predict(test_data, verbose=1)\n",
    "y_pred.round(1)[:20]"
   ]
  },
  {
   "cell_type": "code",
   "execution_count": 167,
   "id": "6cdb5406-b702-4eb4-a25c-cdfbe95f42f0",
   "metadata": {},
   "outputs": [
    {
     "data": {
      "text/plain": [
       "array([85., 55., 90., 85., 26., 40., 18., 40., 45., 70., 30., 50., 30.,\n",
       "       50., 80., 58., 93., 85., 81., 60.])"
      ]
     },
     "execution_count": 167,
     "metadata": {},
     "output_type": "execute_result"
    }
   ],
   "source": [
    "y[:20]"
   ]
  },
  {
   "cell_type": "code",
   "execution_count": null,
   "id": "31e6c318-31f2-442e-9bd3-8265b43674b8",
   "metadata": {},
   "outputs": [],
   "source": []
  }
 ],
 "metadata": {
  "kernelspec": {
   "display_name": "py38",
   "language": "python",
   "name": "py38"
  },
  "language_info": {
   "codemirror_mode": {
    "name": "ipython",
    "version": 3
   },
   "file_extension": ".py",
   "mimetype": "text/x-python",
   "name": "python",
   "nbconvert_exporter": "python",
   "pygments_lexer": "ipython3",
   "version": "3.8.12"
  }
 },
 "nbformat": 4,
 "nbformat_minor": 5
}
