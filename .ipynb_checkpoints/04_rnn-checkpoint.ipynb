{
 "cells": [
  {
   "cell_type": "markdown",
   "id": "d692cc8e-c80b-432e-b994-ca6917333210",
   "metadata": {},
   "source": [
    "# Recurrent Neural Networks"
   ]
  },
  {
   "cell_type": "markdown",
   "id": "c30d3b11-c0bd-46fb-a9b2-c6749a7baa86",
   "metadata": {},
   "source": [
    "## Import Pacakges"
   ]
  },
  {
   "cell_type": "code",
   "execution_count": 438,
   "id": "f950c04a-2788-4f3c-b1db-20a3cf97dfce",
   "metadata": {},
   "outputs": [],
   "source": [
    "import tensorflow as tf\n",
    "import torch\n",
    "from torch import nn\n",
    "from torch.utils import data\n",
    "from torch.autograd import Variable\n",
    "\n",
    "import random\n",
    "import sys\n",
    "import numpy as np\n",
    "import matplotlib.pyplot as plt\n",
    "from sklearn.preprocessing import OneHotEncoder\n",
    "\n",
    "plt.rcParams[\"figure.figsize\"] = (8, 8)"
   ]
  },
  {
   "cell_type": "code",
   "execution_count": 2,
   "id": "771b5455-3d51-4e34-90be-ef7ce412fe82",
   "metadata": {},
   "outputs": [
    {
     "name": "stdout",
     "output_type": "stream",
     "text": [
      "2.8.0\n"
     ]
    }
   ],
   "source": [
    "print(tf.__version__)"
   ]
  },
  {
   "cell_type": "code",
   "execution_count": 3,
   "id": "35f53b2d-2302-49a7-abf6-0a1c6b653b0a",
   "metadata": {},
   "outputs": [
    {
     "name": "stdout",
     "output_type": "stream",
     "text": [
      "1.8.0\n"
     ]
    }
   ],
   "source": [
    "print(torch.__version__)"
   ]
  },
  {
   "cell_type": "markdown",
   "id": "8809fabc-c506-447e-9db8-0c805992287c",
   "metadata": {},
   "source": [
    "* https://datascience-enthusiast.com/DL/Building_a_Recurrent_Neural_Network-Step_by_Step_v1.html\n",
    "* https://www.tensorflow.org/tutorials/structured_data/time_series\n",
    "* https://d2l.ai/chapter_recurrent-neural-networks/sequence.html\n",
    "* https://towardsdatascience.com/building-rnn-lstm-and-gru-for-time-series-using-pytorch-a46e5b094e7b\n",
    "* https://colah.github.io/posts/2015-08-Understanding-LSTMs/\n",
    "* http://karpathy.github.io/2015/05/21/rnn-effectiveness/\n",
    "* https://towardsdatascience.com/all-you-need-to-know-about-rnns-e514f0b00c7c"
   ]
  },
  {
   "cell_type": "markdown",
   "id": "ecdee1e3-cba0-46bd-94d8-f1dbcbc96c7e",
   "metadata": {},
   "source": [
    "## Step by Step Run Through"
   ]
  },
  {
   "cell_type": "code",
   "execution_count": 8,
   "id": "8e92543d-f5f6-413b-832b-ec49f29f4758",
   "metadata": {},
   "outputs": [],
   "source": [
    "def softmax(x):\n",
    "    e_x = np.exp(x - np.max(x))\n",
    "    return e_x / e_x.sum(axis=0)"
   ]
  },
  {
   "cell_type": "code",
   "execution_count": 410,
   "id": "69b8e4dd-2636-46f6-8b3f-025bb2bd066b",
   "metadata": {},
   "outputs": [],
   "source": [
    "def rnn_cell_forward(xt, a_prev, parameters):\n",
    "    \"\"\"\n",
    "    Implements a single forward step of the RNN-cell as described in Figure (2)\n",
    "\n",
    "    Arguments:\n",
    "    xt -- your input data at timestep \"t\", numpy array of shape (n_x, m).\n",
    "    a_prev -- Hidden state at timestep \"t-1\", numpy array of shape (n_a, m)\n",
    "    parameters -- python dictionary containing:\n",
    "                        Wax -- Weight matrix multiplying the input, numpy array of shape (n_a, n_x)\n",
    "                        Waa -- Weight matrix multiplying the hidden state, numpy array of shape (n_a, n_a)\n",
    "                        Wya -- Weight matrix relating the hidden-state to the output, numpy array of shape (n_y, n_a)\n",
    "                        ba --  Bias, numpy array of shape (n_a, 1)\n",
    "                        by -- Bias relating the hidden-state to the output, numpy array of shape (n_y, 1)\n",
    "    Returns:\n",
    "    a_next -- next hidden state, of shape (n_a, m)\n",
    "    yt_pred -- prediction at timestep \"t\", numpy array of shape (n_y, m)\n",
    "    cache -- tuple of values needed for the backward pass, contains (a_next, a_prev, xt, parameters)\n",
    "    \"\"\"\n",
    "    \n",
    "    # Retrieve parameters from \"parameters\"\n",
    "    Wax = parameters[\"Wax\"]\n",
    "    Waa = parameters[\"Waa\"]\n",
    "    Wya = parameters[\"Wya\"]\n",
    "    ba = parameters[\"ba\"]\n",
    "    by = parameters[\"by\"]\n",
    "    \n",
    "    ### START CODE HERE ### (≈2 lines)\n",
    "    # compute next activation state using the formula given above\n",
    "    a_next = np.tanh(np.dot(Waa, a_prev) + np.dot(Wax, xt) + ba)\n",
    "    # compute output of the current cell using the formula given above\n",
    "    yt_pred = softmax(np.dot(Wya, a_next) + by)\n",
    "    ### END CODE HERE ###\n",
    "    \n",
    "    # store values you need for backward propagation in cache\n",
    "    cache = (a_next, a_prev, xt, parameters)\n",
    "    \n",
    "    return a_next, yt_pred, cache\n",
    "\n",
    "def rnn_cell_backward(da_next, cache):\n",
    "    \"\"\"\n",
    "    Implements the backward pass for the RNN-cell (single time-step).\n",
    "\n",
    "    Arguments:\n",
    "    da_next -- Gradient of loss with respect to next hidden state\n",
    "    cache -- python dictionary containing useful values (output of rnn_cell_forward())\n",
    "\n",
    "    Returns:\n",
    "    gradients -- python dictionary containing:\n",
    "                        dx -- Gradients of input data, of shape (n_x, m)\n",
    "                        da_prev -- Gradients of previous hidden state, of shape (n_a, m)\n",
    "                        dWax -- Gradients of input-to-hidden weights, of shape (n_a, n_x)\n",
    "                        dWaa -- Gradients of hidden-to-hidden weights, of shape (n_a, n_a)\n",
    "                        dba -- Gradients of bias vector, of shape (n_a, 1)\n",
    "    \"\"\"\n",
    "    \n",
    "    # Retrieve values from cache\n",
    "    (a_next, a_prev, xt, parameters) = cache\n",
    "    \n",
    "    # Retrieve values from parameters\n",
    "    Wax = parameters[\"Wax\"]\n",
    "    Waa = parameters[\"Waa\"]\n",
    "    Wya = parameters[\"Wya\"]\n",
    "    ba = parameters[\"ba\"]\n",
    "    by = parameters[\"by\"]\n",
    "\n",
    "    ### START CODE HERE ###\n",
    "    # compute the gradient of tanh with respect to a_next (≈1 line)\n",
    "    dtanh = (1-a_next*a_next)*da_next\n",
    "\n",
    "    # compute the gradient of the loss with respect to Wax (≈2 lines)\n",
    "    dxt = np.dot(Wax.T,  dtanh)\n",
    "    dWax = np.dot(dtanh,xt.T)\n",
    "\n",
    "    # compute the gradient with respect to Waa (≈2 lines)\n",
    "    da_prev = np.dot(Waa.T, dtanh)  \n",
    "    dWaa = np.dot( dtanh,a_prev.T)\n",
    "\n",
    "    # compute the gradient with respect to b (≈1 line)\n",
    "    dba = np.sum( dtanh,keepdims=True,axis=-1)\n",
    "\n",
    "    ### END CODE HERE ###\n",
    "    \n",
    "    # Store the gradients in a python dictionary\n",
    "    gradients = {\"dxt\": dxt, \"da_prev\": da_prev, \"dWax\": dWax, \"dWaa\": dWaa, \"dba\": dba}\n",
    "    \n",
    "    return gradients"
   ]
  },
  {
   "cell_type": "code",
   "execution_count": 454,
   "id": "4b5ff4f9-66ac-4ee1-b885-1a664f24fc38",
   "metadata": {},
   "outputs": [],
   "source": [
    "# sequence = 'abcabcabcabcabc'\n",
    "sequence = 'abbcacbbcacbbca' * 10\n",
    "sequence = np.array([char for char in sequence]).reshape(-1, 1)"
   ]
  },
  {
   "cell_type": "code",
   "execution_count": 200,
   "id": "189a2255-f161-4b32-bdc3-b00280e51fe5",
   "metadata": {},
   "outputs": [],
   "source": [
    "ohe_enc = OneHotEncoder()\n",
    "ohe_enc.fit(sequence)\n",
    "sequence_ohe = ohe_enc.transform(sequence).toarray()"
   ]
  },
  {
   "cell_type": "code",
   "execution_count": 216,
   "id": "20da6172-0a3e-4f4a-9637-e0b1d20bb523",
   "metadata": {},
   "outputs": [
    {
     "data": {
      "text/plain": [
       "(150, 3)"
      ]
     },
     "execution_count": 216,
     "metadata": {},
     "output_type": "execute_result"
    }
   ],
   "source": [
    "sequence_ohe.shape"
   ]
  },
  {
   "cell_type": "code",
   "execution_count": 497,
   "id": "109b44cc-db8b-47a5-b0ad-9589c8524388",
   "metadata": {},
   "outputs": [],
   "source": [
    "def get_ts_X_y(seq, batch_size, seq_len, num_features, lookahead=1):\n",
    "    X = np.zeros((batch_size, seq_len, num_features))\n",
    "    y = np.zeros((batch_size, num_features))\n",
    "    for i in range(batch_size):\n",
    "        start_idx = np.random.choice(range(len(seq) - seq_len - lookahead))\n",
    "        x_obs = seq[start_idx : start_idx + seq_len]\n",
    "        y_obs = seq[start_idx + seq_len + lookahead]\n",
    "        X[i] = x_obs\n",
    "        y[i] = y_obs\n",
    "    print(X.shape, y.shape)\n",
    "    return X, y"
   ]
  },
  {
   "cell_type": "code",
   "execution_count": 498,
   "id": "ccc70d99-6752-4884-9fc2-e7944353bd25",
   "metadata": {},
   "outputs": [
    {
     "name": "stdout",
     "output_type": "stream",
     "text": [
      "(32, 15, 3) (32, 3)\n"
     ]
    }
   ],
   "source": [
    "num_features = len(sequence_ohe[0])\n",
    "seq_len = 15\n",
    "batch_size = 32\n",
    "X, y = get_ts_X_y(sequence_ohe, batch_size, seq_len, num_features)"
   ]
  },
  {
   "cell_type": "code",
   "execution_count": 496,
   "id": "39284c78-84fe-4c9d-990d-c3d7050e30b7",
   "metadata": {},
   "outputs": [
    {
     "data": {
      "text/plain": [
       "(3, 32, 15)"
      ]
     },
     "execution_count": 496,
     "metadata": {},
     "output_type": "execute_result"
    }
   ],
   "source": [
    "x = np.swapaxes(np.swapaxes(X, 0, 2), 1, 2)\n",
    "x.shape"
   ]
  },
  {
   "cell_type": "code",
   "execution_count": 378,
   "id": "0bfe5f3f-1d0c-494d-b93c-cb64b92896c1",
   "metadata": {},
   "outputs": [
    {
     "name": "stdout",
     "output_type": "stream",
     "text": [
      "a_next[2] =  0.34572473052766445\n",
      "a_next.shape =  (4,)\n",
      "yt_pred[1] = 0.5836545827347673\n",
      "yt_pred.shape =  (3,)\n"
     ]
    }
   ],
   "source": [
    "np.random.seed(1)\n",
    "hidden_state_size = 4\n",
    "num_input_features = 3\n",
    "num_output_features = 3\n",
    "\n",
    "xt = sequence_ohe[0]\n",
    "a_prev = np.random.randn(hidden_state_size, )\n",
    "Waa = np.random.randn(hidden_state_size, hidden_state_size)\n",
    "Wax = np.random.randn(hidden_state_size, num_input_features)\n",
    "Wya = np.random.randn(num_output_features, hidden_state_size)\n",
    "ba = np.random.randn(hidden_state_size, )\n",
    "by = np.random.randn(num_output_features, )\n",
    "parameters = {\"Waa\": Waa, \"Wax\": Wax, \"Wya\": Wya, \"ba\": ba, \"by\": by}\n",
    "\n",
    "a_next, yt_pred, cache = rnn_cell_forward(xt, a_prev, parameters)\n",
    "print(\"a_next[2] = \", a_next[2])\n",
    "print(\"a_next.shape = \", a_next.shape)\n",
    "print(\"yt_pred[1] =\", yt_pred[1])\n",
    "print(\"yt_pred.shape = \", yt_pred.shape)"
   ]
  },
  {
   "cell_type": "code",
   "execution_count": 395,
   "id": "4e424db9-fd6e-4e87-a84a-aae41a1cb220",
   "metadata": {},
   "outputs": [],
   "source": [
    "def rnn_forward(x, a0, parameters):\n",
    "    \"\"\"\n",
    "    Implement the forward propagation of the recurrent neural network described in Figure (3).\n",
    "\n",
    "    Arguments:\n",
    "    x -- Input data for every time-step, of shape (n_x, m, T_x).\n",
    "    a0 -- Initial hidden state, of shape (n_a, m)\n",
    "    parameters -- python dictionary containing:\n",
    "                        Waa -- Weight matrix multiplying the hidden state, numpy array of shape (n_a, n_a)\n",
    "                        Wax -- Weight matrix multiplying the input, numpy array of shape (n_a, n_x)\n",
    "                        Wya -- Weight matrix relating the hidden-state to the output, numpy array of shape (n_y, n_a)\n",
    "                        ba --  Bias numpy array of shape (n_a, 1)\n",
    "                        by -- Bias relating the hidden-state to the output, numpy array of shape (n_y, 1)\n",
    "\n",
    "    Returns:\n",
    "    a -- Hidden states for every time-step, numpy array of shape (n_a, m, T_x)\n",
    "    y_pred -- Predictions for every time-step, numpy array of shape (n_y, m, T_x)\n",
    "    caches -- tuple of values needed for the backward pass, contains (list of caches, x)\n",
    "    \"\"\"\n",
    "    \n",
    "    # Initialize \"caches\" which will contain the list of all caches\n",
    "    caches = []\n",
    "    \n",
    "    # Retrieve dimensions from shapes of x and parameters[\"Wya\"]\n",
    "    n_x, m, T_x = x.shape\n",
    "    n_y, n_a = parameters[\"Wya\"].shape\n",
    "    \n",
    "    ### START CODE HERE ###\n",
    "    \n",
    "    # initialize \"a\" and \"y\" with zeros (≈2 lines)\n",
    "    a = np.zeros([n_a,m,T_x])\n",
    "    y_pred = np.zeros([n_y,m,T_x])\n",
    "    \n",
    "    # Initialize a_next (≈1 line)\n",
    "    a_next = a0\n",
    "    \n",
    "    # loop over all time-steps\n",
    "    for t in range(T_x):\n",
    "        # Update next hidden state, compute the prediction, get the cache (≈1 line)\n",
    "        xt = x[:, :, t]\n",
    "        a_next, yt_pred, cache = rnn_cell_forward(xt, a_next, parameters)\n",
    "        # Save the value of the new \"next\" hidden state in a (≈1 line)\n",
    "        a[:, :, t] = a_next\n",
    "        # Save the value of the prediction in y (≈1 line)\n",
    "        y_pred[:, :, t] = yt_pred\n",
    "        # Append \"cache\" to \"caches\" (≈1 line)\n",
    "        caches.append(cache)\n",
    "        \n",
    "    ### END CODE HERE ###\n",
    "    \n",
    "    # store values needed for backward propagation in cache\n",
    "    caches = (caches, x)\n",
    "    \n",
    "    return a, y_pred, caches\n",
    "\n",
    "def rnn_backward(da, caches):\n",
    "    \"\"\"\n",
    "    Implement the backward pass for a RNN over an entire sequence of input data.\n",
    "\n",
    "    Arguments:\n",
    "    da -- Upstream gradients of all hidden states, of shape (n_a, m, T_x)\n",
    "    caches -- tuple containing information from the forward pass (rnn_forward)\n",
    "    \n",
    "    Returns:\n",
    "    gradients -- python dictionary containing:\n",
    "                        dx -- Gradient w.r.t. the input data, numpy-array of shape (n_x, m, T_x)\n",
    "                        da0 -- Gradient w.r.t the initial hidden state, numpy-array of shape (n_a, m)\n",
    "                        dWax -- Gradient w.r.t the input's weight matrix, numpy-array of shape (n_a, n_x)\n",
    "                        dWaa -- Gradient w.r.t the hidden state's weight matrix, numpy array of shape (n_a, n_a)\n",
    "                        dba -- Gradient w.r.t the bias, of shape (n_a, 1)\n",
    "    \"\"\"\n",
    "        \n",
    "    ### START CODE HERE ###\n",
    "    \n",
    "    # Retrieve values from the first cache (t=1) of caches (≈2 lines)\n",
    "    (caches, x) = caches\n",
    "    (a1, a0, x1, parameters) = caches[0]\n",
    "    \n",
    "    # Retrieve dimensions from da's and x1's shapes (≈2 lines)\n",
    "    n_a, m, T_x = da.shape\n",
    "    n_x, m = x1.shape \n",
    "    \n",
    "    # initialize the gradients with the right sizes (≈6 lines)\n",
    "    dx = np.zeros((n_x, m, T_x)) \n",
    "    dWax = np.zeros((n_a, n_x))\n",
    "    dWaa = np.zeros((n_a, n_a))\n",
    "    dba = np.zeros((n_a, 1)) \n",
    "    da0 = np.zeros((n_a, m))\n",
    "    da_prevt = np.zeros((n_a, m))  \n",
    "    \n",
    "    # Loop through all the time steps\n",
    "    for t in reversed(range(T_x)):\n",
    "        # Compute gradients at time step t. Choose wisely the \"da_next\" and the \"cache\" to use in the backward propagation step. (≈1 line)\n",
    "        gradients = rnn_cell_backward(da[:, :, t] + da_prevt, caches[t])\n",
    "        # Retrieve derivatives from gradients (≈ 1 line)\n",
    "        dxt, da_prevt, dWaxt, dWaat, dbat = gradients[\"dxt\"], gradients[\"da_prev\"], gradients[\"dWax\"], gradients[\"dWaa\"], gradients[\"dba\"]\n",
    "        # Increment global derivatives w.r.t parameters by adding their derivative at time-step t (≈4 lines)\n",
    "        dx[:, :, t] = dxt  \n",
    "        dWax += dWaxt  \n",
    "        dWaa += dWaat  \n",
    "        dba += dbat  \n",
    "        \n",
    "    # Set da0 to the gradient of a which has been backpropagated through all time-steps (≈1 line) \n",
    "    da0 = da_prevt\n",
    "    ### END CODE HERE ###\n",
    "\n",
    "    # Store the gradients in a python dictionary\n",
    "    gradients = {\"dx\": dx, \"da0\": da0, \"dWax\": dWax, \"dWaa\": dWaa,\"dba\": dba}\n",
    "    \n",
    "    return gradients"
   ]
  },
  {
   "cell_type": "code",
   "execution_count": 411,
   "id": "d45b93bf-901f-4389-bf33-b61a9170bb3a",
   "metadata": {
    "tags": []
   },
   "outputs": [
    {
     "name": "stdout",
     "output_type": "stream",
     "text": [
      "a.shape =  (10, 32, 15)\n",
      "y_pred.shape =  (3, 32, 15)\n",
      "len(caches) =  2\n"
     ]
    }
   ],
   "source": [
    "np.random.seed(1)\n",
    "hidden_state_size = 10\n",
    "num_input_features = len(x)\n",
    "num_output_features = len(x)\n",
    "num_time_steps = len(x[0][0])\n",
    "\n",
    "# x = sequence_ohe.T.reshape((num_input_features, 1, num_time_steps))\n",
    "a0 = np.random.randn(hidden_state_size, batch_size)\n",
    "Waa = np.random.randn(hidden_state_size, hidden_state_size)\n",
    "Wax = np.random.randn(hidden_state_size, num_input_features)\n",
    "Wya = np.random.randn(num_output_features, hidden_state_size)\n",
    "ba = np.random.randn(hidden_state_size, batch_size)\n",
    "by = np.random.randn(num_output_features, batch_size)\n",
    "parameters = {\"Waa\": Waa, \"Wax\": Wax, \"Wya\": Wya, \"ba\": ba, \"by\": by}\n",
    "\n",
    "a, y_pred, caches = rnn_forward(x, a0, parameters)\n",
    "print(\"a.shape = \", a.shape)\n",
    "print(\"y_pred.shape = \", y_pred.shape)\n",
    "print(\"len(caches) = \", len(caches))\n",
    "\n",
    "da = np.random.randn(hidden_state_size, batch_size, num_time_steps)\n",
    "gradients_tmp = rnn_backward(da, caches)"
   ]
  },
  {
   "cell_type": "code",
   "execution_count": 412,
   "id": "4e2f1c8d-dd0e-48d5-adcc-617e8e25c8f3",
   "metadata": {},
   "outputs": [],
   "source": [
    "pred_class = np.argmax(y_pred, axis=0)\n",
    "act_class = np.argmax(x, axis=0)"
   ]
  },
  {
   "cell_type": "code",
   "execution_count": 415,
   "id": "e78a40e7-de6a-473c-a32a-d930554a3be8",
   "metadata": {},
   "outputs": [
    {
     "data": {
      "text/plain": [
       "array([[2, 1, 1, 2, 0, 0, 1, 1, 2, 0, 2, 1, 1, 2, 0],\n",
       "       [2, 0, 2, 1, 1, 2, 0, 2, 1, 1, 2, 0, 0, 1, 1],\n",
       "       [0, 0, 1, 1, 2, 0, 2, 1, 1, 2, 0, 2, 1, 1, 2],\n",
       "       [1, 2, 0, 2, 1, 1, 2, 0, 2, 1, 1, 2, 0, 0, 1],\n",
       "       [2, 1, 1, 2, 0, 2, 1, 1, 2, 0, 0, 1, 1, 2, 0],\n",
       "       [2, 0, 0, 1, 1, 2, 0, 2, 1, 1, 2, 0, 2, 1, 1],\n",
       "       [0, 1, 1, 2, 0, 2, 1, 1, 2, 0, 2, 1, 1, 2, 0],\n",
       "       [2, 1, 1, 2, 0, 2, 1, 1, 2, 0, 0, 1, 1, 2, 0],\n",
       "       [2, 1, 1, 2, 0, 0, 1, 1, 2, 0, 2, 1, 1, 2, 0],\n",
       "       [1, 1, 2, 0, 0, 1, 1, 2, 0, 2, 1, 1, 2, 0, 2],\n",
       "       [2, 0, 2, 1, 1, 2, 0, 2, 1, 1, 2, 0, 0, 1, 1],\n",
       "       [1, 2, 0, 0, 1, 1, 2, 0, 2, 1, 1, 2, 0, 2, 1],\n",
       "       [2, 0, 2, 1, 1, 2, 0, 0, 1, 1, 2, 0, 2, 1, 1],\n",
       "       [1, 2, 0, 2, 1, 1, 2, 0, 0, 1, 1, 2, 0, 2, 1],\n",
       "       [1, 2, 0, 2, 1, 1, 2, 0, 0, 1, 1, 2, 0, 2, 1],\n",
       "       [0, 1, 1, 2, 0, 2, 1, 1, 2, 0, 2, 1, 1, 2, 0],\n",
       "       [2, 0, 2, 1, 1, 2, 0, 0, 1, 1, 2, 0, 2, 1, 1],\n",
       "       [2, 0, 0, 1, 1, 2, 0, 2, 1, 1, 2, 0, 2, 1, 1],\n",
       "       [0, 2, 1, 1, 2, 0, 2, 1, 1, 2, 0, 0, 1, 1, 2],\n",
       "       [1, 1, 2, 0, 2, 1, 1, 2, 0, 0, 1, 1, 2, 0, 2],\n",
       "       [0, 2, 1, 1, 2, 0, 0, 1, 1, 2, 0, 2, 1, 1, 2],\n",
       "       [2, 0, 0, 1, 1, 2, 0, 2, 1, 1, 2, 0, 2, 1, 1],\n",
       "       [1, 1, 2, 0, 0, 1, 1, 2, 0, 2, 1, 1, 2, 0, 2],\n",
       "       [2, 0, 0, 1, 1, 2, 0, 2, 1, 1, 2, 0, 2, 1, 1],\n",
       "       [2, 1, 1, 2, 0, 0, 1, 1, 2, 0, 2, 1, 1, 2, 0],\n",
       "       [2, 1, 1, 2, 0, 2, 1, 1, 2, 0, 0, 1, 1, 2, 0],\n",
       "       [1, 1, 2, 0, 0, 1, 1, 2, 0, 2, 1, 1, 2, 0, 2],\n",
       "       [1, 2, 0, 2, 1, 1, 2, 0, 2, 1, 1, 2, 0, 0, 1],\n",
       "       [2, 0, 0, 1, 1, 2, 0, 2, 1, 1, 2, 0, 2, 1, 1],\n",
       "       [1, 1, 2, 0, 0, 1, 1, 2, 0, 2, 1, 1, 2, 0, 2],\n",
       "       [0, 2, 1, 1, 2, 0, 0, 1, 1, 2, 0, 2, 1, 1, 2],\n",
       "       [2, 1, 1, 2, 0, 0, 1, 1, 2, 0, 2, 1, 1, 2, 0]])"
      ]
     },
     "execution_count": 415,
     "metadata": {},
     "output_type": "execute_result"
    }
   ],
   "source": [
    "act_class"
   ]
  },
  {
   "cell_type": "code",
   "execution_count": 416,
   "id": "2b253179-cab4-4510-b0fc-c01ab025e569",
   "metadata": {},
   "outputs": [
    {
     "data": {
      "text/plain": [
       "array([[2, 0, 0, 0, 0, 0, 0, 0, 0, 0, 0, 2, 0, 0, 0],\n",
       "       [2, 0, 0, 0, 0, 0, 0, 0, 0, 0, 0, 0, 0, 0, 0],\n",
       "       [2, 0, 2, 2, 0, 0, 0, 2, 1, 2, 0, 0, 2, 0, 2],\n",
       "       [1, 1, 1, 1, 2, 0, 0, 1, 1, 2, 2, 0, 1, 1, 2],\n",
       "       [2, 1, 0, 1, 1, 2, 2, 2, 0, 1, 2, 2, 2, 0, 2],\n",
       "       [1, 2, 2, 0, 0, 0, 0, 0, 2, 2, 0, 0, 0, 2, 0],\n",
       "       [2, 2, 1, 1, 2, 2, 2, 2, 0, 1, 1, 2, 2, 0, 0],\n",
       "       [0, 2, 0, 0, 0, 0, 0, 0, 0, 0, 0, 0, 0, 0, 0],\n",
       "       [1, 2, 0, 1, 2, 2, 2, 2, 0, 1, 2, 2, 2, 0, 2],\n",
       "       [2, 2, 0, 2, 0, 0, 2, 0, 1, 2, 2, 0, 0, 2, 0],\n",
       "       [2, 1, 1, 2, 1, 2, 1, 1, 2, 2, 2, 1, 2, 0, 2],\n",
       "       [0, 1, 1, 2, 2, 2, 0, 0, 1, 1, 2, 1, 0, 2, 1],\n",
       "       [1, 2, 2, 0, 1, 1, 2, 0, 2, 0, 0, 1, 0, 2, 0],\n",
       "       [1, 1, 1, 1, 2, 0, 0, 0, 1, 1, 1, 1, 1, 1, 1],\n",
       "       [0, 0, 0, 0, 2, 0, 0, 0, 0, 0, 0, 0, 0, 0, 0],\n",
       "       [1, 2, 2, 2, 0, 0, 0, 2, 0, 0, 0, 2, 2, 0, 0],\n",
       "       [0, 2, 2, 2, 0, 1, 2, 2, 0, 0, 0, 0, 0, 2, 0],\n",
       "       [1, 1, 0, 1, 1, 1, 2, 1, 1, 2, 1, 1, 2, 2, 1],\n",
       "       [0, 0, 1, 2, 1, 1, 1, 1, 2, 1, 0, 0, 1, 1, 2],\n",
       "       [2, 0, 0, 2, 2, 1, 2, 2, 0, 0, 0, 2, 0, 0, 1],\n",
       "       [0, 0, 0, 0, 0, 0, 0, 2, 0, 0, 0, 0, 1, 0, 0],\n",
       "       [2, 2, 1, 2, 0, 1, 1, 2, 2, 1, 1, 1, 1, 1, 1],\n",
       "       [1, 1, 1, 1, 2, 1, 0, 0, 0, 1, 1, 2, 0, 0, 0],\n",
       "       [1, 1, 2, 2, 1, 2, 1, 1, 2, 1, 2, 2, 1, 1, 2],\n",
       "       [1, 2, 2, 1, 1, 2, 0, 0, 1, 1, 0, 2, 0, 1, 1],\n",
       "       [0, 1, 2, 1, 1, 2, 2, 0, 0, 1, 2, 0, 0, 0, 1],\n",
       "       [1, 0, 0, 1, 2, 2, 1, 1, 1, 1, 2, 0, 0, 1, 1],\n",
       "       [1, 2, 2, 1, 2, 0, 0, 0, 1, 1, 2, 1, 0, 0, 0],\n",
       "       [0, 0, 0, 0, 0, 1, 1, 1, 1, 1, 1, 1, 1, 0, 0],\n",
       "       [1, 2, 2, 0, 0, 0, 2, 0, 0, 0, 0, 2, 0, 0, 0],\n",
       "       [2, 1, 2, 1, 1, 2, 1, 2, 0, 0, 1, 2, 2, 1, 2],\n",
       "       [0, 2, 2, 0, 0, 0, 0, 0, 0, 0, 0, 0, 0, 0, 0]])"
      ]
     },
     "execution_count": 416,
     "metadata": {},
     "output_type": "execute_result"
    }
   ],
   "source": [
    "pred_class"
   ]
  },
  {
   "cell_type": "code",
   "execution_count": 420,
   "id": "e09e6746-be4e-44fb-a790-76cbdbb78cf5",
   "metadata": {},
   "outputs": [],
   "source": [
    "def try_gpu(i=0):\n",
    "    \"\"\"Return gpu(i) if exists, otherwise return cpu().\n",
    "\n",
    "    Defined in :numref:`sec_use_gpu`\"\"\"\n",
    "    if len(tf.config.experimental.list_physical_devices('GPU')) >= i + 1:\n",
    "        return tf.device(f'/GPU:{i}')\n",
    "    return tf.device('/CPU:0')"
   ]
  },
  {
   "cell_type": "code",
   "execution_count": null,
   "id": "92efa317-4833-4853-92f2-d7fee14d1016",
   "metadata": {},
   "outputs": [],
   "source": [
    "def predict_ch8(prefix, num_preds, net, vocab):\n",
    "    \"\"\"Generate new characters following the `prefix`.\n",
    "\n",
    "    Defined in :numref:`sec_rnn_scratch`\"\"\"\n",
    "    state = net.begin_state(batch_size=1, dtype=tf.float32)\n",
    "    outputs = [vocab[prefix[0]]]\n",
    "    get_input = lambda: d2l.reshape(d2l.tensor([outputs[-1]]), (1, 1)).numpy()\n",
    "    for y in prefix[1:]:  # Warm-up period\n",
    "        _, state = net(get_input(), state)\n",
    "        outputs.append(vocab[y])\n",
    "    for _ in range(num_preds):  # Predict `num_preds` steps\n",
    "        y, state = net(get_input(), state)\n",
    "        outputs.append(int(y.numpy().argmax(axis=1).reshape(1)))\n",
    "    return ''.join([vocab.idx_to_token[i] for i in outputs])"
   ]
  },
  {
   "cell_type": "code",
   "execution_count": 417,
   "id": "f860f765-9c0c-4223-9fa4-ee953b9a1d03",
   "metadata": {},
   "outputs": [],
   "source": [
    "class RNNModel(tf.keras.layers.Layer):\n",
    "    def __init__(self, rnn_layer, vocab_size, **kwargs):\n",
    "        super(RNNModel, self).__init__(**kwargs)\n",
    "        self.rnn = rnn_layer\n",
    "        self.vocab_size = vocab_size\n",
    "        self.dense = tf.keras.layers.Dense(vocab_size)\n",
    "\n",
    "    def call(self, inputs, state):\n",
    "        X = tf.one_hot(tf.transpose(inputs), self.vocab_size)\n",
    "        # Later RNN like `tf.keras.layers.LSTMCell` return more than two values\n",
    "        Y, *state = self.rnn(X, state)\n",
    "        output = self.dense(tf.reshape(Y, (-1, Y.shape[-1])))\n",
    "        return output, state\n",
    "\n",
    "    def begin_state(self, *args, **kwargs):\n",
    "        return self.rnn.cell.get_initial_state(*args, **kwargs)"
   ]
  },
  {
   "cell_type": "code",
   "execution_count": 423,
   "id": "72eec1e7-33cc-4c69-9a12-78eb6e558a2e",
   "metadata": {},
   "outputs": [
    {
     "data": {
      "text/plain": [
       "TensorShape([32, 256])"
      ]
     },
     "execution_count": 423,
     "metadata": {},
     "output_type": "execute_result"
    }
   ],
   "source": [
    "num_hiddens = 256\n",
    "rnn_cell = tf.keras.layers.SimpleRNNCell(num_hiddens,\n",
    "    kernel_initializer='glorot_uniform')\n",
    "rnn_layer = tf.keras.layers.RNN(rnn_cell, time_major=True,\n",
    "    return_sequences=True, return_state=True)\n",
    "\n",
    "state = rnn_cell.get_initial_state(batch_size=batch_size, dtype=tf.float32)\n",
    "state.shape"
   ]
  },
  {
   "cell_type": "code",
   "execution_count": 542,
   "id": "6cafda6f-9c7e-42b5-98b0-71c91bf73714",
   "metadata": {},
   "outputs": [],
   "source": [
    "device_name = try_gpu()._device_name\n",
    "strategy = tf.distribute.OneDeviceStrategy(device_name)\n",
    "with strategy.scope():\n",
    "    net = RNNModel(rnn_layer, vocab_size=num_input_features)"
   ]
  },
  {
   "cell_type": "code",
   "execution_count": 543,
   "id": "dbea742e-9f02-499c-819d-1af458f9aadb",
   "metadata": {},
   "outputs": [
    {
     "name": "stdout",
     "output_type": "stream",
     "text": [
      "WARNING:tensorflow:Layer lstm_7 will not use cuDNN kernels since it doesn't meet the criteria. It will use a generic GPU kernel as fallback when running on GPU.\n"
     ]
    }
   ],
   "source": [
    "n_steps = 15\n",
    "n_features = 3\n",
    "\n",
    "model = tf.keras.Sequential([\n",
    "    tf.keras.layers.LSTM(50, activation='relu', input_shape=(n_steps, n_features)),\n",
    "    # tf.keras.layers.Softmax(3)\n",
    "    tf.keras.layers.Dense(n_features, activation=tf.nn.softmax)\n",
    "])"
   ]
  },
  {
   "cell_type": "code",
   "execution_count": 544,
   "id": "08a2ef83-33e9-43b7-9cfa-971a6d553bae",
   "metadata": {},
   "outputs": [
    {
     "name": "stdout",
     "output_type": "stream",
     "text": [
      "Model: \"sequential_5\"\n",
      "_________________________________________________________________\n",
      " Layer (type)                Output Shape              Param #   \n",
      "=================================================================\n",
      " lstm_7 (LSTM)               (None, 50)                10800     \n",
      "                                                                 \n",
      " dense_9 (Dense)             (None, 3)                 153       \n",
      "                                                                 \n",
      "=================================================================\n",
      "Total params: 10,953\n",
      "Trainable params: 10,953\n",
      "Non-trainable params: 0\n",
      "_________________________________________________________________\n"
     ]
    }
   ],
   "source": [
    "model.summary()"
   ]
  },
  {
   "cell_type": "code",
   "execution_count": 545,
   "id": "ad9be75d-c894-4fd8-a208-82803807d1df",
   "metadata": {},
   "outputs": [],
   "source": [
    "model.compile(loss='categorical_crossentropy',\n",
    "              optimizer='adam',\n",
    "              metrics=['accuracy'])"
   ]
  },
  {
   "cell_type": "markdown",
   "id": "7ca1673a-680d-4264-80a9-c1b349c73850",
   "metadata": {},
   "source": [
    "For tf.keras.layers.LSTM model we need inputs with shape `[batch, timesteps, feature]`"
   ]
  },
  {
   "cell_type": "code",
   "execution_count": 549,
   "id": "3dcd8f7e-ea63-4e7d-b0b4-0cbad319df29",
   "metadata": {},
   "outputs": [
    {
     "name": "stdout",
     "output_type": "stream",
     "text": [
      "Epoch 1/50\n",
      "1/1 [==============================] - 0s 145ms/step - loss: 0.7540 - accuracy: 0.7188\n",
      "Epoch 2/50\n",
      "1/1 [==============================] - 0s 149ms/step - loss: 0.7030 - accuracy: 0.7188\n",
      "Epoch 3/50\n",
      "1/1 [==============================] - 0s 141ms/step - loss: 0.6574 - accuracy: 0.7188\n",
      "Epoch 4/50\n",
      "1/1 [==============================] - 0s 133ms/step - loss: 0.6175 - accuracy: 0.7188\n",
      "Epoch 5/50\n",
      "1/1 [==============================] - 0s 123ms/step - loss: 0.6086 - accuracy: 0.7188\n",
      "Epoch 6/50\n",
      "1/1 [==============================] - 0s 133ms/step - loss: 0.5868 - accuracy: 0.7188\n",
      "Epoch 7/50\n",
      "1/1 [==============================] - 0s 141ms/step - loss: 0.5555 - accuracy: 0.7812\n",
      "Epoch 8/50\n",
      "1/1 [==============================] - 0s 157ms/step - loss: 0.5056 - accuracy: 0.7812\n",
      "Epoch 9/50\n",
      "1/1 [==============================] - 0s 140ms/step - loss: 0.4617 - accuracy: 0.9062\n",
      "Epoch 10/50\n",
      "1/1 [==============================] - 0s 138ms/step - loss: 0.4256 - accuracy: 0.9375\n",
      "Epoch 11/50\n",
      "1/1 [==============================] - 0s 146ms/step - loss: 0.3916 - accuracy: 1.0000\n",
      "Epoch 12/50\n",
      "1/1 [==============================] - 0s 139ms/step - loss: 0.3603 - accuracy: 0.9688\n",
      "Epoch 13/50\n",
      "1/1 [==============================] - 0s 138ms/step - loss: 0.3301 - accuracy: 0.9688\n",
      "Epoch 14/50\n",
      "1/1 [==============================] - 0s 138ms/step - loss: 0.2970 - accuracy: 1.0000\n",
      "Epoch 15/50\n",
      "1/1 [==============================] - 0s 128ms/step - loss: 0.2696 - accuracy: 0.9375\n",
      "Epoch 16/50\n",
      "1/1 [==============================] - 0s 133ms/step - loss: 0.2413 - accuracy: 1.0000\n",
      "Epoch 17/50\n",
      "1/1 [==============================] - 0s 150ms/step - loss: 0.2107 - accuracy: 1.0000\n",
      "Epoch 18/50\n",
      "1/1 [==============================] - 0s 141ms/step - loss: 0.1838 - accuracy: 1.0000\n",
      "Epoch 19/50\n",
      "1/1 [==============================] - 0s 138ms/step - loss: 0.1572 - accuracy: 1.0000\n",
      "Epoch 20/50\n",
      "1/1 [==============================] - 0s 142ms/step - loss: 0.1343 - accuracy: 1.0000\n",
      "Epoch 21/50\n",
      "1/1 [==============================] - 0s 132ms/step - loss: 0.1106 - accuracy: 1.0000\n",
      "Epoch 22/50\n",
      "1/1 [==============================] - 0s 148ms/step - loss: 0.0906 - accuracy: 1.0000\n",
      "Epoch 23/50\n",
      "1/1 [==============================] - 0s 147ms/step - loss: 0.0952 - accuracy: 0.9688\n",
      "Epoch 24/50\n",
      "1/1 [==============================] - 0s 136ms/step - loss: 0.2356 - accuracy: 0.9062\n",
      "Epoch 25/50\n",
      "1/1 [==============================] - 0s 136ms/step - loss: 0.1038 - accuracy: 0.9688\n",
      "Epoch 26/50\n",
      "1/1 [==============================] - 0s 132ms/step - loss: 0.1395 - accuracy: 0.9688\n",
      "Epoch 27/50\n",
      "1/1 [==============================] - 0s 125ms/step - loss: 0.0736 - accuracy: 0.9688\n",
      "Epoch 28/50\n",
      "1/1 [==============================] - 0s 159ms/step - loss: 0.1467 - accuracy: 0.9062\n",
      "Epoch 29/50\n",
      "1/1 [==============================] - 0s 140ms/step - loss: 0.0534 - accuracy: 1.0000\n",
      "Epoch 30/50\n",
      "1/1 [==============================] - 0s 147ms/step - loss: 0.0946 - accuracy: 0.9688\n",
      "Epoch 31/50\n",
      "1/1 [==============================] - 0s 148ms/step - loss: 0.0596 - accuracy: 0.9688\n",
      "Epoch 32/50\n",
      "1/1 [==============================] - 0s 157ms/step - loss: 0.0457 - accuracy: 0.9688\n",
      "Epoch 33/50\n",
      "1/1 [==============================] - 0s 144ms/step - loss: 0.0772 - accuracy: 0.9688\n",
      "Epoch 34/50\n",
      "1/1 [==============================] - 0s 141ms/step - loss: 0.0343 - accuracy: 1.0000\n",
      "Epoch 35/50\n",
      "1/1 [==============================] - 0s 156ms/step - loss: 0.0366 - accuracy: 1.0000\n",
      "Epoch 36/50\n",
      "1/1 [==============================] - 0s 150ms/step - loss: 0.0602 - accuracy: 1.0000\n",
      "Epoch 37/50\n",
      "1/1 [==============================] - 0s 146ms/step - loss: 0.0215 - accuracy: 1.0000\n",
      "Epoch 38/50\n",
      "1/1 [==============================] - 0s 146ms/step - loss: 0.0354 - accuracy: 1.0000\n",
      "Epoch 39/50\n",
      "1/1 [==============================] - 0s 144ms/step - loss: 0.0418 - accuracy: 1.0000\n",
      "Epoch 40/50\n",
      "1/1 [==============================] - 0s 132ms/step - loss: 0.0198 - accuracy: 1.0000\n",
      "Epoch 41/50\n",
      "1/1 [==============================] - 0s 135ms/step - loss: 0.0263 - accuracy: 1.0000\n",
      "Epoch 42/50\n",
      "1/1 [==============================] - 0s 136ms/step - loss: 0.0299 - accuracy: 1.0000\n",
      "Epoch 43/50\n",
      "1/1 [==============================] - 0s 141ms/step - loss: 0.0151 - accuracy: 1.0000\n",
      "Epoch 44/50\n",
      "1/1 [==============================] - 0s 148ms/step - loss: 0.0192 - accuracy: 1.0000\n",
      "Epoch 45/50\n",
      "1/1 [==============================] - 0s 134ms/step - loss: 0.0239 - accuracy: 1.0000\n",
      "Epoch 46/50\n",
      "1/1 [==============================] - 0s 144ms/step - loss: 0.0146 - accuracy: 1.0000\n",
      "Epoch 47/50\n",
      "1/1 [==============================] - 0s 144ms/step - loss: 0.0098 - accuracy: 1.0000\n",
      "Epoch 48/50\n",
      "1/1 [==============================] - 0s 145ms/step - loss: 0.0152 - accuracy: 1.0000\n",
      "Epoch 49/50\n",
      "1/1 [==============================] - 0s 155ms/step - loss: 0.0143 - accuracy: 1.0000\n",
      "Epoch 50/50\n",
      "1/1 [==============================] - 0s 136ms/step - loss: 0.0083 - accuracy: 1.0000\n"
     ]
    },
    {
     "data": {
      "text/plain": [
       "<keras.callbacks.History at 0x149ecfa90>"
      ]
     },
     "execution_count": 549,
     "metadata": {},
     "output_type": "execute_result"
    }
   ],
   "source": [
    "model.fit(X, y, epochs=100, verbose=1)"
   ]
  },
  {
   "cell_type": "code",
   "execution_count": 550,
   "id": "fac21157-ab79-46c0-8125-a8b90aff66b6",
   "metadata": {},
   "outputs": [
    {
     "name": "stdout",
     "output_type": "stream",
     "text": [
      "1/1 [==============================] - 0s 28ms/step\n"
     ]
    },
    {
     "data": {
      "text/plain": [
       "array([[1.  , 0.  , 0.  ],\n",
       "       [0.  , 1.  , 0.  ],\n",
       "       [0.  , 0.  , 1.  ],\n",
       "       [0.  , 1.  , 0.  ],\n",
       "       [0.  , 1.  , 0.  ],\n",
       "       [0.95, 0.  , 0.05],\n",
       "       [1.  , 0.  , 0.  ],\n",
       "       [0.  , 1.  , 0.  ],\n",
       "       [0.  , 1.  , 0.  ],\n",
       "       [0.  , 0.13, 0.87],\n",
       "       [1.  , 0.  , 0.  ],\n",
       "       [0.  , 0.  , 1.  ],\n",
       "       [0.  , 1.  , 0.  ],\n",
       "       [1.  , 0.  , 0.  ],\n",
       "       [0.  , 1.  , 0.  ],\n",
       "       [0.95, 0.  , 0.05],\n",
       "       [0.  , 1.  , 0.  ],\n",
       "       [0.  , 0.  , 1.  ],\n",
       "       [0.  , 0.  , 1.  ],\n",
       "       [1.  , 0.  , 0.  ],\n",
       "       [0.  , 1.  , 0.  ],\n",
       "       [1.  , 0.  , 0.  ],\n",
       "       [0.  , 0.  , 1.  ],\n",
       "       [0.  , 1.  , 0.  ],\n",
       "       [0.  , 1.  , 0.  ],\n",
       "       [0.  , 1.  , 0.  ],\n",
       "       [1.  , 0.  , 0.  ],\n",
       "       [0.03, 0.  , 0.97],\n",
       "       [0.  , 1.  , 0.  ],\n",
       "       [0.  , 1.  , 0.  ],\n",
       "       [0.  , 1.  , 0.  ],\n",
       "       [1.  , 0.  , 0.  ]], dtype=float32)"
      ]
     },
     "execution_count": 550,
     "metadata": {},
     "output_type": "execute_result"
    }
   ],
   "source": [
    "test_data = X # X[0].reshape(-1, n_steps, n_features)\n",
    "y_pred = model.predict(test_data, verbose=1)\n",
    "y_pred.round(2)"
   ]
  },
  {
   "cell_type": "code",
   "execution_count": 551,
   "id": "6cdb5406-b702-4eb4-a25c-cdfbe95f42f0",
   "metadata": {},
   "outputs": [
    {
     "data": {
      "text/plain": [
       "array([[1., 0., 0.],\n",
       "       [0., 1., 0.],\n",
       "       [0., 0., 1.],\n",
       "       [0., 1., 0.],\n",
       "       [0., 1., 0.],\n",
       "       [1., 0., 0.],\n",
       "       [1., 0., 0.],\n",
       "       [0., 1., 0.],\n",
       "       [0., 1., 0.],\n",
       "       [0., 0., 1.],\n",
       "       [1., 0., 0.],\n",
       "       [0., 0., 1.],\n",
       "       [0., 1., 0.],\n",
       "       [1., 0., 0.],\n",
       "       [0., 1., 0.],\n",
       "       [1., 0., 0.],\n",
       "       [0., 1., 0.],\n",
       "       [0., 0., 1.],\n",
       "       [0., 0., 1.],\n",
       "       [1., 0., 0.],\n",
       "       [0., 1., 0.],\n",
       "       [1., 0., 0.],\n",
       "       [0., 0., 1.],\n",
       "       [0., 1., 0.],\n",
       "       [0., 1., 0.],\n",
       "       [0., 1., 0.],\n",
       "       [1., 0., 0.],\n",
       "       [0., 0., 1.],\n",
       "       [0., 1., 0.],\n",
       "       [0., 1., 0.],\n",
       "       [0., 1., 0.],\n",
       "       [1., 0., 0.]])"
      ]
     },
     "execution_count": 551,
     "metadata": {},
     "output_type": "execute_result"
    }
   ],
   "source": [
    "y"
   ]
  },
  {
   "cell_type": "code",
   "execution_count": null,
   "id": "31e6c318-31f2-442e-9bd3-8265b43674b8",
   "metadata": {},
   "outputs": [],
   "source": []
  }
 ],
 "metadata": {
  "kernelspec": {
   "display_name": "py38",
   "language": "python",
   "name": "py38"
  },
  "language_info": {
   "codemirror_mode": {
    "name": "ipython",
    "version": 3
   },
   "file_extension": ".py",
   "mimetype": "text/x-python",
   "name": "python",
   "nbconvert_exporter": "python",
   "pygments_lexer": "ipython3",
   "version": "3.8.12"
  }
 },
 "nbformat": 4,
 "nbformat_minor": 5
}
