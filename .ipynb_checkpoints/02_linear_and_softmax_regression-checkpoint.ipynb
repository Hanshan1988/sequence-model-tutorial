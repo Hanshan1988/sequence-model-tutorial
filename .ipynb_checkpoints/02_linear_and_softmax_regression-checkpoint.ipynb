{
 "cells": [
  {
   "cell_type": "markdown",
   "id": "d692cc8e-c80b-432e-b994-ca6917333210",
   "metadata": {},
   "source": [
    "# Basic Supervised Linear Models"
   ]
  },
  {
   "cell_type": "markdown",
   "id": "c30d3b11-c0bd-46fb-a9b2-c6749a7baa86",
   "metadata": {},
   "source": [
    "## Import Pacakges"
   ]
  },
  {
   "cell_type": "code",
   "execution_count": 1,
   "id": "f950c04a-2788-4f3c-b1db-20a3cf97dfce",
   "metadata": {},
   "outputs": [],
   "source": [
    "import tensorflow as tf\n",
    "import torch\n",
    "from torch.utils import data\n",
    "from torch import nn\n",
    "\n",
    "import numpy as np\n",
    "import sys\n",
    "import matplotlib.pyplot as plt\n",
    "from matplotlib import cm\n",
    "\n",
    "plt.rcParams[\"figure.figsize\"] = (8, 8)"
   ]
  },
  {
   "cell_type": "code",
   "execution_count": 2,
   "id": "771b5455-3d51-4e34-90be-ef7ce412fe82",
   "metadata": {},
   "outputs": [
    {
     "name": "stdout",
     "output_type": "stream",
     "text": [
      "2.8.0\n"
     ]
    }
   ],
   "source": [
    "print(tf.__version__)"
   ]
  },
  {
   "cell_type": "code",
   "execution_count": 3,
   "id": "b3dae20a-32c1-4a39-999e-bcad271eabf5",
   "metadata": {},
   "outputs": [
    {
     "name": "stdout",
     "output_type": "stream",
     "text": [
      "1.8.0\n"
     ]
    }
   ],
   "source": [
    "print(torch.__version__)"
   ]
  },
  {
   "cell_type": "markdown",
   "id": "a2689cb2-125c-471c-9d46-005931f4a592",
   "metadata": {},
   "source": [
    "* https://www.tensorflow.org/tutorials/keras/regression\n",
    "* https://adamoudad.github.io/posts/keras_torch_comparison/syntax/"
   ]
  },
  {
   "cell_type": "markdown",
   "id": "ecdee1e3-cba0-46bd-94d8-f1dbcbc96c7e",
   "metadata": {},
   "source": [
    "## Problem - Regression"
   ]
  },
  {
   "cell_type": "markdown",
   "id": "d19aef35-cc38-4373-bb4c-853270f4a4d8",
   "metadata": {},
   "source": [
    "### Global Variables"
   ]
  },
  {
   "cell_type": "code",
   "execution_count": 4,
   "id": "ec22c2f3-8cc3-43f2-95df-b3e32e28ed42",
   "metadata": {},
   "outputs": [],
   "source": [
    "LEARNING_RATE = 0.03\n",
    "NUM_EPOCHS = 5\n",
    "BATCH_SIZE = 8\n",
    "INIT_STDDEV = 0.01 # model weights - random initialisation from normal distribution\n",
    "NUM_EXAMPLES = 1000\n",
    "CMAP = \"plasma\" # colour map"
   ]
  },
  {
   "cell_type": "markdown",
   "id": "55b1c876-dbb8-4f59-b313-bd09a524752c",
   "metadata": {},
   "source": [
    "### Data Preparation"
   ]
  },
  {
   "cell_type": "code",
   "execution_count": 5,
   "id": "8f2cbf68-5c93-42e5-bd56-a101e8f3c4d9",
   "metadata": {},
   "outputs": [],
   "source": [
    "def generate_synthetic_linear_data(w, b, num_examples):\n",
    "    X = tf.zeros((num_examples, w.shape[0]))\n",
    "    X += tf.random.normal(shape=X.shape)\n",
    "    y = tf.matmul(X, tf.reshape(w, (-1, 1))) + b\n",
    "    y += tf.random.normal(shape=y.shape, stddev=0.01)\n",
    "    y = tf.reshape(y, (-1, 1))\n",
    "    return X, y"
   ]
  },
  {
   "cell_type": "code",
   "execution_count": 6,
   "id": "1a48c5ea-1b01-46a5-804d-ebcb14cb19a3",
   "metadata": {},
   "outputs": [
    {
     "name": "stdout",
     "output_type": "stream",
     "text": [
      "Metal device set to: Apple M1 Pro\n"
     ]
    },
    {
     "name": "stderr",
     "output_type": "stream",
     "text": [
      "2022-04-21 17:48:08.116818: I tensorflow/core/common_runtime/pluggable_device/pluggable_device_factory.cc:305] Could not identify NUMA node of platform GPU ID 0, defaulting to 0. Your kernel may not have been built with NUMA support.\n",
      "2022-04-21 17:48:08.116960: I tensorflow/core/common_runtime/pluggable_device/pluggable_device_factory.cc:271] Created TensorFlow device (/job:localhost/replica:0/task:0/device:GPU:0 with 0 MB memory) -> physical PluggableDevice (device: 0, name: METAL, pci bus id: <undefined>)\n"
     ]
    }
   ],
   "source": [
    "true_w = tf.constant([2.0, -3.0])\n",
    "true_b = 4.0\n",
    "features, labels = generate_synthetic_linear_data(true_w, true_b, NUM_EXAMPLES)"
   ]
  },
  {
   "cell_type": "code",
   "execution_count": 7,
   "id": "bad4cf31-233a-462e-b33f-9cb44f86e261",
   "metadata": {},
   "outputs": [
    {
     "data": {
      "text/plain": [
       "(<tf.Tensor: shape=(8, 2), dtype=float32, numpy=\n",
       " array([[ 0.49819988,  0.26167566],\n",
       "        [ 0.50835073,  0.66266036],\n",
       "        [ 0.39945233,  1.7223704 ],\n",
       "        [ 0.05216664, -0.04732446],\n",
       "        [ 0.9355902 ,  0.09843853],\n",
       "        [-1.8547513 ,  0.18512383],\n",
       "        [ 0.86756206,  0.48787257],\n",
       "        [ 0.09033983,  0.6811939 ]], dtype=float32)>,\n",
       " <tf.Tensor: shape=(8, 1), dtype=float32, numpy=\n",
       " array([[ 4.218138  ],\n",
       "        [ 3.0381043 ],\n",
       "        [-0.37223765],\n",
       "        [ 4.2388263 ],\n",
       "        [ 5.5872264 ],\n",
       "        [-0.25500798],\n",
       "        [ 4.2721395 ],\n",
       "        [ 2.128608  ]], dtype=float32)>)"
      ]
     },
     "execution_count": 7,
     "metadata": {},
     "output_type": "execute_result"
    }
   ],
   "source": [
    "features[:BATCH_SIZE], labels[:BATCH_SIZE]"
   ]
  },
  {
   "cell_type": "code",
   "execution_count": 8,
   "id": "41ca63b9-e3e4-4d55-bcd9-ce68bf3cebaf",
   "metadata": {},
   "outputs": [],
   "source": [
    "X = np.array(features); y = np.array(labels)"
   ]
  },
  {
   "cell_type": "code",
   "execution_count": 9,
   "id": "fcc24707-171a-4b32-9df3-c17049e4ba43",
   "metadata": {},
   "outputs": [
    {
     "data": {
      "text/plain": [
       "<matplotlib.colorbar.Colorbar at 0x166f8caf0>"
      ]
     },
     "execution_count": 9,
     "metadata": {},
     "output_type": "execute_result"
    },
    {
     "data": {
      "image/png": "[encoded data removed]",
      "text/plain": [
       "<Figure size 576x576 with 2 Axes>"
      ]
     },
     "metadata": {
      "needs_background": "light"
     },
     "output_type": "display_data"
    }
   ],
   "source": [
    "fig, ax = plt.subplots()\n",
    "points = ax.scatter(X[:,0], X[:, 1], c=y, cmap=CMAP)\n",
    "plt.xlabel(\"X1\")\n",
    "plt.ylabel(\"X2\")\n",
    "fig.colorbar(points)"
   ]
  },
  {
   "cell_type": "code",
   "execution_count": 10,
   "id": "a921ba1c-a51d-41e3-a429-e85129bf4706",
   "metadata": {},
   "outputs": [],
   "source": [
    "def load_array(data_arrays, batch_size, is_train=True):  #@save\n",
    "    \"\"\"Construct a TensorFlow data iterator.\"\"\"\n",
    "    dataset = tf.data.Dataset.from_tensor_slices(data_arrays)\n",
    "    if is_train:\n",
    "        dataset = dataset.shuffle(buffer_size=1000)\n",
    "    dataset = dataset.batch(batch_size)\n",
    "    return dataset"
   ]
  },
  {
   "cell_type": "code",
   "execution_count": 11,
   "id": "b706b9f5-ef2d-468b-9ccb-e19a66aba2f6",
   "metadata": {},
   "outputs": [],
   "source": [
    "data_iter = load_array((features, labels), BATCH_SIZE)"
   ]
  },
  {
   "cell_type": "code",
   "execution_count": 12,
   "id": "189664c0-1021-46a5-9a5b-24c6fe5e3d70",
   "metadata": {},
   "outputs": [
    {
     "data": {
      "text/plain": [
       "(<tf.Tensor: shape=(8, 2), dtype=float32, numpy=\n",
       " array([[-0.32826585, -0.624103  ],\n",
       "        [-0.54240763,  0.6486937 ],\n",
       "        [-0.77148104, -1.8318863 ],\n",
       "        [ 0.22389792,  0.82278204],\n",
       "        [ 1.1405072 ,  0.7058091 ],\n",
       "        [-0.15634336, -1.6258978 ],\n",
       "        [-0.91431147, -1.3644891 ],\n",
       "        [-0.18616125,  2.5733786 ]], dtype=float32)>,\n",
       " <tf.Tensor: shape=(8, 1), dtype=float32, numpy=\n",
       " array([[ 5.213985  ],\n",
       "        [ 0.95619285],\n",
       "        [ 7.959001  ],\n",
       "        [ 1.9712979 ],\n",
       "        [ 4.1691365 ],\n",
       "        [ 8.569927  ],\n",
       "        [ 6.2461214 ],\n",
       "        [-4.099703  ]], dtype=float32)>)"
      ]
     },
     "execution_count": 12,
     "metadata": {},
     "output_type": "execute_result"
    }
   ],
   "source": [
    "next(iter(data_iter))"
   ]
  },
  {
   "cell_type": "markdown",
   "id": "96a0cab3-923e-4081-afca-68076f889488",
   "metadata": {},
   "source": [
    "---"
   ]
  },
  {
   "cell_type": "code",
   "execution_count": 8,
   "id": "95e8b75a-ec1e-41d0-9783-87b319b9aee7",
   "metadata": {},
   "outputs": [],
   "source": [
    "def generate_synthetic_linear_data(w, b, num_examples):\n",
    "    X = torch.normal(0, 1, (num_examples, len(w)))\n",
    "    y = torch.matmul(X, w) + b\n",
    "    y += torch.normal(0, 0.01, y.shape)\n",
    "    return X, torch.reshape(y, (-1, 1))"
   ]
  },
  {
   "cell_type": "code",
   "execution_count": 9,
   "id": "352e9ba6-e40d-4458-b235-476163311206",
   "metadata": {},
   "outputs": [],
   "source": [
    "true_w = torch.tensor([2.0, -3.0])\n",
    "true_b = 4.0\n",
    "features, labels = generate_synthetic_linear_data(true_w, true_b, NUM_EXAMPLES)"
   ]
  },
  {
   "cell_type": "code",
   "execution_count": 10,
   "id": "7b663559-f0c6-4300-a829-ef0c9d1cb32b",
   "metadata": {},
   "outputs": [
    {
     "data": {
      "text/plain": [
       "(tensor([[-0.8709,  1.3806],\n",
       "         [ 0.2399,  1.2924],\n",
       "         [ 0.4397, -0.1730],\n",
       "         [-0.8213, -0.9638],\n",
       "         [-0.0828, -1.9842],\n",
       "         [ 1.4869,  0.8752],\n",
       "         [ 1.3431,  0.3002],\n",
       "         [ 0.6629, -0.2908]]),\n",
       " tensor([[-1.8806],\n",
       "         [ 0.6040],\n",
       "         [ 5.4012],\n",
       "         [ 5.2458],\n",
       "         [ 9.7714],\n",
       "         [ 4.3440],\n",
       "         [ 5.7948],\n",
       "         [ 6.1853]]))"
      ]
     },
     "execution_count": 10,
     "metadata": {},
     "output_type": "execute_result"
    }
   ],
   "source": [
    "features[:BATCH_SIZE], labels[:BATCH_SIZE]"
   ]
  },
  {
   "cell_type": "code",
   "execution_count": 11,
   "id": "ee00b3fa-4fd3-4d99-ae0b-124f890fdb6f",
   "metadata": {},
   "outputs": [],
   "source": [
    "X = np.array(features); y = np.array(labels)"
   ]
  },
  {
   "cell_type": "code",
   "execution_count": 14,
   "id": "6904357f-9d6a-46fa-b7ad-1556e03dbfb9",
   "metadata": {},
   "outputs": [],
   "source": [
    "def load_array(data_arrays, batch_size, is_train=True):  #@save\n",
    "    \"\"\"Construct a PyTorch data iterator.\"\"\"\n",
    "    dataset = data.TensorDataset(*data_arrays)\n",
    "    return data.DataLoader(dataset, batch_size, shuffle=is_train)"
   ]
  },
  {
   "cell_type": "code",
   "execution_count": 15,
   "id": "c755857d-fd2c-4c0c-846c-6c1cc34b3f01",
   "metadata": {},
   "outputs": [
    {
     "ename": "NameError",
     "evalue": "name 'data' is not defined",
     "output_type": "error",
     "traceback": [
      "\u001b[0;31m---------------------------------------------------------------------------\u001b[0m",
      "\u001b[0;31mNameError\u001b[0m                                 Traceback (most recent call last)",
      "\u001b[0;32m/var/folders/sd/mz_l847n579df0n5l438fcl00000gr/T/ipykernel_3173/2274794553.py\u001b[0m in \u001b[0;36m<module>\u001b[0;34m\u001b[0m\n\u001b[0;32m----> 1\u001b[0;31m \u001b[0mdata_iter\u001b[0m \u001b[0;34m=\u001b[0m \u001b[0mload_array\u001b[0m\u001b[0;34m(\u001b[0m\u001b[0;34m(\u001b[0m\u001b[0mfeatures\u001b[0m\u001b[0;34m,\u001b[0m \u001b[0mlabels\u001b[0m\u001b[0;34m)\u001b[0m\u001b[0;34m,\u001b[0m \u001b[0mBATCH_SIZE\u001b[0m\u001b[0;34m)\u001b[0m\u001b[0;34m\u001b[0m\u001b[0;34m\u001b[0m\u001b[0m\n\u001b[0m",
      "\u001b[0;32m/var/folders/sd/mz_l847n579df0n5l438fcl00000gr/T/ipykernel_3173/1568644803.py\u001b[0m in \u001b[0;36mload_array\u001b[0;34m(data_arrays, batch_size, is_train)\u001b[0m\n\u001b[1;32m      1\u001b[0m \u001b[0;32mdef\u001b[0m \u001b[0mload_array\u001b[0m\u001b[0;34m(\u001b[0m\u001b[0mdata_arrays\u001b[0m\u001b[0;34m,\u001b[0m \u001b[0mbatch_size\u001b[0m\u001b[0;34m,\u001b[0m \u001b[0mis_train\u001b[0m\u001b[0;34m=\u001b[0m\u001b[0;32mTrue\u001b[0m\u001b[0;34m)\u001b[0m\u001b[0;34m:\u001b[0m  \u001b[0;31m#@save\u001b[0m\u001b[0;34m\u001b[0m\u001b[0;34m\u001b[0m\u001b[0m\n\u001b[1;32m      2\u001b[0m     \u001b[0;34m\"\"\"Construct a PyTorch data iterator.\"\"\"\u001b[0m\u001b[0;34m\u001b[0m\u001b[0;34m\u001b[0m\u001b[0m\n\u001b[0;32m----> 3\u001b[0;31m     \u001b[0mdataset\u001b[0m \u001b[0;34m=\u001b[0m \u001b[0mdata\u001b[0m\u001b[0;34m.\u001b[0m\u001b[0mTensorDataset\u001b[0m\u001b[0;34m(\u001b[0m\u001b[0;34m*\u001b[0m\u001b[0mdata_arrays\u001b[0m\u001b[0;34m)\u001b[0m\u001b[0;34m\u001b[0m\u001b[0;34m\u001b[0m\u001b[0m\n\u001b[0m\u001b[1;32m      4\u001b[0m     \u001b[0;32mreturn\u001b[0m \u001b[0mdata\u001b[0m\u001b[0;34m.\u001b[0m\u001b[0mDataLoader\u001b[0m\u001b[0;34m(\u001b[0m\u001b[0mdataset\u001b[0m\u001b[0;34m,\u001b[0m \u001b[0mbatch_size\u001b[0m\u001b[0;34m,\u001b[0m \u001b[0mshuffle\u001b[0m\u001b[0;34m=\u001b[0m\u001b[0mis_train\u001b[0m\u001b[0;34m)\u001b[0m\u001b[0;34m\u001b[0m\u001b[0;34m\u001b[0m\u001b[0m\n",
      "\u001b[0;31mNameError\u001b[0m: name 'data' is not defined"
     ]
    }
   ],
   "source": [
    "data_iter = load_array((features, labels), BATCH_SIZE)"
   ]
  },
  {
   "cell_type": "code",
   "execution_count": 93,
   "id": "06094160-160e-4ecf-a4e4-f4782ee44d87",
   "metadata": {},
   "outputs": [
    {
     "data": {
      "text/plain": [
       "[tensor([[-0.0657, -0.1107],\n",
       "         [ 1.5656, -0.1040],\n",
       "         [-0.1117,  1.7631],\n",
       "         [ 1.4144, -0.9430],\n",
       "         [ 2.2220, -0.3852],\n",
       "         [ 1.3255, -1.3807],\n",
       "         [-0.0439,  2.0420],\n",
       "         [-1.1209, -1.8969]]),\n",
       " tensor([[ 4.2046],\n",
       "         [ 7.4437],\n",
       "         [-1.5116],\n",
       "         [ 9.6566],\n",
       "         [ 9.5990],\n",
       "         [10.7831],\n",
       "         [-2.2273],\n",
       "         [ 7.4394]])]"
      ]
     },
     "execution_count": 93,
     "metadata": {},
     "output_type": "execute_result"
    }
   ],
   "source": [
    "next(iter(data_iter))"
   ]
  },
  {
   "cell_type": "markdown",
   "id": "5d664979-c834-44ec-af58-95d99fff1e1c",
   "metadata": {},
   "source": [
    "### Model Training"
   ]
  },
  {
   "cell_type": "markdown",
   "id": "354b4def-cfae-4b7b-8b7b-80914ff81b39",
   "metadata": {},
   "source": [
    "#### TF Keras Sequential API "
   ]
  },
  {
   "cell_type": "markdown",
   "id": "23b54257-d9d9-4c97-ae12-88e57f26a3be",
   "metadata": {},
   "source": [
    "Need to rerun tensorflow data prep part!"
   ]
  },
  {
   "cell_type": "code",
   "execution_count": 13,
   "id": "78d19303-3287-4432-9019-de8adf52867d",
   "metadata": {},
   "outputs": [],
   "source": [
    "def rmse(y_true, y_pred):\n",
    "    return tf.sqrt(tf.reduce_mean(tf.square(y_pred - y_true)))"
   ]
  },
  {
   "cell_type": "code",
   "execution_count": 14,
   "id": "dfdb05e1-5df7-4ff6-ba98-2d3c45fd8efe",
   "metadata": {},
   "outputs": [],
   "source": [
    "initializer = tf.initializers.RandomNormal(stddev=INIT_STDDEV)\n",
    "loss = tf.keras.losses.MeanSquaredError()\n",
    "optimizer = tf.keras.optimizers.SGD(learning_rate=LEARNING_RATE)"
   ]
  },
  {
   "cell_type": "markdown",
   "id": "4021b138-faca-4c01-8efb-bf31eeb496be",
   "metadata": {},
   "source": [
    "**Model architecture**"
   ]
  },
  {
   "cell_type": "code",
   "execution_count": 15,
   "id": "99e158bf-45ce-47cb-8752-f7c5d5ffcec9",
   "metadata": {},
   "outputs": [],
   "source": [
    "model = tf.keras.Sequential([\n",
    "    tf.keras.layers.InputLayer(input_shape=(2, ), name='input'),\n",
    "    tf.keras.layers.Dense(1, activation='linear', \n",
    "                          kernel_initializer=initializer,\n",
    "                          name='dense')\n",
    "])"
   ]
  },
  {
   "cell_type": "code",
   "execution_count": 16,
   "id": "af69678c-9c1d-43a1-842a-cdd3fcc4b004",
   "metadata": {},
   "outputs": [],
   "source": [
    "# Alternatively\n",
    "model = tf.keras.Sequential()\n",
    "model.add(tf.keras.layers.InputLayer(input_shape=(2, )))\n",
    "model.add(tf.keras.layers.Dense(1, kernel_initializer=initializer))"
   ]
  },
  {
   "cell_type": "code",
   "execution_count": 17,
   "id": "32d30ded-aa48-4d75-b884-b4fbdda82e24",
   "metadata": {},
   "outputs": [
    {
     "name": "stdout",
     "output_type": "stream",
     "text": [
      "Model: \"sequential_1\"\n",
      "_________________________________________________________________\n",
      " Layer (type)                Output Shape              Param #   \n",
      "=================================================================\n",
      " dense (Dense)               (None, 1)                 3         \n",
      "                                                                 \n",
      "=================================================================\n",
      "Total params: 3\n",
      "Trainable params: 3\n",
      "Non-trainable params: 0\n",
      "_________________________________________________________________\n"
     ]
    }
   ],
   "source": [
    "model.summary()"
   ]
  },
  {
   "cell_type": "markdown",
   "id": "06f763b5-8aa4-4b61-82a1-709cec928f99",
   "metadata": {},
   "source": [
    "* The input layer can be ommited here and model can be fitted on input data at a later stage. This way however, `model.summary()` can only be called later when the input data shape is known to the object.\n",
    "* Any types of feature preprocessing e.g. normalisation (`tf.keras.layers.Normalization`) or flatten (`tf.keras.layers.Flatten` in images) operations can also be included in the sequential steps as the initial layer."
   ]
  },
  {
   "cell_type": "code",
   "execution_count": 18,
   "id": "131f10ae-0fb5-4ce5-b634-2676ecaa5025",
   "metadata": {},
   "outputs": [],
   "source": [
    "model = tf.keras.Sequential([\n",
    "  tf.keras.layers.Dense(1, activation='linear', \n",
    "                        kernel_initializer=initializer)\n",
    "])"
   ]
  },
  {
   "cell_type": "code",
   "execution_count": 19,
   "id": "adce0ef4-64b3-4d9a-9f16-eb360b2ea8db",
   "metadata": {},
   "outputs": [
    {
     "ename": "ValueError",
     "evalue": "This model has not yet been built. Build the model first by calling `build()` or by calling the model on a batch of data.",
     "output_type": "error",
     "traceback": [
      "\u001b[0;31m---------------------------------------------------------------------------\u001b[0m",
      "\u001b[0;31mValueError\u001b[0m                                Traceback (most recent call last)",
      "\u001b[0;32m/var/folders/sd/mz_l847n579df0n5l438fcl00000gr/T/ipykernel_3203/3470139634.py\u001b[0m in \u001b[0;36m<module>\u001b[0;34m\u001b[0m\n\u001b[0;32m----> 1\u001b[0;31m \u001b[0mmodel\u001b[0m\u001b[0;34m.\u001b[0m\u001b[0msummary\u001b[0m\u001b[0;34m(\u001b[0m\u001b[0;34m)\u001b[0m\u001b[0;34m\u001b[0m\u001b[0;34m\u001b[0m\u001b[0m\n\u001b[0m",
      "\u001b[0;32m~/miniforge3/envs/py38/lib/python3.8/site-packages/keras/engine/training.py\u001b[0m in \u001b[0;36msummary\u001b[0;34m(self, line_length, positions, print_fn, expand_nested, show_trainable)\u001b[0m\n\u001b[1;32m   2773\u001b[0m     \"\"\"\n\u001b[1;32m   2774\u001b[0m     \u001b[0;32mif\u001b[0m \u001b[0;32mnot\u001b[0m \u001b[0mself\u001b[0m\u001b[0;34m.\u001b[0m\u001b[0mbuilt\u001b[0m\u001b[0;34m:\u001b[0m\u001b[0;34m\u001b[0m\u001b[0;34m\u001b[0m\u001b[0m\n\u001b[0;32m-> 2775\u001b[0;31m       raise ValueError(\n\u001b[0m\u001b[1;32m   2776\u001b[0m           \u001b[0;34m'This model has not yet been built. '\u001b[0m\u001b[0;34m\u001b[0m\u001b[0;34m\u001b[0m\u001b[0m\n\u001b[1;32m   2777\u001b[0m           \u001b[0;34m'Build the model first by calling `build()` or by calling '\u001b[0m\u001b[0;34m\u001b[0m\u001b[0;34m\u001b[0m\u001b[0m\n",
      "\u001b[0;31mValueError\u001b[0m: This model has not yet been built. Build the model first by calling `build()` or by calling the model on a batch of data."
     ]
    }
   ],
   "source": [
    "model.summary()"
   ]
  },
  {
   "cell_type": "markdown",
   "id": "b845551c-0026-46be-85ce-e8078a9f6d18",
   "metadata": {},
   "source": [
    "* Here we didn't define the input layer so naturally we cannot call `model.summary()` as the object doesn't know anything about the shape of the input data. However this will still work provided input is passed in the model training stage that follows"
   ]
  },
  {
   "cell_type": "markdown",
   "id": "ca27f4ac-4189-4df8-a2d7-5bf3ecd6e2a4",
   "metadata": {},
   "source": [
    "**Training process**"
   ]
  },
  {
   "cell_type": "code",
   "execution_count": 20,
   "id": "7e3632de-5108-4a7a-b49d-2496ec599855",
   "metadata": {},
   "outputs": [],
   "source": [
    "def train_batch(model, features, labels, batch_size, loss, num_epochs, optimizer):\n",
    "    data_iter = load_array((features, labels), batch_size)\n",
    "    for epoch in range(num_epochs):\n",
    "        for X, y in data_iter:\n",
    "            with tf.GradientTape() as tape:\n",
    "                l = loss(model(X, training=True), y)\n",
    "            grads = tape.gradient(l, model.trainable_variables)\n",
    "            optimizer.apply_gradients(zip(grads, model.trainable_variables))\n",
    "        l = loss(model(features), labels)\n",
    "        print(f'epoch {epoch + 1}, loss {l:f}')"
   ]
  },
  {
   "cell_type": "code",
   "execution_count": 21,
   "id": "46aed491-06d7-4680-9475-c9d2b75bd59c",
   "metadata": {},
   "outputs": [
    {
     "name": "stdout",
     "output_type": "stream",
     "text": [
      "epoch 1, loss 0.000106\n",
      "epoch 2, loss 0.000095\n",
      "epoch 3, loss 0.000096\n",
      "epoch 4, loss 0.000095\n",
      "epoch 5, loss 0.000095\n"
     ]
    }
   ],
   "source": [
    "train_batch(model, features, labels, BATCH_SIZE, loss, NUM_EPOCHS, optimizer)"
   ]
  },
  {
   "cell_type": "markdown",
   "id": "2df6369c-7259-4af6-959d-269f355f0f05",
   "metadata": {},
   "source": [
    "**Training Process (Alternative)**"
   ]
  },
  {
   "cell_type": "code",
   "execution_count": 79,
   "id": "6876a56f-9c14-40e9-9e8e-aed6436b48c0",
   "metadata": {},
   "outputs": [
    {
     "name": "stdout",
     "output_type": "stream",
     "text": [
      "Epoch 1/5\n",
      " 28/125 [=====>........................] - ETA: 0s - loss: 8.7392 - mse: 8.7392 - rmse: 2.6327  "
     ]
    },
    {
     "name": "stderr",
     "output_type": "stream",
     "text": [
      "2022-04-21 17:44:43.714873: I tensorflow/core/grappler/optimizers/custom_graph_optimizer_registry.cc:113] Plugin optimizer for device_type GPU is enabled.\n"
     ]
    },
    {
     "name": "stdout",
     "output_type": "stream",
     "text": [
      "125/125 [==============================] - 1s 4ms/step - loss: 2.0188 - mse: 2.0188 - rmse: 0.7092\n",
      "Epoch 2/5\n",
      "125/125 [==============================] - 0s 4ms/step - loss: 9.4456e-05 - mse: 9.4456e-05 - rmse: 0.0095\n",
      "Epoch 3/5\n",
      "125/125 [==============================] - 0s 4ms/step - loss: 9.4786e-05 - mse: 9.4786e-05 - rmse: 0.0095\n",
      "Epoch 4/5\n",
      "125/125 [==============================] - 0s 4ms/step - loss: 9.3757e-05 - mse: 9.3757e-05 - rmse: 0.0094\n",
      "Epoch 5/5\n",
      "125/125 [==============================] - 0s 4ms/step - loss: 9.4719e-05 - mse: 9.4719e-05 - rmse: 0.0095\n"
     ]
    },
    {
     "data": {
      "text/plain": [
       "<keras.callbacks.History at 0x1502b8100>"
      ]
     },
     "execution_count": 79,
     "metadata": {},
     "output_type": "execute_result"
    }
   ],
   "source": [
    "model.compile(optimizer=optimizer,\n",
    "              loss=loss,\n",
    "              metrics=['mse', rmse])\n",
    "model.fit(data_iter,\n",
    "          epochs=NUM_EPOCHS)"
   ]
  },
  {
   "cell_type": "markdown",
   "id": "454ab016-ca5a-437a-9c23-0be429b2ebeb",
   "metadata": {},
   "source": [
    "**Results**"
   ]
  },
  {
   "cell_type": "code",
   "execution_count": 80,
   "id": "3d43d48a-0f84-4088-922b-37c672ed321c",
   "metadata": {},
   "outputs": [
    {
     "name": "stdout",
     "output_type": "stream",
     "text": [
      "error in estimating w tf.Tensor([0.00019109 0.00045037], shape=(2,), dtype=float32)\n",
      "error in estimating b [0.00023079]\n"
     ]
    }
   ],
   "source": [
    "w = model.get_weights()[0]\n",
    "print('error in estimating w', true_w - tf.reshape(w, true_w.shape))\n",
    "b = model.get_weights()[1]\n",
    "print('error in estimating b', true_b - b)"
   ]
  },
  {
   "cell_type": "code",
   "execution_count": 81,
   "id": "3cd1508f-9bd1-4d1b-81f1-b7b5f85d7a34",
   "metadata": {},
   "outputs": [
    {
     "name": "stdout",
     "output_type": "stream",
     "text": [
      "[[ 1.9998089]\n",
      " [-3.0004504]]\n",
      "[3.9997692]\n"
     ]
    }
   ],
   "source": [
    "print(w)\n",
    "print(b)"
   ]
  },
  {
   "cell_type": "markdown",
   "id": "01c79b54-7062-4c1a-9b2c-eea7b41d540f",
   "metadata": {},
   "source": [
    "#### TF Keras Functional API"
   ]
  },
  {
   "cell_type": "markdown",
   "id": "12238e26-5827-4bff-804f-3725aa4c8c71",
   "metadata": {},
   "source": [
    "**Model Architecture**"
   ]
  },
  {
   "cell_type": "code",
   "execution_count": 82,
   "id": "42b59bc1-3bb7-4c2e-abf0-0c2977a72736",
   "metadata": {},
   "outputs": [],
   "source": [
    "inputs = tf.keras.Input(shape=(2,))\n",
    "outputs = tf.keras.layers.Dense(1)(inputs)"
   ]
  },
  {
   "cell_type": "code",
   "execution_count": 83,
   "id": "ebbc4b9d-b777-4cb6-9eaf-7af6e19b9e49",
   "metadata": {},
   "outputs": [
    {
     "name": "stdout",
     "output_type": "stream",
     "text": [
      "Model: \"linear_model\"\n",
      "_________________________________________________________________\n",
      " Layer (type)                Output Shape              Param #   \n",
      "=================================================================\n",
      " input_7 (InputLayer)        [(None, 2)]               0         \n",
      "                                                                 \n",
      " dense_8 (Dense)             (None, 1)                 3         \n",
      "                                                                 \n",
      "=================================================================\n",
      "Total params: 3\n",
      "Trainable params: 3\n",
      "Non-trainable params: 0\n",
      "_________________________________________________________________\n"
     ]
    }
   ],
   "source": [
    "model = tf.keras.Model(inputs=inputs, outputs=outputs, name=\"linear_model\")\n",
    "model.summary()"
   ]
  },
  {
   "cell_type": "markdown",
   "id": "9f408c1c-08ea-4527-aa9f-a1538b3fad90",
   "metadata": {},
   "source": [
    "**Training Process**"
   ]
  },
  {
   "cell_type": "code",
   "execution_count": 84,
   "id": "ec4e60d8-6227-487f-98f3-75b8b8befa25",
   "metadata": {},
   "outputs": [
    {
     "name": "stdout",
     "output_type": "stream",
     "text": [
      "Epoch 1/5\n",
      " 25/125 [=====>........................] - ETA: 0s - loss: 8.7610 - mse: 8.7610 - rmse: 2.7185  "
     ]
    },
    {
     "name": "stderr",
     "output_type": "stream",
     "text": [
      "2022-04-21 17:45:00.344618: I tensorflow/core/grappler/optimizers/custom_graph_optimizer_registry.cc:113] Plugin optimizer for device_type GPU is enabled.\n"
     ]
    },
    {
     "name": "stdout",
     "output_type": "stream",
     "text": [
      "125/125 [==============================] - 1s 4ms/step - loss: 1.8394 - mse: 1.8394 - rmse: 0.6924\n",
      "Epoch 2/5\n",
      "125/125 [==============================] - 0s 4ms/step - loss: 9.5053e-05 - mse: 9.5053e-05 - rmse: 0.0095\n",
      "Epoch 3/5\n",
      "125/125 [==============================] - 0s 4ms/step - loss: 9.5042e-05 - mse: 9.5042e-05 - rmse: 0.0094\n",
      "Epoch 4/5\n",
      "125/125 [==============================] - 0s 4ms/step - loss: 9.4339e-05 - mse: 9.4339e-05 - rmse: 0.0094\n",
      "Epoch 5/5\n",
      "125/125 [==============================] - 0s 4ms/step - loss: 9.4757e-05 - mse: 9.4757e-05 - rmse: 0.0094\n"
     ]
    },
    {
     "data": {
      "text/plain": [
       "<keras.callbacks.History at 0x1508ca640>"
      ]
     },
     "execution_count": 84,
     "metadata": {},
     "output_type": "execute_result"
    }
   ],
   "source": [
    "model.compile(optimizer=optimizer,\n",
    "              loss=loss,\n",
    "              metrics=['mse', rmse])\n",
    "model.fit(data_iter,\n",
    "          epochs=NUM_EPOCHS)"
   ]
  },
  {
   "cell_type": "code",
   "execution_count": 85,
   "id": "e410501f-e72c-4b22-94c4-6113f5fe1e90",
   "metadata": {},
   "outputs": [
    {
     "name": "stdout",
     "output_type": "stream",
     "text": [
      "error in estimating w tf.Tensor([0.00047648 0.00010657], shape=(2,), dtype=float32)\n",
      "error in estimating b [-0.00039101]\n"
     ]
    }
   ],
   "source": [
    "w = model.get_weights()[0]\n",
    "print('error in estimating w', true_w - tf.reshape(w, true_w.shape))\n",
    "b = model.get_weights()[1]\n",
    "print('error in estimating b', true_b - b)"
   ]
  },
  {
   "cell_type": "code",
   "execution_count": 86,
   "id": "b4779ee6-63c4-403a-8a87-4cbbd938e594",
   "metadata": {},
   "outputs": [
    {
     "name": "stdout",
     "output_type": "stream",
     "text": [
      "[[ 1.9995235]\n",
      " [-3.0001066]]\n",
      "[4.000391]\n"
     ]
    }
   ],
   "source": [
    "print(w)\n",
    "print(b)"
   ]
  },
  {
   "cell_type": "markdown",
   "id": "5ef760b7-d0cf-4f63-8ec4-879d68a287a8",
   "metadata": {},
   "source": [
    "#### Pytorch "
   ]
  },
  {
   "cell_type": "markdown",
   "id": "560ec337-ad0d-43d7-9de9-28c7924a1a9f",
   "metadata": {},
   "source": [
    "References\n",
    "* https://pytorch.org/docs/stable/generated/torch.nn.Module.html\n",
    "* https://medium.com/biaslyai/pytorch-linear-and-logistic-regression-models-5c5f0da2cb9\n",
    "* https://medium.com/biaslyai/pytorch-introduction-to-neural-network-feedforward-neural-network-model-e7231cff47cb"
   ]
  },
  {
   "cell_type": "markdown",
   "id": "3a0675c2-180b-4e60-8ac5-ebd217fabd9b",
   "metadata": {},
   "source": [
    "Need to rerun Pytorch data prep part first!"
   ]
  },
  {
   "cell_type": "code",
   "execution_count": 94,
   "id": "f5a62b69-b154-4ada-916e-918ee25cba45",
   "metadata": {},
   "outputs": [],
   "source": [
    "model = nn.Sequential(nn.Linear(2, 1))"
   ]
  },
  {
   "cell_type": "code",
   "execution_count": 95,
   "id": "0fbf0990-24cb-44fa-8e41-773041331862",
   "metadata": {},
   "outputs": [
    {
     "data": {
      "text/plain": [
       "Sequential(\n",
       "  (0): Linear(in_features=2, out_features=1, bias=True)\n",
       ")"
      ]
     },
     "execution_count": 95,
     "metadata": {},
     "output_type": "execute_result"
    }
   ],
   "source": [
    "# Optional - initialise model weights\n",
    "def init_weights(m):\n",
    "    if type(m) == nn.Linear:\n",
    "        nn.init.normal_(m.weight, std=INIT_STDDEV)\n",
    "\n",
    "model.apply(init_weights)"
   ]
  },
  {
   "cell_type": "code",
   "execution_count": 96,
   "id": "9d123100-ecc8-4c1d-9b4a-2bd0858f02aa",
   "metadata": {},
   "outputs": [],
   "source": [
    "loss = nn.MSELoss()\n",
    "optimizer = torch.optim.SGD(model.parameters(), lr=LEARNING_RATE)"
   ]
  },
  {
   "cell_type": "code",
   "execution_count": 97,
   "id": "e7c8e241-3896-4f9c-a87b-1ff975112394",
   "metadata": {},
   "outputs": [],
   "source": [
    "def train_batch(model, train_iter, loss, num_epochs, optimizer):\n",
    "    for epoch in range(num_epochs):\n",
    "        for X, y in train_iter:\n",
    "            l = loss(model(X) ,y)\n",
    "            optimizer.zero_grad()\n",
    "            l.backward()\n",
    "            optimizer.step()\n",
    "        l = loss(model(features), labels)\n",
    "        print(f'epoch {epoch + 1}, loss {l:f}')"
   ]
  },
  {
   "cell_type": "code",
   "execution_count": 98,
   "id": "33fa60eb-3aaa-4d0b-9cee-ac897390f4f9",
   "metadata": {},
   "outputs": [
    {
     "name": "stdout",
     "output_type": "stream",
     "text": [
      "epoch 1, loss 0.000121\n",
      "epoch 2, loss 0.000102\n",
      "epoch 3, loss 0.000104\n",
      "epoch 4, loss 0.000103\n",
      "epoch 5, loss 0.000105\n"
     ]
    }
   ],
   "source": [
    "train_batch(model, data_iter, loss, NUM_EPOCHS, optimizer)"
   ]
  },
  {
   "cell_type": "code",
   "execution_count": 99,
   "id": "5fdb552e-2a72-4807-ae25-cee9557c9508",
   "metadata": {},
   "outputs": [
    {
     "name": "stdout",
     "output_type": "stream",
     "text": [
      "error in estimating w: tensor([-0.0008, -0.0001])\n",
      "error in estimating b: tensor([-0.0010])\n"
     ]
    }
   ],
   "source": [
    "w = model[0].weight.data\n",
    "print('error in estimating w:', true_w - w.reshape(true_w.shape))\n",
    "b = model[0].bias.data\n",
    "print('error in estimating b:', true_b - b)"
   ]
  },
  {
   "cell_type": "code",
   "execution_count": 100,
   "id": "258509ac-d82c-4a02-b1c2-79e2fcc1b0bc",
   "metadata": {},
   "outputs": [
    {
     "name": "stdout",
     "output_type": "stream",
     "text": [
      "tensor([[ 2.0008, -2.9999]])\n",
      "tensor([4.0010])\n"
     ]
    }
   ],
   "source": [
    "print(w)\n",
    "print(b)"
   ]
  },
  {
   "cell_type": "code",
   "execution_count": null,
   "id": "23d3034d-1bc6-4d5f-a39c-0760adaf665b",
   "metadata": {},
   "outputs": [],
   "source": []
  }
 ],
 "metadata": {
  "kernelspec": {
   "display_name": "py38",
   "language": "python",
   "name": "py38"
  },
  "language_info": {
   "codemirror_mode": {
    "name": "ipython",
    "version": 3
   },
   "file_extension": ".py",
   "mimetype": "text/x-python",
   "name": "python",
   "nbconvert_exporter": "python",
   "pygments_lexer": "ipython3",
   "version": "3.8.12"
  }
 },
 "nbformat": 4,
 "nbformat_minor": 5
}
