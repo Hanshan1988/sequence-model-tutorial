{
 "cells": [
  {
   "cell_type": "markdown",
   "id": "d692cc8e-c80b-432e-b994-ca6917333210",
   "metadata": {},
   "source": [
    "# Recurrent Neural Networks"
   ]
  },
  {
   "cell_type": "markdown",
   "id": "c30d3b11-c0bd-46fb-a9b2-c6749a7baa86",
   "metadata": {},
   "source": [
    "## Import Pacakges"
   ]
  },
  {
   "cell_type": "code",
   "execution_count": 4,
   "id": "f950c04a-2788-4f3c-b1db-20a3cf97dfce",
   "metadata": {},
   "outputs": [],
   "source": [
    "import tensorflow as tf\n",
    "import torch\n",
    "from torch import nn\n",
    "from torch.utils import data\n",
    "from torch.autograd import Variable\n",
    "\n",
    "import random\n",
    "import sys\n",
    "import os\n",
    "import numpy as np\n",
    "import datetime as dt\n",
    "import matplotlib.pyplot as plt\n",
    "from sklearn.preprocessing import OneHotEncoder\n",
    "\n",
    "plt.rcParams[\"figure.figsize\"] = (8, 8)"
   ]
  },
  {
   "cell_type": "code",
   "execution_count": 5,
   "id": "3c58fd96-ee45-454a-afa0-f4d84b9e54eb",
   "metadata": {},
   "outputs": [
    {
     "name": "stdout",
     "output_type": "stream",
     "text": [
      "The tensorboard extension is already loaded. To reload it, use:\n",
      "  %reload_ext tensorboard\n"
     ]
    }
   ],
   "source": [
    "%load_ext tensorboard"
   ]
  },
  {
   "cell_type": "code",
   "execution_count": 6,
   "id": "771b5455-3d51-4e34-90be-ef7ce412fe82",
   "metadata": {},
   "outputs": [
    {
     "name": "stdout",
     "output_type": "stream",
     "text": [
      "2.8.0\n"
     ]
    }
   ],
   "source": [
    "print(tf.__version__)"
   ]
  },
  {
   "cell_type": "code",
   "execution_count": 7,
   "id": "35f53b2d-2302-49a7-abf6-0a1c6b653b0a",
   "metadata": {},
   "outputs": [
    {
     "name": "stdout",
     "output_type": "stream",
     "text": [
      "1.8.0\n"
     ]
    }
   ],
   "source": [
    "print(torch.__version__)"
   ]
  },
  {
   "cell_type": "markdown",
   "id": "8809fabc-c506-447e-9db8-0c805992287c",
   "metadata": {},
   "source": [
    "RNN Theory\n",
    "* https://colah.github.io/posts/2015-08-Understanding-LSTMs/\n",
    "* http://karpathy.github.io/2015/05/21/rnn-effectiveness/\n",
    "* https://d2l.ai/chapter_recurrent-neural-networks/sequence.html\n",
    "* https://towardsdatascience.com/all-you-need-to-know-about-rnns-e514f0b00c7c\n",
    "\n",
    "RNN Practice\n",
    "* https://datascience-enthusiast.com/DL/Building_a_Recurrent_Neural_Network-Step_by_Step_v1.html\n",
    "* https://www.tensorflow.org/tutorials/structured_data/time_series\n",
    "\n",
    "Binary, Multi-class and Multi-lablel Cross-Entropy\n",
    "* https://towardsdatascience.com/cross-entropy-for-classification-d98e7f974451\n",
    "\n",
    "Data Preparation for Numerical Sequence Data\n",
    "* https://medium.com/@nutanbhogendrasharma/simple-sequence-prediction-with-lstm-69ff0f4d57cd\n",
    "\n",
    "Advanced Use Case: Multi-variate Multi-step Time Series Forecasting with Stacked LSTM and Autoencoder\n",
    "* https://www.analyticsvidhya.com/blog/2020/10/multivariate-multi-step-time-series-forecasting-using-stacked-lstm-sequence-to-sequence-autoencoder-in-tensorflow-2-0-keras/\n",
    "\n",
    "PyTorch RNN\n",
    "* https://www.analyticsvidhya.com/blog/2021/07/understanding-rnn-step-by-step-with-pytorch/\n",
    "* https://towardsdatascience.com/building-rnn-lstm-and-gru-for-time-series-using-pytorch-a46e5b094e7b\n",
    "\n",
    "CNN for Sequence Models\n",
    "* https://towardsdatascience.com/how-to-use-convolutional-neural-networks-for-time-series-classification-56b1b0a07a57\n",
    "* https://www.macnica.co.jp/business/ai_iot/columns/135112/"
   ]
  },
  {
   "cell_type": "markdown",
   "id": "cb2d3300-4d20-4855-b0d1-913e87349b84",
   "metadata": {},
   "source": [
    "## Global Variables"
   ]
  },
  {
   "cell_type": "code",
   "execution_count": 9,
   "id": "0a8c38a4-8a04-456f-9d7c-0f5cccff41eb",
   "metadata": {},
   "outputs": [],
   "source": [
    "LEARNING_RATE = 0.03\n",
    "NUM_EPOCHS = 80\n",
    "BATCH_SIZE = 32\n",
    "INIT_STDDEV = 0.01 # model weights - random initialisation from normal distribution\n",
    "NUM_EXAMPLES = 100\n",
    "HEAD_ROWS = 10"
   ]
  },
  {
   "cell_type": "markdown",
   "id": "026b8966-c4fe-4e00-a739-c8c9f87c5a6f",
   "metadata": {},
   "source": [
    "## Input Data"
   ]
  },
  {
   "cell_type": "markdown",
   "id": "6661c509-c4f4-4692-9afd-49226b0cc504",
   "metadata": {},
   "source": [
    "* NLP use case would involve encoding words to vectors (easiest method being one-hot encoding)\n",
    "* Time series use case would leave the input as is but the dimension would change depending on if univariate or multivariate time series"
   ]
  },
  {
   "cell_type": "markdown",
   "id": "ecdee1e3-cba0-46bd-94d8-f1dbcbc96c7e",
   "metadata": {},
   "source": [
    "### Categorical Input Data - NLP Problems"
   ]
  },
  {
   "cell_type": "code",
   "execution_count": 10,
   "id": "a76f554d-6f7f-4362-bf53-b811b4200f19",
   "metadata": {},
   "outputs": [],
   "source": [
    "def ohe_encode_str_seq(str_seq):\n",
    "    \"\"\"\n",
    "    one-hot-encode a string sequence\n",
    "    \"\"\"\n",
    "    seq_reshaped = np.array([char for char in str_seq]).reshape(-1, 1) \n",
    "    ohe_enc = OneHotEncoder()\n",
    "    ohe_enc.fit(seq_reshaped)\n",
    "    seq_ohe = ohe_enc.transform(seq_reshaped).toarray()\n",
    "    return seq_ohe, ohe_enc"
   ]
  },
  {
   "cell_type": "code",
   "execution_count": 12,
   "id": "4b5ff4f9-66ac-4ee1-b885-1a664f24fc38",
   "metadata": {},
   "outputs": [
    {
     "data": {
      "text/plain": [
       "'abbccabbccabbccabbccabbccabbccabbccabbccabbccabbccabbccabbccabbccabbccabbccabbccabbccabbccabbccabbcc'"
      ]
     },
     "execution_count": 12,
     "metadata": {},
     "output_type": "execute_result"
    }
   ],
   "source": [
    "# sequence = 'abcabcabcabcabc'\n",
    "str_seq = 'abbccabbcc' * 10\n",
    "str_seq"
   ]
  },
  {
   "cell_type": "code",
   "execution_count": 13,
   "id": "5d7b3f70-1de6-4aca-aebb-d111062f2474",
   "metadata": {},
   "outputs": [
    {
     "name": "stdout",
     "output_type": "stream",
     "text": [
      "100\n"
     ]
    }
   ],
   "source": [
    "print(len(str_seq))"
   ]
  },
  {
   "cell_type": "code",
   "execution_count": 14,
   "id": "189a2255-f161-4b32-bdc3-b00280e51fe5",
   "metadata": {},
   "outputs": [],
   "source": [
    "str_seq_ohe, ohe_enc = ohe_encode_str_seq(str_seq)"
   ]
  },
  {
   "cell_type": "code",
   "execution_count": 63,
   "id": "015a972f-29c6-4bd0-b9cd-45fac24a6a9a",
   "metadata": {},
   "outputs": [
    {
     "data": {
      "text/plain": [
       "'abbccabbcc'"
      ]
     },
     "execution_count": 63,
     "metadata": {},
     "output_type": "execute_result"
    }
   ],
   "source": [
    "str_seq[: HEAD_ROWS]"
   ]
  },
  {
   "cell_type": "code",
   "execution_count": 15,
   "id": "20da6172-0a3e-4f4a-9637-e0b1d20bb523",
   "metadata": {},
   "outputs": [
    {
     "name": "stdout",
     "output_type": "stream",
     "text": [
      "(100, 3)\n"
     ]
    },
    {
     "data": {
      "text/plain": [
       "array([[1., 0., 0.],\n",
       "       [0., 1., 0.],\n",
       "       [0., 1., 0.],\n",
       "       [0., 0., 1.],\n",
       "       [0., 0., 1.],\n",
       "       [1., 0., 0.],\n",
       "       [0., 1., 0.],\n",
       "       [0., 1., 0.],\n",
       "       [0., 0., 1.],\n",
       "       [0., 0., 1.]])"
      ]
     },
     "execution_count": 15,
     "metadata": {},
     "output_type": "execute_result"
    }
   ],
   "source": [
    "print(str_seq_ohe.shape)\n",
    "str_seq_ohe[: HEAD_ROWS]"
   ]
  },
  {
   "cell_type": "markdown",
   "id": "b1d208dd-9153-4160-93ee-10195bc8ef7a",
   "metadata": {},
   "source": [
    "### Numeric Input Data - Time Series Problems"
   ]
  },
  {
   "cell_type": "code",
   "execution_count": 16,
   "id": "8cac8810-f6b0-4975-b9a3-b9e1b94c1861",
   "metadata": {},
   "outputs": [],
   "source": [
    "# numeric example\n",
    "t = np.arange(0, 20, 0.2)\n",
    "x0 = 10 * np.sin(t)\n",
    "x1 = np.arange(NUM_EXAMPLES)\n",
    "x2 = x0 + x1"
   ]
  },
  {
   "cell_type": "code",
   "execution_count": 17,
   "id": "2e2f0047-27c4-4868-b56a-e7227cacf46f",
   "metadata": {},
   "outputs": [
    {
     "data": {
      "image/png": "[encoded data removed]",
      "text/plain": [
       "<Figure size 864x432 with 2 Axes>"
      ]
     },
     "metadata": {
      "needs_background": "light"
     },
     "output_type": "display_data"
    }
   ],
   "source": [
    "fig, (ax1, ax2) = plt.subplots(1, 2)\n",
    "fig.set_figheight(6)\n",
    "fig.set_figwidth(12)\n",
    "\n",
    "fig.suptitle('Plotting x0 and x2')\n",
    "ax1.plot(x0)\n",
    "ax2.plot(x2)\n",
    "plt.show()"
   ]
  },
  {
   "cell_type": "code",
   "execution_count": 23,
   "id": "379c30a5-a735-45e0-a6a7-e6de5174be2d",
   "metadata": {},
   "outputs": [
    {
     "data": {
      "text/plain": [
       "array([[0.        ],\n",
       "       [1.98669331],\n",
       "       [3.89418342],\n",
       "       [5.64642473],\n",
       "       [7.17356091],\n",
       "       [8.41470985],\n",
       "       [9.32039086],\n",
       "       [9.8544973 ],\n",
       "       [9.99573603],\n",
       "       [9.73847631]])"
      ]
     },
     "execution_count": 23,
     "metadata": {},
     "output_type": "execute_result"
    }
   ],
   "source": [
    "# One dimensional input\n",
    "num_seq = np.array(x0).reshape(-1, 1)\n",
    "num_seq[: HEAD_ROWS]"
   ]
  },
  {
   "cell_type": "code",
   "execution_count": 24,
   "id": "8349f622-e9ca-4937-bdc7-cd1fb823f9c1",
   "metadata": {},
   "outputs": [
    {
     "data": {
      "text/plain": [
       "(100, 1)"
      ]
     },
     "execution_count": 24,
     "metadata": {},
     "output_type": "execute_result"
    }
   ],
   "source": [
    "num_seq.shape"
   ]
  },
  {
   "cell_type": "code",
   "execution_count": 29,
   "id": "d3087f6e-d03a-4dc2-a8b2-290136703dfa",
   "metadata": {},
   "outputs": [
    {
     "data": {
      "text/plain": [
       "array([[ 0.        ,  0.        ,  0.        ],\n",
       "       [ 1.98669331,  1.        ,  2.98669331],\n",
       "       [ 3.89418342,  2.        ,  5.89418342],\n",
       "       [ 5.64642473,  3.        ,  8.64642473],\n",
       "       [ 7.17356091,  4.        , 11.17356091],\n",
       "       [ 8.41470985,  5.        , 13.41470985],\n",
       "       [ 9.32039086,  6.        , 15.32039086],\n",
       "       [ 9.8544973 ,  7.        , 16.8544973 ],\n",
       "       [ 9.99573603,  8.        , 17.99573603],\n",
       "       [ 9.73847631,  9.        , 18.73847631]])"
      ]
     },
     "execution_count": 29,
     "metadata": {},
     "output_type": "execute_result"
    }
   ],
   "source": [
    "# Multi dimensional input\n",
    "num_seq = np.swapaxes(np.array((x0, x1, x2)), 0, 1)\n",
    "num_seq[: HEAD_ROWS]"
   ]
  },
  {
   "cell_type": "code",
   "execution_count": 30,
   "id": "d1bfe82c-a0d9-4306-8fd2-f0136764aea9",
   "metadata": {},
   "outputs": [
    {
     "data": {
      "text/plain": [
       "(100, 3)"
      ]
     },
     "execution_count": 30,
     "metadata": {},
     "output_type": "execute_result"
    }
   ],
   "source": [
    "num_seq.shape"
   ]
  },
  {
   "cell_type": "markdown",
   "id": "a5ca2110-2ac2-48db-b64b-e3a47f478c53",
   "metadata": {},
   "source": [
    "## Training Data Preparation"
   ]
  },
  {
   "cell_type": "markdown",
   "id": "2096268d-cac5-49e0-831a-3ca50b5f8ed1",
   "metadata": {},
   "source": [
    "Input for data prep\n",
    "* Input sequence\n",
    "    * Would also determine how many features \n",
    "* Batch size\n",
    "    * Size of minibatches to train and update weights for\n",
    "* Sequence length\n",
    "    * How long of a sequence do you want to retain information for\n",
    "* Number of dimensions of output y\n",
    "    * Time series use case normally involve predicting one variable (even though multi-label prediction can also be possible if the input is multivariate time series)\n",
    "    * NLP use case normally involve predicting a multi-class output \n",
    "    \n",
    "Output\n",
    "* Array of size `(batch_size, sequence_length, num_features)`"
   ]
  },
  {
   "cell_type": "code",
   "execution_count": 25,
   "id": "109b44cc-db8b-47a5-b0ad-9589c8524388",
   "metadata": {},
   "outputs": [],
   "source": [
    "def get_ts_X_y(seq, batch_size, seq_len, output_idx=None, lookahead=1):\n",
    "    \"\"\"\n",
    "    Split sequence into features X and label y so that it's ready to be trained\n",
    "    if output_idx is None then we're predicting on all indices of the output y \n",
    "    \"\"\"\n",
    "    n_features = len(seq[0])\n",
    "    X = np.zeros((batch_size, seq_len, n_features))\n",
    "    y = np.zeros((batch_size, n_features))\n",
    "    for i in range(batch_size):\n",
    "        start_idx = np.random.choice(range(len(seq) - seq_len - lookahead)) # random start\n",
    "        x_obs = seq[start_idx : start_idx + seq_len]\n",
    "        y_obs = seq[start_idx + seq_len + lookahead]\n",
    "        X[i] = x_obs\n",
    "        y[i] = y_obs\n",
    "    if output_idx is not None:\n",
    "        y = y[:, output_idx]\n",
    "    print('Input X shape: ', X.shape)\n",
    "    print('Output y shape:', y.shape)\n",
    "    return X, y, n_features"
   ]
  },
  {
   "cell_type": "code",
   "execution_count": 26,
   "id": "2785d249-5c1e-4061-93b8-8373b4a16bf0",
   "metadata": {},
   "outputs": [],
   "source": [
    "seq_len = 15"
   ]
  },
  {
   "cell_type": "markdown",
   "id": "a83e033e-25e2-4f72-b4a1-74542df01d67",
   "metadata": {},
   "source": [
    "### NLP Use Case"
   ]
  },
  {
   "cell_type": "code",
   "execution_count": 27,
   "id": "ccc70d99-6752-4884-9fc2-e7944353bd25",
   "metadata": {},
   "outputs": [
    {
     "name": "stdout",
     "output_type": "stream",
     "text": [
      "Input X shape:  (32, 15, 3)\n",
      "Output y shape: (32, 3)\n"
     ]
    }
   ],
   "source": [
    "X_nlp, y_nlp, n_feat_nlp = get_ts_X_y(str_seq_ohe, BATCH_SIZE, seq_len)"
   ]
  },
  {
   "cell_type": "markdown",
   "id": "afc0e9ee-f2c0-4633-8707-468d86de9f90",
   "metadata": {},
   "source": [
    "### TS Use Case"
   ]
  },
  {
   "cell_type": "code",
   "execution_count": 31,
   "id": "4f828a68-d914-44d7-88d8-0ac2da8c23c3",
   "metadata": {},
   "outputs": [
    {
     "name": "stdout",
     "output_type": "stream",
     "text": [
      "Input X shape:  (32, 15, 3)\n",
      "Output y shape: (32,)\n"
     ]
    }
   ],
   "source": [
    "X_ts, y_ts, n_feat_ts = get_ts_X_y(num_seq, BATCH_SIZE, seq_len, output_idx=2)"
   ]
  },
  {
   "cell_type": "markdown",
   "id": "855d169b-200a-4abd-aa61-eba4d4d16939",
   "metadata": {},
   "source": [
    "## Model Building"
   ]
  },
  {
   "cell_type": "markdown",
   "id": "98f87fb2-4c84-4b21-b6b5-8b8f3a089f55",
   "metadata": {},
   "source": [
    "### NLP Use Case"
   ]
  },
  {
   "cell_type": "code",
   "execution_count": 32,
   "id": "c85d3136-7df7-4503-a8a0-69f08cdb8d99",
   "metadata": {},
   "outputs": [
    {
     "name": "stdout",
     "output_type": "stream",
     "text": [
      "WARNING:tensorflow:Layer lstm will not use cuDNN kernels since it doesn't meet the criteria. It will use a generic GPU kernel as fallback when running on GPU.\n",
      "Metal device set to: Apple M1 Pro\n"
     ]
    },
    {
     "name": "stderr",
     "output_type": "stream",
     "text": [
      "2022-06-03 08:42:56.537523: I tensorflow/core/common_runtime/pluggable_device/pluggable_device_factory.cc:305] Could not identify NUMA node of platform GPU ID 0, defaulting to 0. Your kernel may not have been built with NUMA support.\n",
      "2022-06-03 08:42:56.537832: I tensorflow/core/common_runtime/pluggable_device/pluggable_device_factory.cc:271] Created TensorFlow device (/job:localhost/replica:0/task:0/device:GPU:0 with 0 MB memory) -> physical PluggableDevice (device: 0, name: METAL, pci bus id: <undefined>)\n"
     ]
    }
   ],
   "source": [
    "nlp_model = tf.keras.Sequential([\n",
    "    tf.keras.layers.LSTM(50, activation='relu', input_shape=(seq_len, n_feat_nlp)),\n",
    "    tf.keras.layers.Dense(n_feat_nlp, activation=tf.nn.softmax)\n",
    "])"
   ]
  },
  {
   "cell_type": "code",
   "execution_count": 33,
   "id": "5abd4a13-08a0-4409-a077-8c6e2b16a085",
   "metadata": {},
   "outputs": [
    {
     "name": "stdout",
     "output_type": "stream",
     "text": [
      "Model: \"sequential\"\n",
      "_________________________________________________________________\n",
      " Layer (type)                Output Shape              Param #   \n",
      "=================================================================\n",
      " lstm (LSTM)                 (None, 50)                10800     \n",
      "                                                                 \n",
      " dense (Dense)               (None, 3)                 153       \n",
      "                                                                 \n",
      "=================================================================\n",
      "Total params: 10,953\n",
      "Trainable params: 10,953\n",
      "Non-trainable params: 0\n",
      "_________________________________________________________________\n"
     ]
    }
   ],
   "source": [
    "nlp_model.summary()"
   ]
  },
  {
   "cell_type": "code",
   "execution_count": 34,
   "id": "2c5e501c-0f90-49d9-ba79-ed56d7f504dc",
   "metadata": {},
   "outputs": [],
   "source": [
    "nlp_model.compile(loss='categorical_crossentropy',\n",
    "                  optimizer='adam',\n",
    "                  metrics=['accuracy'])"
   ]
  },
  {
   "cell_type": "code",
   "execution_count": 35,
   "id": "aec3ba3d-e0b4-47ff-9a81-87c3debbda92",
   "metadata": {},
   "outputs": [],
   "source": [
    "logdir = os.path.join(\"logs/nlp\", dt.datetime.now().strftime(\"%Y%m%d-%H%M%S\"))\n",
    "tensorboard_callback = tf.keras.callbacks.TensorBoard(logdir, histogram_freq=1)"
   ]
  },
  {
   "cell_type": "code",
   "execution_count": 36,
   "id": "405aabfd-a21e-48f7-a895-58a49bc86cff",
   "metadata": {},
   "outputs": [
    {
     "name": "stdout",
     "output_type": "stream",
     "text": [
      "Epoch 1/80\n"
     ]
    },
    {
     "name": "stderr",
     "output_type": "stream",
     "text": [
      "2022-06-03 08:43:01.679893: W tensorflow/core/platform/profile_utils/cpu_utils.cc:128] Failed to get CPU frequency: 0 Hz\n",
      "2022-06-03 08:43:02.184830: I tensorflow/core/grappler/optimizers/custom_graph_optimizer_registry.cc:113] Plugin optimizer for device_type GPU is enabled.\n"
     ]
    },
    {
     "name": "stdout",
     "output_type": "stream",
     "text": [
      "1/1 [==============================] - 2s 2s/step - loss: 1.0780 - accuracy: 0.5000\n",
      "Epoch 2/80\n",
      "1/1 [==============================] - 0s 140ms/step - loss: 1.0734 - accuracy: 0.5000\n",
      "Epoch 3/80\n",
      "1/1 [==============================] - 0s 143ms/step - loss: 1.0687 - accuracy: 0.5000\n",
      "Epoch 4/80\n",
      "1/1 [==============================] - 0s 145ms/step - loss: 1.0640 - accuracy: 0.5000\n",
      "Epoch 5/80\n",
      "1/1 [==============================] - 0s 171ms/step - loss: 1.0593 - accuracy: 0.5000\n",
      "Epoch 6/80\n",
      "1/1 [==============================] - 0s 172ms/step - loss: 1.0546 - accuracy: 0.5000\n",
      "Epoch 7/80\n",
      "1/1 [==============================] - 0s 161ms/step - loss: 1.0499 - accuracy: 0.5000\n",
      "Epoch 8/80\n",
      "1/1 [==============================] - 0s 162ms/step - loss: 1.0451 - accuracy: 0.5000\n",
      "Epoch 9/80\n",
      "1/1 [==============================] - 0s 174ms/step - loss: 1.0403 - accuracy: 0.5000\n",
      "Epoch 10/80\n",
      "1/1 [==============================] - 0s 154ms/step - loss: 1.0353 - accuracy: 0.5000\n",
      "Epoch 11/80\n",
      "1/1 [==============================] - 0s 150ms/step - loss: 1.0304 - accuracy: 0.5000\n",
      "Epoch 12/80\n",
      "1/1 [==============================] - 0s 150ms/step - loss: 1.0252 - accuracy: 0.5000\n",
      "Epoch 13/80\n",
      "1/1 [==============================] - 0s 147ms/step - loss: 1.0198 - accuracy: 0.5000\n",
      "Epoch 14/80\n",
      "1/1 [==============================] - 0s 149ms/step - loss: 1.0144 - accuracy: 0.5000\n",
      "Epoch 15/80\n",
      "1/1 [==============================] - 0s 149ms/step - loss: 1.0087 - accuracy: 0.5000\n",
      "Epoch 16/80\n",
      "1/1 [==============================] - 0s 154ms/step - loss: 1.0028 - accuracy: 0.5000\n",
      "Epoch 17/80\n",
      "1/1 [==============================] - 0s 142ms/step - loss: 0.9968 - accuracy: 0.5000\n",
      "Epoch 18/80\n",
      "1/1 [==============================] - 0s 142ms/step - loss: 0.9906 - accuracy: 0.5000\n",
      "Epoch 19/80\n",
      "1/1 [==============================] - 0s 143ms/step - loss: 0.9842 - accuracy: 0.5000\n",
      "Epoch 20/80\n",
      "1/1 [==============================] - 0s 134ms/step - loss: 0.9778 - accuracy: 0.5000\n",
      "Epoch 21/80\n",
      "1/1 [==============================] - 0s 135ms/step - loss: 0.9713 - accuracy: 0.5000\n",
      "Epoch 22/80\n",
      "1/1 [==============================] - 0s 142ms/step - loss: 0.9652 - accuracy: 0.5000\n",
      "Epoch 23/80\n",
      "1/1 [==============================] - 0s 164ms/step - loss: 0.9597 - accuracy: 0.5000\n",
      "Epoch 24/80\n",
      "1/1 [==============================] - 0s 166ms/step - loss: 0.9553 - accuracy: 0.5000\n",
      "Epoch 25/80\n",
      "1/1 [==============================] - 0s 171ms/step - loss: 0.9521 - accuracy: 0.5000\n",
      "Epoch 26/80\n",
      "1/1 [==============================] - 0s 167ms/step - loss: 0.9506 - accuracy: 0.5000\n",
      "Epoch 27/80\n",
      "1/1 [==============================] - 0s 169ms/step - loss: 0.9487 - accuracy: 0.5000\n",
      "Epoch 28/80\n",
      "1/1 [==============================] - 0s 166ms/step - loss: 0.9455 - accuracy: 0.5000\n",
      "Epoch 29/80\n",
      "1/1 [==============================] - 0s 168ms/step - loss: 0.9409 - accuracy: 0.5000\n",
      "Epoch 30/80\n",
      "1/1 [==============================] - 0s 166ms/step - loss: 0.9353 - accuracy: 0.5000\n",
      "Epoch 31/80\n",
      "1/1 [==============================] - 0s 171ms/step - loss: 0.9294 - accuracy: 0.5000\n",
      "Epoch 32/80\n",
      "1/1 [==============================] - 0s 179ms/step - loss: 0.9236 - accuracy: 0.5000\n",
      "Epoch 33/80\n",
      "1/1 [==============================] - 0s 214ms/step - loss: 0.9186 - accuracy: 0.5000\n",
      "Epoch 34/80\n",
      "1/1 [==============================] - 0s 196ms/step - loss: 0.9140 - accuracy: 0.5000\n",
      "Epoch 35/80\n",
      "1/1 [==============================] - 0s 222ms/step - loss: 0.9096 - accuracy: 0.5000\n",
      "Epoch 36/80\n",
      "1/1 [==============================] - 0s 175ms/step - loss: 0.9050 - accuracy: 0.5000\n",
      "Epoch 37/80\n",
      "1/1 [==============================] - 0s 163ms/step - loss: 0.8999 - accuracy: 0.5000\n",
      "Epoch 38/80\n",
      "1/1 [==============================] - 0s 211ms/step - loss: 0.8942 - accuracy: 0.5000\n",
      "Epoch 39/80\n",
      "1/1 [==============================] - 0s 172ms/step - loss: 0.8880 - accuracy: 0.5000\n",
      "Epoch 40/80\n",
      "1/1 [==============================] - 0s 172ms/step - loss: 0.8813 - accuracy: 0.7812\n",
      "Epoch 41/80\n",
      "1/1 [==============================] - 0s 214ms/step - loss: 0.8739 - accuracy: 0.7812\n",
      "Epoch 42/80\n",
      "1/1 [==============================] - 0s 171ms/step - loss: 0.8656 - accuracy: 0.7812\n",
      "Epoch 43/80\n",
      "1/1 [==============================] - 0s 147ms/step - loss: 0.8568 - accuracy: 0.7812\n",
      "Epoch 44/80\n",
      "1/1 [==============================] - 0s 193ms/step - loss: 0.8474 - accuracy: 0.7812\n",
      "Epoch 45/80\n",
      "1/1 [==============================] - 0s 220ms/step - loss: 0.8373 - accuracy: 0.7812\n",
      "Epoch 46/80\n",
      "1/1 [==============================] - 0s 168ms/step - loss: 0.8257 - accuracy: 0.7812\n",
      "Epoch 47/80\n",
      "1/1 [==============================] - 0s 167ms/step - loss: 0.8124 - accuracy: 0.7812\n",
      "Epoch 48/80\n",
      "1/1 [==============================] - 0s 205ms/step - loss: 0.7970 - accuracy: 0.7812\n",
      "Epoch 49/80\n",
      "1/1 [==============================] - 0s 189ms/step - loss: 0.7794 - accuracy: 0.7812\n",
      "Epoch 50/80\n",
      "1/1 [==============================] - 0s 242ms/step - loss: 0.7597 - accuracy: 0.7812\n",
      "Epoch 51/80\n",
      "1/1 [==============================] - 0s 185ms/step - loss: 0.7370 - accuracy: 0.7812\n",
      "Epoch 52/80\n",
      "1/1 [==============================] - 0s 205ms/step - loss: 0.7102 - accuracy: 0.8125\n",
      "Epoch 53/80\n",
      "1/1 [==============================] - 0s 155ms/step - loss: 0.6788 - accuracy: 0.8125\n",
      "Epoch 54/80\n",
      "1/1 [==============================] - 0s 201ms/step - loss: 0.6424 - accuracy: 0.8125\n",
      "Epoch 55/80\n",
      "1/1 [==============================] - 0s 237ms/step - loss: 0.6010 - accuracy: 0.8125\n",
      "Epoch 56/80\n",
      "1/1 [==============================] - 0s 184ms/step - loss: 0.5530 - accuracy: 0.8125\n",
      "Epoch 57/80\n",
      "1/1 [==============================] - 0s 139ms/step - loss: 0.5012 - accuracy: 0.8125\n",
      "Epoch 58/80\n",
      "1/1 [==============================] - 0s 147ms/step - loss: 0.4571 - accuracy: 0.8125\n",
      "Epoch 59/80\n",
      "1/1 [==============================] - 0s 158ms/step - loss: 0.4380 - accuracy: 0.8125\n",
      "Epoch 60/80\n",
      "1/1 [==============================] - 0s 165ms/step - loss: 0.4089 - accuracy: 1.0000\n",
      "Epoch 61/80\n",
      "1/1 [==============================] - 0s 155ms/step - loss: 0.3741 - accuracy: 0.8125\n",
      "Epoch 62/80\n",
      "1/1 [==============================] - 0s 149ms/step - loss: 0.3517 - accuracy: 0.8125\n",
      "Epoch 63/80\n",
      "1/1 [==============================] - 0s 146ms/step - loss: 0.3304 - accuracy: 1.0000\n",
      "Epoch 64/80\n",
      "1/1 [==============================] - 0s 162ms/step - loss: 0.3297 - accuracy: 0.9688\n",
      "Epoch 65/80\n",
      "1/1 [==============================] - 0s 144ms/step - loss: 0.2465 - accuracy: 1.0000\n",
      "Epoch 66/80\n",
      "1/1 [==============================] - 0s 171ms/step - loss: 0.2488 - accuracy: 1.0000\n",
      "Epoch 67/80\n",
      "1/1 [==============================] - 0s 157ms/step - loss: 0.2075 - accuracy: 1.0000\n",
      "Epoch 68/80\n",
      "1/1 [==============================] - 0s 151ms/step - loss: 0.1852 - accuracy: 1.0000\n",
      "Epoch 69/80\n",
      "1/1 [==============================] - 0s 159ms/step - loss: 0.1414 - accuracy: 1.0000\n",
      "Epoch 70/80\n",
      "1/1 [==============================] - 0s 151ms/step - loss: 0.1409 - accuracy: 1.0000\n",
      "Epoch 71/80\n",
      "1/1 [==============================] - 0s 150ms/step - loss: 0.0974 - accuracy: 1.0000\n",
      "Epoch 72/80\n",
      "1/1 [==============================] - 0s 150ms/step - loss: 0.0840 - accuracy: 1.0000\n",
      "Epoch 73/80\n",
      "1/1 [==============================] - 0s 138ms/step - loss: 0.0637 - accuracy: 1.0000\n",
      "Epoch 74/80\n",
      "1/1 [==============================] - 0s 177ms/step - loss: 0.0558 - accuracy: 1.0000\n",
      "Epoch 75/80\n",
      "1/1 [==============================] - 0s 152ms/step - loss: 0.0322 - accuracy: 1.0000\n",
      "Epoch 76/80\n",
      "1/1 [==============================] - 0s 153ms/step - loss: 0.0232 - accuracy: 1.0000\n",
      "Epoch 77/80\n",
      "1/1 [==============================] - 0s 154ms/step - loss: 0.0194 - accuracy: 1.0000\n",
      "Epoch 78/80\n",
      "1/1 [==============================] - 0s 168ms/step - loss: 0.0125 - accuracy: 1.0000\n",
      "Epoch 79/80\n",
      "1/1 [==============================] - 0s 156ms/step - loss: 0.0093 - accuracy: 1.0000\n",
      "Epoch 80/80\n",
      "1/1 [==============================] - 0s 158ms/step - loss: 0.0031 - accuracy: 1.0000\n"
     ]
    }
   ],
   "source": [
    "# callback = tf.keras.callbacks.EarlyStopping(monitor='loss', patience=3, restore_best_weights=True)\n",
    "history = nlp_model.fit(X_nlp, y_nlp, epochs=NUM_EPOCHS, verbose=1, callbacks=[tensorboard_callback])"
   ]
  },
  {
   "cell_type": "code",
   "execution_count": 38,
   "id": "0ad09913-9ec6-4b11-878f-d5d27b677d52",
   "metadata": {},
   "outputs": [
    {
     "data": {
      "text/html": [
       "\n",
       "      <iframe id=\"tensorboard-frame-51553a52c0dccd41\" width=\"100%\" height=\"800\" frameborder=\"0\">\n",
       "      </iframe>\n",
       "      <script>\n",
       "        (function() {\n",
       "          const frame = document.getElementById(\"tensorboard-frame-51553a52c0dccd41\");\n",
       "          const url = new URL(\"/\", window.location);\n",
       "          const port = 6007;\n",
       "          if (port) {\n",
       "            url.port = port;\n",
       "          }\n",
       "          frame.src = url;\n",
       "        })();\n",
       "      </script>\n",
       "    "
      ],
      "text/plain": [
       "<IPython.core.display.HTML object>"
      ]
     },
     "metadata": {},
     "output_type": "display_data"
    }
   ],
   "source": [
    "%tensorboard --logdir logs/nlp"
   ]
  },
  {
   "cell_type": "markdown",
   "id": "9baebc07-8f51-402c-ab3e-e4ebfb1552d9",
   "metadata": {},
   "source": [
    "## Validations metrics"
   ]
  },
  {
   "cell_type": "code",
   "execution_count": 51,
   "id": "84c05931-9705-4d99-9168-4105b8e52dce",
   "metadata": {},
   "outputs": [],
   "source": [
    "def get_valdn_metrics(tf_model, X_val, y_val, print_n=10, print_round=2, metrics=[]):\n",
    "    # X_val[0].reshape(-1, n_steps, n_features)\n",
    "    y_pred = tf_model.predict(X_val, verbose=0)\n",
    "    print(\"====> Predicted Target\")\n",
    "    print(y_pred[:print_n].round(print_round))\n",
    "    print(\"====> Actual Target\")\n",
    "    print(y_val[:print_n].round(print_round))\n",
    "    print(\"====> Validation Metrics\")\n",
    "    for metric in metrics:\n",
    "        name = metric.name if hasattr(metric, 'name') else metric.__name__\n",
    "        print(name, metric(y_val, y_pred).numpy())"
   ]
  },
  {
   "cell_type": "code",
   "execution_count": 50,
   "id": "105112fb-c614-4fb5-8d8b-049f38515099",
   "metadata": {},
   "outputs": [
    {
     "name": "stdout",
     "output_type": "stream",
     "text": [
      "====> Predicted Target\n",
      "[[0.   0.02 0.98]\n",
      " [0.   0.   1.  ]\n",
      " [0.   0.   1.  ]\n",
      " [1.   0.   0.  ]\n",
      " [0.   1.   0.  ]\n",
      " [0.   1.   0.  ]\n",
      " [0.   1.   0.  ]\n",
      " [0.   1.   0.  ]\n",
      " [0.   1.   0.  ]\n",
      " [0.   1.   0.  ]]\n",
      "====> Actual Target\n",
      "[[0. 0. 1.]\n",
      " [0. 0. 1.]\n",
      " [0. 0. 1.]\n",
      " [1. 0. 0.]\n",
      " [0. 1. 0.]\n",
      " [0. 1. 0.]\n",
      " [0. 1. 0.]\n",
      " [0. 1. 0.]\n",
      " [0. 1. 0.]\n",
      " [0. 1. 0.]]\n",
      "====> Validation Metrics\n",
      "categorical_crossentropy 0.0016161571\n"
     ]
    }
   ],
   "source": [
    "metrics = [tf.keras.losses.CategoricalCrossentropy()]\n",
    "get_valdn_metrics(nlp_model, X_nlp, y_nlp, metrics=metrics)"
   ]
  },
  {
   "cell_type": "markdown",
   "id": "c09642c1-8b20-4f0a-a8db-534d4f3d358a",
   "metadata": {},
   "source": [
    "### TS Use Case"
   ]
  },
  {
   "cell_type": "markdown",
   "id": "5dca1e67-99b7-470d-859d-c2a4a17b2ddd",
   "metadata": {},
   "source": [
    "#### RNN"
   ]
  },
  {
   "cell_type": "code",
   "execution_count": 52,
   "id": "95225e29-02eb-4f1e-92df-185ddfbc6433",
   "metadata": {},
   "outputs": [
    {
     "name": "stdout",
     "output_type": "stream",
     "text": [
      "Model: \"sequential_1\"\n",
      "_________________________________________________________________\n",
      " Layer (type)                Output Shape              Param #   \n",
      "=================================================================\n",
      " simple_rnn (SimpleRNN)      (None, 50)                2700      \n",
      "                                                                 \n",
      " dense_1 (Dense)             (None, 1)                 51        \n",
      "                                                                 \n",
      "=================================================================\n",
      "Total params: 2,751\n",
      "Trainable params: 2,751\n",
      "Non-trainable params: 0\n",
      "_________________________________________________________________\n"
     ]
    }
   ],
   "source": [
    "ts_rnn_model = tf.keras.Sequential([\n",
    "    tf.keras.layers.SimpleRNN(50, activation='relu', input_shape=(seq_len, n_feat_ts)),\n",
    "    tf.keras.layers.Dense(1)\n",
    "])\n",
    "\n",
    "ts_rnn_model.summary()"
   ]
  },
  {
   "cell_type": "code",
   "execution_count": 53,
   "id": "89ee6bb7-4f15-4879-828a-c4ffd777acc2",
   "metadata": {},
   "outputs": [],
   "source": [
    "ts_rnn_model.compile(loss='mse', \n",
    "                     optimizer='adam',\n",
    "                     metrics=[tf.metrics.MeanAbsoluteError()])"
   ]
  },
  {
   "cell_type": "code",
   "execution_count": 54,
   "id": "fb912f31-9716-4f24-8564-83d5d19ddc9c",
   "metadata": {},
   "outputs": [],
   "source": [
    "logdir = os.path.join(\"logs/ts\", dt.datetime.now().strftime(\"%Y%m%d-%H%M%S\"))\n",
    "tensorboard_callback = tf.keras.callbacks.TensorBoard(logdir, histogram_freq=1)"
   ]
  },
  {
   "cell_type": "code",
   "execution_count": 55,
   "id": "c3db8d5b-d494-47f4-b0a4-004429b3f9d5",
   "metadata": {},
   "outputs": [
    {
     "name": "stdout",
     "output_type": "stream",
     "text": [
      "Epoch 1/80\n"
     ]
    },
    {
     "name": "stderr",
     "output_type": "stream",
     "text": [
      "2022-06-03 08:48:37.207731: I tensorflow/core/grappler/optimizers/custom_graph_optimizer_registry.cc:113] Plugin optimizer for device_type GPU is enabled.\n"
     ]
    },
    {
     "name": "stdout",
     "output_type": "stream",
     "text": [
      "1/1 [==============================] - 1s 735ms/step - loss: 9603.2695 - mean_absolute_error: 90.3153\n",
      "Epoch 2/80\n",
      "1/1 [==============================] - 0s 104ms/step - loss: 9097.8496 - mean_absolute_error: 87.8980\n",
      "Epoch 3/80\n",
      "1/1 [==============================] - 0s 89ms/step - loss: 8602.8467 - mean_absolute_error: 85.4689\n",
      "Epoch 4/80\n",
      "1/1 [==============================] - 0s 110ms/step - loss: 8126.5010 - mean_absolute_error: 83.0647\n",
      "Epoch 5/80\n",
      "1/1 [==============================] - 0s 92ms/step - loss: 7675.1533 - mean_absolute_error: 80.7200\n",
      "Epoch 6/80\n",
      "1/1 [==============================] - 0s 92ms/step - loss: 7245.3145 - mean_absolute_error: 78.4194\n",
      "Epoch 7/80\n",
      "1/1 [==============================] - 0s 95ms/step - loss: 6831.0879 - mean_absolute_error: 76.1304\n",
      "Epoch 8/80\n",
      "1/1 [==============================] - 0s 93ms/step - loss: 6419.3086 - mean_absolute_error: 73.7977\n",
      "Epoch 9/80\n",
      "1/1 [==============================] - 0s 108ms/step - loss: 6008.2739 - mean_absolute_error: 71.4036\n",
      "Epoch 10/80\n",
      "1/1 [==============================] - 0s 93ms/step - loss: 5594.7979 - mean_absolute_error: 68.9111\n",
      "Epoch 11/80\n",
      "1/1 [==============================] - 0s 98ms/step - loss: 5179.9980 - mean_absolute_error: 66.3126\n",
      "Epoch 12/80\n",
      "1/1 [==============================] - 0s 105ms/step - loss: 4773.1250 - mean_absolute_error: 63.6597\n",
      "Epoch 13/80\n",
      "1/1 [==============================] - 0s 111ms/step - loss: 4374.9116 - mean_absolute_error: 60.9546\n",
      "Epoch 14/80\n",
      "1/1 [==============================] - 0s 101ms/step - loss: 3991.3401 - mean_absolute_error: 58.2192\n",
      "Epoch 15/80\n",
      "1/1 [==============================] - 0s 91ms/step - loss: 3620.5190 - mean_absolute_error: 55.4330\n",
      "Epoch 16/80\n",
      "1/1 [==============================] - 0s 101ms/step - loss: 3259.3657 - mean_absolute_error: 52.5777\n",
      "Epoch 17/80\n",
      "1/1 [==============================] - 0s 95ms/step - loss: 2903.3066 - mean_absolute_error: 49.6113\n",
      "Epoch 18/80\n",
      "1/1 [==============================] - 0s 98ms/step - loss: 2546.8018 - mean_absolute_error: 46.4566\n",
      "Epoch 19/80\n",
      "1/1 [==============================] - 0s 103ms/step - loss: 2188.3413 - mean_absolute_error: 43.0575\n",
      "Epoch 20/80\n",
      "1/1 [==============================] - 0s 100ms/step - loss: 1832.1375 - mean_absolute_error: 39.3983\n",
      "Epoch 21/80\n",
      "1/1 [==============================] - 0s 114ms/step - loss: 1479.9580 - mean_absolute_error: 35.4130\n",
      "Epoch 22/80\n",
      "1/1 [==============================] - 0s 97ms/step - loss: 1144.7356 - mean_absolute_error: 31.1584\n",
      "Epoch 23/80\n",
      "1/1 [==============================] - 0s 108ms/step - loss: 841.6336 - mean_absolute_error: 26.7199\n",
      "Epoch 24/80\n",
      "1/1 [==============================] - 0s 106ms/step - loss: 578.9967 - mean_absolute_error: 22.1041\n",
      "Epoch 25/80\n",
      "1/1 [==============================] - 0s 101ms/step - loss: 360.5893 - mean_absolute_error: 17.3004\n",
      "Epoch 26/80\n",
      "1/1 [==============================] - 0s 119ms/step - loss: 189.0649 - mean_absolute_error: 12.2194\n",
      "Epoch 27/80\n",
      "1/1 [==============================] - 0s 105ms/step - loss: 74.0897 - mean_absolute_error: 7.0792\n",
      "Epoch 28/80\n",
      "1/1 [==============================] - 0s 101ms/step - loss: 28.5191 - mean_absolute_error: 4.7061\n",
      "Epoch 29/80\n",
      "1/1 [==============================] - 0s 100ms/step - loss: 62.2782 - mean_absolute_error: 6.4960\n",
      "Epoch 30/80\n",
      "1/1 [==============================] - 0s 92ms/step - loss: 158.1528 - mean_absolute_error: 10.6053\n",
      "Epoch 31/80\n",
      "1/1 [==============================] - 0s 105ms/step - loss: 271.3241 - mean_absolute_error: 14.0267\n",
      "Epoch 32/80\n",
      "1/1 [==============================] - 0s 100ms/step - loss: 352.4702 - mean_absolute_error: 16.0606\n",
      "Epoch 33/80\n",
      "1/1 [==============================] - 0s 94ms/step - loss: 375.0456 - mean_absolute_error: 16.6173\n",
      "Epoch 34/80\n",
      "1/1 [==============================] - 0s 107ms/step - loss: 343.2636 - mean_absolute_error: 15.9260\n",
      "Epoch 35/80\n",
      "1/1 [==============================] - 0s 106ms/step - loss: 277.0811 - mean_absolute_error: 14.3134\n",
      "Epoch 36/80\n",
      "1/1 [==============================] - 0s 104ms/step - loss: 200.1693 - mean_absolute_error: 12.1708\n",
      "Epoch 37/80\n",
      "1/1 [==============================] - 0s 101ms/step - loss: 130.0202 - mean_absolute_error: 9.7912\n",
      "Epoch 38/80\n",
      "1/1 [==============================] - 0s 105ms/step - loss: 76.2065 - mean_absolute_error: 7.3572\n",
      "Epoch 39/80\n",
      "1/1 [==============================] - 0s 105ms/step - loss: 41.7295 - mean_absolute_error: 5.3334\n",
      "Epoch 40/80\n",
      "1/1 [==============================] - 0s 103ms/step - loss: 24.7126 - mean_absolute_error: 4.0256\n",
      "Epoch 41/80\n",
      "1/1 [==============================] - 0s 101ms/step - loss: 21.4732 - mean_absolute_error: 4.0646\n",
      "Epoch 42/80\n",
      "1/1 [==============================] - 0s 100ms/step - loss: 27.5799 - mean_absolute_error: 4.5017\n",
      "Epoch 43/80\n",
      "1/1 [==============================] - 0s 94ms/step - loss: 38.8718 - mean_absolute_error: 5.1870\n",
      "Epoch 44/80\n",
      "1/1 [==============================] - 0s 103ms/step - loss: 51.8182 - mean_absolute_error: 5.9421\n",
      "Epoch 45/80\n",
      "1/1 [==============================] - 0s 92ms/step - loss: 63.8873 - mean_absolute_error: 6.6202\n",
      "Epoch 46/80\n",
      "1/1 [==============================] - 0s 95ms/step - loss: 73.3746 - mean_absolute_error: 7.2255\n",
      "Epoch 47/80\n",
      "1/1 [==============================] - 0s 95ms/step - loss: 79.3252 - mean_absolute_error: 7.5813\n",
      "Epoch 48/80\n",
      "1/1 [==============================] - 0s 100ms/step - loss: 81.4701 - mean_absolute_error: 7.7095\n",
      "Epoch 49/80\n",
      "1/1 [==============================] - 0s 93ms/step - loss: 79.9663 - mean_absolute_error: 7.6308\n",
      "Epoch 50/80\n",
      "1/1 [==============================] - 0s 114ms/step - loss: 75.2654 - mean_absolute_error: 7.3654\n",
      "Epoch 51/80\n",
      "1/1 [==============================] - 0s 128ms/step - loss: 68.1041 - mean_absolute_error: 6.9361\n",
      "Epoch 52/80\n",
      "1/1 [==============================] - 0s 93ms/step - loss: 59.3151 - mean_absolute_error: 6.3716\n",
      "Epoch 53/80\n",
      "1/1 [==============================] - 0s 91ms/step - loss: 49.8111 - mean_absolute_error: 5.8146\n",
      "Epoch 54/80\n",
      "1/1 [==============================] - 0s 99ms/step - loss: 40.5130 - mean_absolute_error: 5.2518\n",
      "Epoch 55/80\n",
      "1/1 [==============================] - 0s 91ms/step - loss: 32.2090 - mean_absolute_error: 4.7311\n",
      "Epoch 56/80\n",
      "1/1 [==============================] - 0s 92ms/step - loss: 25.5429 - mean_absolute_error: 4.2990\n",
      "Epoch 57/80\n",
      "1/1 [==============================] - 0s 101ms/step - loss: 20.9251 - mean_absolute_error: 3.9985\n",
      "Epoch 58/80\n",
      "1/1 [==============================] - 0s 102ms/step - loss: 18.4968 - mean_absolute_error: 3.8013\n",
      "Epoch 59/80\n",
      "1/1 [==============================] - 0s 101ms/step - loss: 18.0755 - mean_absolute_error: 3.7197\n",
      "Epoch 60/80\n",
      "1/1 [==============================] - 0s 97ms/step - loss: 19.2403 - mean_absolute_error: 3.6477\n",
      "Epoch 61/80\n",
      "1/1 [==============================] - 0s 98ms/step - loss: 21.3778 - mean_absolute_error: 3.7908\n",
      "Epoch 62/80\n",
      "1/1 [==============================] - 0s 98ms/step - loss: 23.8101 - mean_absolute_error: 4.0278\n",
      "Epoch 63/80\n",
      "1/1 [==============================] - 0s 118ms/step - loss: 25.8908 - mean_absolute_error: 4.2180\n",
      "Epoch 64/80\n",
      "1/1 [==============================] - 0s 122ms/step - loss: 27.1503 - mean_absolute_error: 4.3227\n",
      "Epoch 65/80\n",
      "1/1 [==============================] - 0s 94ms/step - loss: 27.3360 - mean_absolute_error: 4.3406\n",
      "Epoch 66/80\n",
      "1/1 [==============================] - 0s 113ms/step - loss: 26.4470 - mean_absolute_error: 4.2751\n",
      "Epoch 67/80\n",
      "1/1 [==============================] - 0s 101ms/step - loss: 24.7228 - mean_absolute_error: 4.1404\n",
      "Epoch 68/80\n",
      "1/1 [==============================] - 0s 92ms/step - loss: 22.5013 - mean_absolute_error: 3.9486\n",
      "Epoch 69/80\n",
      "1/1 [==============================] - 0s 102ms/step - loss: 20.1700 - mean_absolute_error: 3.7323\n",
      "Epoch 70/80\n",
      "1/1 [==============================] - 0s 113ms/step - loss: 18.0419 - mean_absolute_error: 3.5068\n",
      "Epoch 71/80\n",
      "1/1 [==============================] - 0s 103ms/step - loss: 16.3434 - mean_absolute_error: 3.3589\n",
      "Epoch 72/80\n",
      "1/1 [==============================] - 0s 104ms/step - loss: 15.1788 - mean_absolute_error: 3.3341\n",
      "Epoch 73/80\n",
      "1/1 [==============================] - 0s 96ms/step - loss: 14.5518 - mean_absolute_error: 3.3433\n",
      "Epoch 74/80\n",
      "1/1 [==============================] - 0s 91ms/step - loss: 14.3851 - mean_absolute_error: 3.3510\n",
      "Epoch 75/80\n",
      "1/1 [==============================] - 0s 97ms/step - loss: 14.5517 - mean_absolute_error: 3.3569\n",
      "Epoch 76/80\n",
      "1/1 [==============================] - 0s 99ms/step - loss: 14.9152 - mean_absolute_error: 3.3625\n",
      "Epoch 77/80\n",
      "1/1 [==============================] - 0s 117ms/step - loss: 15.3150 - mean_absolute_error: 3.3734\n",
      "Epoch 78/80\n",
      "1/1 [==============================] - 0s 124ms/step - loss: 15.6296 - mean_absolute_error: 3.3899\n",
      "Epoch 79/80\n",
      "1/1 [==============================] - 0s 107ms/step - loss: 15.7794 - mean_absolute_error: 3.3980\n",
      "Epoch 80/80\n",
      "1/1 [==============================] - 0s 107ms/step - loss: 15.7347 - mean_absolute_error: 3.3907\n"
     ]
    }
   ],
   "source": [
    "# callback = tf.keras.callbacks.EarlyStopping(monitor='loss', patience=3, restore_best_weights=True)\n",
    "history = ts_rnn_model.fit(X_ts, y_ts, epochs=NUM_EPOCHS, verbose=1, callbacks=[tensorboard_callback])"
   ]
  },
  {
   "cell_type": "code",
   "execution_count": 56,
   "id": "0fcaf9ce-3058-4170-b4ee-5eb495ac633a",
   "metadata": {},
   "outputs": [
    {
     "name": "stdout",
     "output_type": "stream",
     "text": [
      "====> Predicted Target\n",
      "[[45.76]\n",
      " [81.25]\n",
      " [92.8 ]\n",
      " [15.93]\n",
      " [95.31]\n",
      " [46.43]\n",
      " [48.62]\n",
      " [76.82]\n",
      " [81.75]\n",
      " [47.01]]\n",
      "====> Actual Target\n",
      "[50.41 81.5  96.5  14.44 99.43 43.72 46.26 80.98 80.03 50.55]\n",
      "====> Validation Metrics\n",
      "mean_absolute_error 3.3662376\n"
     ]
    },
    {
     "name": "stderr",
     "output_type": "stream",
     "text": [
      "2022-06-03 08:48:45.939901: I tensorflow/core/grappler/optimizers/custom_graph_optimizer_registry.cc:113] Plugin optimizer for device_type GPU is enabled.\n"
     ]
    }
   ],
   "source": [
    "get_valdn_metrics(ts_rnn_model, X_ts, y_ts, \n",
    "                  metrics=[tf.metrics.MeanAbsoluteError()])"
   ]
  },
  {
   "cell_type": "markdown",
   "id": "2096d95c-7430-46af-971a-cc20decd2f45",
   "metadata": {
    "tags": []
   },
   "source": [
    "#### LSTM"
   ]
  },
  {
   "cell_type": "code",
   "execution_count": 57,
   "id": "806e9185-d7bd-47f4-a68d-6c3d5e3dccf7",
   "metadata": {},
   "outputs": [
    {
     "name": "stdout",
     "output_type": "stream",
     "text": [
      "WARNING:tensorflow:Layer lstm_1 will not use cuDNN kernels since it doesn't meet the criteria. It will use a generic GPU kernel as fallback when running on GPU.\n",
      "Model: \"sequential_2\"\n",
      "_________________________________________________________________\n",
      " Layer (type)                Output Shape              Param #   \n",
      "=================================================================\n",
      " lstm_1 (LSTM)               (None, 50)                10800     \n",
      "                                                                 \n",
      " dense_2 (Dense)             (None, 1)                 51        \n",
      "                                                                 \n",
      "=================================================================\n",
      "Total params: 10,851\n",
      "Trainable params: 10,851\n",
      "Non-trainable params: 0\n",
      "_________________________________________________________________\n"
     ]
    }
   ],
   "source": [
    "ts_lstm_model = tf.keras.Sequential([\n",
    "    tf.keras.layers.LSTM(50, activation='relu', input_shape=(seq_len, n_feat_ts)),\n",
    "    tf.keras.layers.Dense(1)\n",
    "])\n",
    "\n",
    "ts_lstm_model.summary()"
   ]
  },
  {
   "cell_type": "code",
   "execution_count": 58,
   "id": "52bbb73c-8393-473f-95bc-8bd296dbe4e3",
   "metadata": {},
   "outputs": [],
   "source": [
    "ts_lstm_model.compile(loss='mse',\n",
    "                      optimizer='adam',\n",
    "                      metrics=[tf.metrics.MeanAbsoluteError()])"
   ]
  },
  {
   "cell_type": "code",
   "execution_count": 59,
   "id": "c54def23-5516-471e-be8e-a59e8ee0b33d",
   "metadata": {},
   "outputs": [],
   "source": [
    "logdir = os.path.join(\"logs/ts\", dt.datetime.now().strftime(\"%Y%m%d-%H%M%S\"))\n",
    "tensorboard_callback = tf.keras.callbacks.TensorBoard(logdir, histogram_freq=1)"
   ]
  },
  {
   "cell_type": "code",
   "execution_count": 60,
   "id": "11351a8d-4e2d-4eaf-bc5d-fa77a7f90151",
   "metadata": {},
   "outputs": [
    {
     "name": "stdout",
     "output_type": "stream",
     "text": [
      "Epoch 1/80\n"
     ]
    },
    {
     "name": "stderr",
     "output_type": "stream",
     "text": [
      "2022-06-03 08:48:46.462387: I tensorflow/core/grappler/optimizers/custom_graph_optimizer_registry.cc:113] Plugin optimizer for device_type GPU is enabled.\n"
     ]
    },
    {
     "name": "stdout",
     "output_type": "stream",
     "text": [
      "1/1 [==============================] - 1s 711ms/step - loss: 731.2966 - mean_absolute_error: 24.6460\n",
      "Epoch 2/80\n",
      "1/1 [==============================] - 0s 156ms/step - loss: 434.2357 - mean_absolute_error: 19.4689\n",
      "Epoch 3/80\n",
      "1/1 [==============================] - 0s 160ms/step - loss: 333.4176 - mean_absolute_error: 17.0258\n",
      "Epoch 4/80\n",
      "1/1 [==============================] - 0s 170ms/step - loss: 257.5239 - mean_absolute_error: 14.8345\n",
      "Epoch 5/80\n",
      "1/1 [==============================] - 0s 182ms/step - loss: 204.8922 - mean_absolute_error: 13.0250\n",
      "Epoch 6/80\n",
      "1/1 [==============================] - 0s 177ms/step - loss: 162.7633 - mean_absolute_error: 11.3212\n",
      "Epoch 7/80\n",
      "1/1 [==============================] - 0s 167ms/step - loss: 127.4312 - mean_absolute_error: 9.6326\n",
      "Epoch 8/80\n",
      "1/1 [==============================] - 0s 167ms/step - loss: 97.3414 - mean_absolute_error: 8.0259\n",
      "Epoch 9/80\n",
      "1/1 [==============================] - 0s 161ms/step - loss: 72.4135 - mean_absolute_error: 6.7274\n",
      "Epoch 10/80\n",
      "1/1 [==============================] - 0s 143ms/step - loss: 53.8156 - mean_absolute_error: 5.7998\n",
      "Epoch 11/80\n",
      "1/1 [==============================] - 0s 165ms/step - loss: 42.1048 - mean_absolute_error: 5.2117\n",
      "Epoch 12/80\n",
      "1/1 [==============================] - 0s 149ms/step - loss: 36.2135 - mean_absolute_error: 4.8658\n",
      "Epoch 13/80\n",
      "1/1 [==============================] - 0s 153ms/step - loss: 34.8341 - mean_absolute_error: 4.7014\n",
      "Epoch 14/80\n",
      "1/1 [==============================] - 0s 141ms/step - loss: 36.4585 - mean_absolute_error: 4.7054\n",
      "Epoch 15/80\n",
      "1/1 [==============================] - 0s 184ms/step - loss: 39.0564 - mean_absolute_error: 4.8974\n",
      "Epoch 16/80\n",
      "1/1 [==============================] - 0s 149ms/step - loss: 40.8167 - mean_absolute_error: 5.1577\n",
      "Epoch 17/80\n",
      "1/1 [==============================] - 0s 166ms/step - loss: 40.9312 - mean_absolute_error: 5.2664\n",
      "Epoch 18/80\n",
      "1/1 [==============================] - 0s 182ms/step - loss: 39.1760 - mean_absolute_error: 5.1539\n",
      "Epoch 19/80\n",
      "1/1 [==============================] - 0s 160ms/step - loss: 35.8734 - mean_absolute_error: 4.8734\n",
      "Epoch 20/80\n",
      "1/1 [==============================] - 0s 146ms/step - loss: 31.6338 - mean_absolute_error: 4.5052\n",
      "Epoch 21/80\n",
      "1/1 [==============================] - 0s 160ms/step - loss: 27.1368 - mean_absolute_error: 4.1651\n",
      "Epoch 22/80\n",
      "1/1 [==============================] - 0s 143ms/step - loss: 22.9772 - mean_absolute_error: 3.8604\n",
      "Epoch 23/80\n",
      "1/1 [==============================] - 0s 164ms/step - loss: 19.5048 - mean_absolute_error: 3.6489\n",
      "Epoch 24/80\n",
      "1/1 [==============================] - 0s 142ms/step - loss: 16.8747 - mean_absolute_error: 3.4780\n",
      "Epoch 25/80\n",
      "1/1 [==============================] - 0s 157ms/step - loss: 15.0833 - mean_absolute_error: 3.3195\n",
      "Epoch 26/80\n",
      "1/1 [==============================] - 0s 157ms/step - loss: 13.9926 - mean_absolute_error: 3.1938\n",
      "Epoch 27/80\n",
      "1/1 [==============================] - 0s 159ms/step - loss: 13.4016 - mean_absolute_error: 3.0659\n",
      "Epoch 28/80\n",
      "1/1 [==============================] - 0s 156ms/step - loss: 13.0843 - mean_absolute_error: 3.0170\n",
      "Epoch 29/80\n",
      "1/1 [==============================] - 0s 151ms/step - loss: 12.8112 - mean_absolute_error: 2.9507\n",
      "Epoch 30/80\n",
      "1/1 [==============================] - 0s 174ms/step - loss: 12.3951 - mean_absolute_error: 2.8746\n",
      "Epoch 31/80\n",
      "1/1 [==============================] - 0s 179ms/step - loss: 11.7064 - mean_absolute_error: 2.7946\n",
      "Epoch 32/80\n",
      "1/1 [==============================] - 0s 141ms/step - loss: 10.6754 - mean_absolute_error: 2.6580\n",
      "Epoch 33/80\n",
      "1/1 [==============================] - 0s 171ms/step - loss: 9.4163 - mean_absolute_error: 2.4917\n",
      "Epoch 34/80\n",
      "1/1 [==============================] - 0s 149ms/step - loss: 8.2201 - mean_absolute_error: 2.3194\n",
      "Epoch 35/80\n",
      "1/1 [==============================] - 0s 197ms/step - loss: 7.0711 - mean_absolute_error: 2.1795\n",
      "Epoch 36/80\n",
      "1/1 [==============================] - 0s 157ms/step - loss: 5.8536 - mean_absolute_error: 1.9958\n",
      "Epoch 37/80\n",
      "1/1 [==============================] - 0s 153ms/step - loss: 4.9184 - mean_absolute_error: 1.8034\n",
      "Epoch 38/80\n",
      "1/1 [==============================] - 0s 149ms/step - loss: 5.4252 - mean_absolute_error: 1.9346\n",
      "Epoch 39/80\n",
      "1/1 [==============================] - 0s 154ms/step - loss: 4.3181 - mean_absolute_error: 1.6599\n",
      "Epoch 40/80\n",
      "1/1 [==============================] - 0s 145ms/step - loss: 3.7919 - mean_absolute_error: 1.5225\n",
      "Epoch 41/80\n",
      "1/1 [==============================] - 0s 155ms/step - loss: 3.1216 - mean_absolute_error: 1.4303\n",
      "Epoch 42/80\n",
      "1/1 [==============================] - 0s 164ms/step - loss: 2.5041 - mean_absolute_error: 1.3346\n",
      "Epoch 43/80\n",
      "1/1 [==============================] - 0s 158ms/step - loss: 2.1644 - mean_absolute_error: 1.2331\n",
      "Epoch 44/80\n",
      "1/1 [==============================] - 0s 157ms/step - loss: 1.9878 - mean_absolute_error: 1.1666\n",
      "Epoch 45/80\n",
      "1/1 [==============================] - 0s 138ms/step - loss: 1.7339 - mean_absolute_error: 1.0524\n",
      "Epoch 46/80\n",
      "1/1 [==============================] - 0s 178ms/step - loss: 1.5100 - mean_absolute_error: 0.9673\n",
      "Epoch 47/80\n",
      "1/1 [==============================] - 0s 146ms/step - loss: 1.7205 - mean_absolute_error: 1.0696\n",
      "Epoch 48/80\n",
      "1/1 [==============================] - 0s 160ms/step - loss: 1.6749 - mean_absolute_error: 1.0486\n",
      "Epoch 49/80\n",
      "1/1 [==============================] - 0s 154ms/step - loss: 1.5000 - mean_absolute_error: 0.9231\n",
      "Epoch 50/80\n",
      "1/1 [==============================] - 0s 155ms/step - loss: 1.5171 - mean_absolute_error: 0.9439\n",
      "Epoch 51/80\n",
      "1/1 [==============================] - 0s 143ms/step - loss: 1.3919 - mean_absolute_error: 0.9072\n",
      "Epoch 52/80\n",
      "1/1 [==============================] - 0s 166ms/step - loss: 1.2132 - mean_absolute_error: 0.8083\n",
      "Epoch 53/80\n",
      "1/1 [==============================] - 0s 154ms/step - loss: 1.2300 - mean_absolute_error: 0.8961\n",
      "Epoch 54/80\n",
      "1/1 [==============================] - 0s 163ms/step - loss: 1.2826 - mean_absolute_error: 0.9392\n",
      "Epoch 55/80\n",
      "1/1 [==============================] - 0s 202ms/step - loss: 1.2042 - mean_absolute_error: 0.9172\n",
      "Epoch 56/80\n",
      "1/1 [==============================] - 0s 174ms/step - loss: 1.1227 - mean_absolute_error: 0.8792\n",
      "Epoch 57/80\n",
      "1/1 [==============================] - 0s 152ms/step - loss: 1.0860 - mean_absolute_error: 0.8916\n",
      "Epoch 58/80\n",
      "1/1 [==============================] - 0s 189ms/step - loss: 0.9904 - mean_absolute_error: 0.8415\n",
      "Epoch 59/80\n",
      "1/1 [==============================] - 0s 159ms/step - loss: 0.8287 - mean_absolute_error: 0.7333\n",
      "Epoch 60/80\n",
      "1/1 [==============================] - 0s 153ms/step - loss: 0.7145 - mean_absolute_error: 0.6524\n",
      "Epoch 61/80\n",
      "1/1 [==============================] - 0s 175ms/step - loss: 0.6798 - mean_absolute_error: 0.6466\n",
      "Epoch 62/80\n",
      "1/1 [==============================] - 0s 166ms/step - loss: 0.6173 - mean_absolute_error: 0.6086\n",
      "Epoch 63/80\n",
      "1/1 [==============================] - 0s 169ms/step - loss: 0.5275 - mean_absolute_error: 0.5284\n",
      "Epoch 64/80\n",
      "1/1 [==============================] - 0s 150ms/step - loss: 0.4916 - mean_absolute_error: 0.4810\n",
      "Epoch 65/80\n",
      "1/1 [==============================] - 0s 169ms/step - loss: 0.4770 - mean_absolute_error: 0.5036\n",
      "Epoch 66/80\n",
      "1/1 [==============================] - 0s 145ms/step - loss: 0.4262 - mean_absolute_error: 0.4750\n",
      "Epoch 67/80\n",
      "1/1 [==============================] - 0s 155ms/step - loss: 0.3689 - mean_absolute_error: 0.4316\n",
      "Epoch 68/80\n",
      "1/1 [==============================] - 0s 174ms/step - loss: 0.3464 - mean_absolute_error: 0.4639\n",
      "Epoch 69/80\n",
      "1/1 [==============================] - 0s 140ms/step - loss: 0.3259 - mean_absolute_error: 0.4698\n",
      "Epoch 70/80\n",
      "1/1 [==============================] - 0s 157ms/step - loss: 0.2802 - mean_absolute_error: 0.4149\n",
      "Epoch 71/80\n",
      "1/1 [==============================] - 0s 166ms/step - loss: 0.2433 - mean_absolute_error: 0.3842\n",
      "Epoch 72/80\n",
      "1/1 [==============================] - 0s 146ms/step - loss: 0.2278 - mean_absolute_error: 0.3952\n",
      "Epoch 73/80\n",
      "1/1 [==============================] - 0s 157ms/step - loss: 0.2064 - mean_absolute_error: 0.3789\n",
      "Epoch 74/80\n",
      "1/1 [==============================] - 0s 141ms/step - loss: 0.1761 - mean_absolute_error: 0.3287\n",
      "Epoch 75/80\n",
      "1/1 [==============================] - 0s 160ms/step - loss: 0.1649 - mean_absolute_error: 0.3131\n",
      "Epoch 76/80\n",
      "1/1 [==============================] - 0s 139ms/step - loss: 0.1559 - mean_absolute_error: 0.3004\n",
      "Epoch 77/80\n",
      "1/1 [==============================] - 0s 162ms/step - loss: 0.1314 - mean_absolute_error: 0.2819\n",
      "Epoch 78/80\n",
      "1/1 [==============================] - 0s 152ms/step - loss: 0.1179 - mean_absolute_error: 0.2802\n",
      "Epoch 79/80\n",
      "1/1 [==============================] - 0s 140ms/step - loss: 0.1179 - mean_absolute_error: 0.2869\n",
      "Epoch 80/80\n",
      "1/1 [==============================] - 0s 170ms/step - loss: 0.1117 - mean_absolute_error: 0.2757\n"
     ]
    }
   ],
   "source": [
    "# callback = tf.keras.callbacks.EarlyStopping(monitor='loss', patience=3, restore_best_weights=True)\n",
    "history = ts_lstm_model.fit(X_ts, y_ts, epochs=NUM_EPOCHS, verbose=1, callbacks=[tensorboard_callback])"
   ]
  },
  {
   "cell_type": "markdown",
   "id": "7ca1673a-680d-4264-80a9-c1b349c73850",
   "metadata": {},
   "source": [
    "For tf.keras.layers.LSTM model we need inputs with shape `[batch_size, n_timesteps, n_features]`"
   ]
  },
  {
   "cell_type": "code",
   "execution_count": 61,
   "id": "f0f0e55c-f9bd-4fb3-a6d1-1d3ce72695a0",
   "metadata": {},
   "outputs": [
    {
     "data": {
      "text/html": [
       "\n",
       "      <iframe id=\"tensorboard-frame-259b1530532a8762\" width=\"100%\" height=\"800\" frameborder=\"0\">\n",
       "      </iframe>\n",
       "      <script>\n",
       "        (function() {\n",
       "          const frame = document.getElementById(\"tensorboard-frame-259b1530532a8762\");\n",
       "          const url = new URL(\"/\", window.location);\n",
       "          const port = 6008;\n",
       "          if (port) {\n",
       "            url.port = port;\n",
       "          }\n",
       "          frame.src = url;\n",
       "        })();\n",
       "      </script>\n",
       "    "
      ],
      "text/plain": [
       "<IPython.core.display.HTML object>"
      ]
     },
     "metadata": {},
     "output_type": "display_data"
    }
   ],
   "source": [
    "%tensorboard --logdir logs/ts"
   ]
  },
  {
   "cell_type": "code",
   "execution_count": 62,
   "id": "71694f6a-b126-40d1-9501-80445659ef5f",
   "metadata": {},
   "outputs": [
    {
     "name": "stdout",
     "output_type": "stream",
     "text": [
      "====> Predicted Target\n",
      "[[50.44]\n",
      " [81.58]\n",
      " [96.48]\n",
      " [14.43]\n",
      " [99.28]\n",
      " [43.86]\n",
      " [45.69]\n",
      " [80.75]\n",
      " [80.33]\n",
      " [50.26]]\n",
      "====> Actual Target\n",
      "[50.41 81.5  96.5  14.44 99.43 43.72 46.26 80.98 80.03 50.55]\n",
      "====> Validation Metrics\n",
      "mean_absolute_error 0.25024873\n",
      "mean_absolute_percentage_error 69.43687\n"
     ]
    },
    {
     "name": "stderr",
     "output_type": "stream",
     "text": [
      "2022-06-03 08:49:21.057427: I tensorflow/core/grappler/optimizers/custom_graph_optimizer_registry.cc:113] Plugin optimizer for device_type GPU is enabled.\n"
     ]
    }
   ],
   "source": [
    "metrics = [tf.metrics.MeanAbsoluteError(), tf.keras.losses.MeanAbsolutePercentageError()]\n",
    "get_valdn_metrics(ts_lstm_model, X_ts, y_ts, metrics=metrics)"
   ]
  },
  {
   "cell_type": "markdown",
   "id": "28b83c0d-68da-4309-8e86-46b7142605df",
   "metadata": {},
   "source": [
    "## Summary"
   ]
  },
  {
   "cell_type": "markdown",
   "id": "f1d0734d-6058-4e17-80be-8ef078e00171",
   "metadata": {},
   "source": [
    "### Similarities between Time Series and NLP Use case\n",
    "* Input data dimensions\n",
    "* Model training architecture (specifically everything before the last layer)\n",
    "\n",
    "### Differences between Time Series and NLP Use case\n",
    "Essentially a different ML problem - multi-class classification for NLP and regression for TS\n",
    "* Model architecture: \n",
    "    * Output dimension is usuallly different - 1 for TS and n for NLP (where n is the number of classes)\n",
    "    * Output layer is different - 1 linear unit for TS and n units with softmax for NLP\n",
    "* Loss function and metric is different during training:\n",
    "    * Loss: Categorical cross-entropy for NLP (multi-class classification) vs MSE for TS (regression)\n",
    "    * Metric(s): Accuracy for NLP vs MAE or MAPE for TS \n",
    " "
   ]
  },
  {
   "cell_type": "markdown",
   "id": "007d2ce8-f8f0-4ab4-a67c-23c20c559a34",
   "metadata": {},
   "source": [
    "## Extra Caveats\n",
    "This notebook shows very simple use cases of toy problems to get you started, where:\n",
    "* Patterns are very obvious and repeatable\n",
    "* There are no test sets involved"
   ]
  },
  {
   "cell_type": "code",
   "execution_count": null,
   "id": "00435fe9-7bac-41ff-b932-d20f2ec83fad",
   "metadata": {},
   "outputs": [],
   "source": []
  }
 ],
 "metadata": {
  "kernelspec": {
   "display_name": "py38",
   "language": "python",
   "name": "py38"
  },
  "language_info": {
   "codemirror_mode": {
    "name": "ipython",
    "version": 3
   },
   "file_extension": ".py",
   "mimetype": "text/x-python",
   "name": "python",
   "nbconvert_exporter": "python",
   "pygments_lexer": "ipython3",
   "version": "3.8.12"
  }
 },
 "nbformat": 4,
 "nbformat_minor": 5
}
